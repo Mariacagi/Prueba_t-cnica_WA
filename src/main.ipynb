{
 "metadata": {
  "language_info": {
   "codemirror_mode": {
    "name": "ipython",
    "version": 3
   },
   "file_extension": ".py",
   "mimetype": "text/x-python",
   "name": "python",
   "nbconvert_exporter": "python",
   "pygments_lexer": "ipython3",
   "version": "3.8.0"
  },
  "orig_nbformat": 2,
  "kernelspec": {
   "name": "python380jvsc74a57bd01baa965d5efe3ac65b79dfc60c0d706280b1da80fedb7760faf2759126c4f253",
   "display_name": "Python 3.8.0 64-bit"
  }
 },
 "nbformat": 4,
 "nbformat_minor": 2,
 "cells": [
  {
   "source": [
    "# Prueba Técnica - Wise Athena\n",
    "### Technical Test - Wise Athena"
   ],
   "cell_type": "markdown",
   "metadata": {}
  },
  {
   "source": [
    "## Accesos\n",
    "#### Access"
   ],
   "cell_type": "markdown",
   "metadata": {}
  },
  {
   "cell_type": "code",
   "execution_count": 1,
   "metadata": {},
   "outputs": [],
   "source": [
    "import os\n",
    "import sys"
   ]
  },
  {
   "cell_type": "code",
   "execution_count": 2,
   "metadata": {},
   "outputs": [
    {
     "output_type": "execute_result",
     "data": {
      "text/plain": [
       "'c:\\\\Users\\\\maria\\\\OneDrive\\\\Escritorio\\\\The_Bridge\\\\Visual_Studio_Code\\\\Python\\\\Prueba_t-cnica_WA\\\\src'"
      ]
     },
     "metadata": {},
     "execution_count": 2
    }
   ],
   "source": [
    "# Taking the path of this .ipynb\n",
    "os.getcwd()"
   ]
  },
  {
   "cell_type": "code",
   "execution_count": 3,
   "metadata": {},
   "outputs": [
    {
     "output_type": "execute_result",
     "data": {
      "text/plain": [
       "'c:\\\\Users\\\\maria\\\\OneDrive\\\\Escritorio\\\\The_Bridge\\\\Visual_Studio_Code\\\\Python\\\\Prueba_t-cnica_WA'"
      ]
     },
     "metadata": {},
     "execution_count": 3
    }
   ],
   "source": [
    "# Jumping to the previous folder\n",
    "rooth_path = os.path.dirname(os.getcwd())\n",
    "rooth_path"
   ]
  },
  {
   "cell_type": "code",
   "execution_count": 4,
   "metadata": {},
   "outputs": [
    {
     "output_type": "execute_result",
     "data": {
      "text/plain": [
       "['C:\\\\Program Files\\\\Python38',\n",
       " '',\n",
       " 'C:\\\\Program Files\\\\Python38\\\\python38.zip',\n",
       " 'C:\\\\Program Files\\\\Python38\\\\lib',\n",
       " 'C:\\\\Program Files\\\\Python38\\\\DLLs',\n",
       " 'C:\\\\Program Files\\\\Python38\\\\lib\\\\site-packages\\\\win32',\n",
       " 'C:\\\\Program Files\\\\Python38\\\\lib\\\\site-packages\\\\Pythonwin',\n",
       " 'C:\\\\Program Files\\\\Python38\\\\lib\\\\site-packages\\\\IPython\\\\extensions',\n",
       " 'c:\\\\Users\\\\maria\\\\OneDrive\\\\Escritorio\\\\The_Bridge\\\\Visual_Studio_Code\\\\Python\\\\Prueba_t-cnica_WA',\n",
       " 'c:\\\\Users\\\\maria\\\\OneDrive\\\\Escritorio\\\\The_Bridge\\\\Visual_Studio_Code\\\\Python\\\\Prueba_t-cnica_WA\\\\src',\n",
       " 'c:\\\\Users\\\\maria\\\\.vscode\\\\extensions\\\\ms-toolsai.jupyter-2021.5.745244803\\\\pythonFiles',\n",
       " 'c:\\\\Users\\\\maria\\\\.vscode\\\\extensions\\\\ms-toolsai.jupyter-2021.5.745244803\\\\pythonFiles\\\\lib\\\\python',\n",
       " 'C:\\\\Users\\\\maria\\\\.ipython',\n",
       " 'C:\\\\Program Files\\\\Python38\\\\lib\\\\site-packages',\n",
       " 'C:\\\\Program Files\\\\Python38\\\\lib\\\\site-packages\\\\win32\\\\lib']"
      ]
     },
     "metadata": {},
     "execution_count": 4
    }
   ],
   "source": [
    "# Adding the previous folder to the sys.path so that anyone can run this script\n",
    "sys.path.append(rooth_path)\n",
    "sys.path = list(set(sys.path)) # To avoid duplicates in each run\n",
    "sys.path"
   ]
  },
  {
   "source": [
    "## Librerías\n",
    "### Libraries"
   ],
   "cell_type": "markdown",
   "metadata": {}
  },
  {
   "cell_type": "code",
   "execution_count": 5,
   "metadata": {},
   "outputs": [],
   "source": [
    "import pandas as pd\n",
    "pd.options.mode.chained_assignment = None  # default='warn'\n",
    "\n",
    "from src.utils.mining_data_tb import changing_dates, split_column, check_dupli_nan\n",
    "from src.utils.visualization_tb import histogram_figure, linediagram_figure, correlation_matrix, piechart_figure_6labels"
   ]
  },
  {
   "cell_type": "code",
   "execution_count": 6,
   "metadata": {},
   "outputs": [],
   "source": [
    "# from google.colab import drive\n",
    "# drive.mount(‘/content/drive’)"
   ]
  },
  {
   "source": [
    "## Lectura de csv\n",
    "### Read csv"
   ],
   "cell_type": "markdown",
   "metadata": {}
  },
  {
   "cell_type": "code",
   "execution_count": 7,
   "metadata": {},
   "outputs": [],
   "source": [
    "sellin = pd.read_csv(\"../data/sellin.csv\", sep=\",\")\n",
    "sellout_prov1 = pd.read_csv(\"../data/sellout-proveedor1.csv\", sep=\",\")\n",
    "sellout_prov2 = pd.read_csv(\"../data/sellout-proveedor2.csv\", sep=\",\")\n",
    "maestro_prod = pd.read_csv(\"../data/maestro_productos_prueba.csv\", sep=\",\")\n",
    "maestro_client = pd.read_excel(\"../data/maestro_clientes_prueba.xlsx\",  engine='openpyxl')"
   ]
  },
  {
   "source": [
    "## Entendiendo los datos\n",
    "### Understanding Data"
   ],
   "cell_type": "markdown",
   "metadata": {}
  },
  {
   "cell_type": "code",
   "execution_count": 8,
   "metadata": {},
   "outputs": [
    {
     "output_type": "execute_result",
     "data": {
      "text/plain": [
       "       Sku        Date  Store_Id  Pieces  Price  Margin\n",
       "0  4220015  02/01/2015       100    20.0  13.01    9.78\n",
       "1  4220015  02/01/2015       116    20.0  13.01    9.78\n",
       "2  4220015  02/01/2015       141    80.0  13.01    9.78\n",
       "3  4220015  02/01/2015       146    10.0  13.01    9.78\n",
       "4  4220015  02/01/2015       151    20.0  13.09    9.87"
      ],
      "text/html": "<div>\n<style scoped>\n    .dataframe tbody tr th:only-of-type {\n        vertical-align: middle;\n    }\n\n    .dataframe tbody tr th {\n        vertical-align: top;\n    }\n\n    .dataframe thead th {\n        text-align: right;\n    }\n</style>\n<table border=\"1\" class=\"dataframe\">\n  <thead>\n    <tr style=\"text-align: right;\">\n      <th></th>\n      <th>Sku</th>\n      <th>Date</th>\n      <th>Store_Id</th>\n      <th>Pieces</th>\n      <th>Price</th>\n      <th>Margin</th>\n    </tr>\n  </thead>\n  <tbody>\n    <tr>\n      <th>0</th>\n      <td>4220015</td>\n      <td>02/01/2015</td>\n      <td>100</td>\n      <td>20.0</td>\n      <td>13.01</td>\n      <td>9.78</td>\n    </tr>\n    <tr>\n      <th>1</th>\n      <td>4220015</td>\n      <td>02/01/2015</td>\n      <td>116</td>\n      <td>20.0</td>\n      <td>13.01</td>\n      <td>9.78</td>\n    </tr>\n    <tr>\n      <th>2</th>\n      <td>4220015</td>\n      <td>02/01/2015</td>\n      <td>141</td>\n      <td>80.0</td>\n      <td>13.01</td>\n      <td>9.78</td>\n    </tr>\n    <tr>\n      <th>3</th>\n      <td>4220015</td>\n      <td>02/01/2015</td>\n      <td>146</td>\n      <td>10.0</td>\n      <td>13.01</td>\n      <td>9.78</td>\n    </tr>\n    <tr>\n      <th>4</th>\n      <td>4220015</td>\n      <td>02/01/2015</td>\n      <td>151</td>\n      <td>20.0</td>\n      <td>13.09</td>\n      <td>9.87</td>\n    </tr>\n  </tbody>\n</table>\n</div>"
     },
     "metadata": {},
     "execution_count": 8
    }
   ],
   "source": [
    "# Sellin: purchase from our client to supliers EX: Danone to Carrefour\n",
    "sellin.head()"
   ]
  },
  {
   "cell_type": "code",
   "execution_count": 9,
   "metadata": {},
   "outputs": [
    {
     "output_type": "execute_result",
     "data": {
      "text/plain": [
       "       Sku                         Date  Store_Id  Units  Price\n",
       "0  4220015  2017-01-01 SO Diaria Piezas        18    6.0   15.6\n",
       "1  4220015  2017-01-01 SO Diaria Piezas        24    0.0    0.0\n",
       "2  4220015  2017-01-01 SO Diaria Piezas        39    0.0    0.0\n",
       "3  4220015  2017-01-01 SO Diaria Piezas        44    0.0    0.0\n",
       "4  4220015  2017-01-01 SO Diaria Piezas        46    0.0    0.0"
      ],
      "text/html": "<div>\n<style scoped>\n    .dataframe tbody tr th:only-of-type {\n        vertical-align: middle;\n    }\n\n    .dataframe tbody tr th {\n        vertical-align: top;\n    }\n\n    .dataframe thead th {\n        text-align: right;\n    }\n</style>\n<table border=\"1\" class=\"dataframe\">\n  <thead>\n    <tr style=\"text-align: right;\">\n      <th></th>\n      <th>Sku</th>\n      <th>Date</th>\n      <th>Store_Id</th>\n      <th>Units</th>\n      <th>Price</th>\n    </tr>\n  </thead>\n  <tbody>\n    <tr>\n      <th>0</th>\n      <td>4220015</td>\n      <td>2017-01-01 SO Diaria Piezas</td>\n      <td>18</td>\n      <td>6.0</td>\n      <td>15.6</td>\n    </tr>\n    <tr>\n      <th>1</th>\n      <td>4220015</td>\n      <td>2017-01-01 SO Diaria Piezas</td>\n      <td>24</td>\n      <td>0.0</td>\n      <td>0.0</td>\n    </tr>\n    <tr>\n      <th>2</th>\n      <td>4220015</td>\n      <td>2017-01-01 SO Diaria Piezas</td>\n      <td>39</td>\n      <td>0.0</td>\n      <td>0.0</td>\n    </tr>\n    <tr>\n      <th>3</th>\n      <td>4220015</td>\n      <td>2017-01-01 SO Diaria Piezas</td>\n      <td>44</td>\n      <td>0.0</td>\n      <td>0.0</td>\n    </tr>\n    <tr>\n      <th>4</th>\n      <td>4220015</td>\n      <td>2017-01-01 SO Diaria Piezas</td>\n      <td>46</td>\n      <td>0.0</td>\n      <td>0.0</td>\n    </tr>\n  </tbody>\n</table>\n</div>"
     },
     "metadata": {},
     "execution_count": 9
    }
   ],
   "source": [
    "# Sellout_prov1: purchase from the first suplier to final client EX: Carrefour to final user\n",
    "sellout_prov1.head()"
   ]
  },
  {
   "cell_type": "code",
   "execution_count": 10,
   "metadata": {},
   "outputs": [
    {
     "output_type": "execute_result",
     "data": {
      "text/plain": [
       "       Sku        Date  Store_Id  Pieces   Price\n",
       "0  4240039  2016/01/01      1000    23.0  $16.00\n",
       "1  4240039  2016/01/01      1001   116.0  $16.00\n",
       "2  4240039  2016/01/01      1002   146.0  $16.00\n",
       "3  4240039  2016/01/01      1003    17.0  $16.80\n",
       "4  4240039  2016/01/01      1004     5.0  $16.70"
      ],
      "text/html": "<div>\n<style scoped>\n    .dataframe tbody tr th:only-of-type {\n        vertical-align: middle;\n    }\n\n    .dataframe tbody tr th {\n        vertical-align: top;\n    }\n\n    .dataframe thead th {\n        text-align: right;\n    }\n</style>\n<table border=\"1\" class=\"dataframe\">\n  <thead>\n    <tr style=\"text-align: right;\">\n      <th></th>\n      <th>Sku</th>\n      <th>Date</th>\n      <th>Store_Id</th>\n      <th>Pieces</th>\n      <th>Price</th>\n    </tr>\n  </thead>\n  <tbody>\n    <tr>\n      <th>0</th>\n      <td>4240039</td>\n      <td>2016/01/01</td>\n      <td>1000</td>\n      <td>23.0</td>\n      <td>$16.00</td>\n    </tr>\n    <tr>\n      <th>1</th>\n      <td>4240039</td>\n      <td>2016/01/01</td>\n      <td>1001</td>\n      <td>116.0</td>\n      <td>$16.00</td>\n    </tr>\n    <tr>\n      <th>2</th>\n      <td>4240039</td>\n      <td>2016/01/01</td>\n      <td>1002</td>\n      <td>146.0</td>\n      <td>$16.00</td>\n    </tr>\n    <tr>\n      <th>3</th>\n      <td>4240039</td>\n      <td>2016/01/01</td>\n      <td>1003</td>\n      <td>17.0</td>\n      <td>$16.80</td>\n    </tr>\n    <tr>\n      <th>4</th>\n      <td>4240039</td>\n      <td>2016/01/01</td>\n      <td>1004</td>\n      <td>5.0</td>\n      <td>$16.70</td>\n    </tr>\n  </tbody>\n</table>\n</div>"
     },
     "metadata": {},
     "execution_count": 10
    }
   ],
   "source": [
    "# Sellout_prov2: purchase from the second suplier to final client EX: Mercadona to final user\n",
    "sellout_prov2.head()"
   ]
  },
  {
   "cell_type": "code",
   "execution_count": 11,
   "metadata": {},
   "outputs": [
    {
     "output_type": "execute_result",
     "data": {
      "text/plain": [
       "     Sku      Sku_Description   Sku_Category Sku_Subcategory\n",
       "0  11058       Frosted Mango      Sugar-free     Cereal bars\n",
       "1  29207  Nut Cheerios Mango   Super-flavour      Cereal box\n",
       "2  38379    MultiGrain Mango      Sugar-free     Cereal bars\n",
       "3  42671        Crunch Mango      Sugar-free     Cereal bars\n",
       "4  54644          Corn Mango      Sugar-free     Cereal bars"
      ],
      "text/html": "<div>\n<style scoped>\n    .dataframe tbody tr th:only-of-type {\n        vertical-align: middle;\n    }\n\n    .dataframe tbody tr th {\n        vertical-align: top;\n    }\n\n    .dataframe thead th {\n        text-align: right;\n    }\n</style>\n<table border=\"1\" class=\"dataframe\">\n  <thead>\n    <tr style=\"text-align: right;\">\n      <th></th>\n      <th>Sku</th>\n      <th>Sku_Description</th>\n      <th>Sku_Category</th>\n      <th>Sku_Subcategory</th>\n    </tr>\n  </thead>\n  <tbody>\n    <tr>\n      <th>0</th>\n      <td>11058</td>\n      <td>Frosted Mango</td>\n      <td>Sugar-free</td>\n      <td>Cereal bars</td>\n    </tr>\n    <tr>\n      <th>1</th>\n      <td>29207</td>\n      <td>Nut Cheerios Mango</td>\n      <td>Super-flavour</td>\n      <td>Cereal box</td>\n    </tr>\n    <tr>\n      <th>2</th>\n      <td>38379</td>\n      <td>MultiGrain Mango</td>\n      <td>Sugar-free</td>\n      <td>Cereal bars</td>\n    </tr>\n    <tr>\n      <th>3</th>\n      <td>42671</td>\n      <td>Crunch Mango</td>\n      <td>Sugar-free</td>\n      <td>Cereal bars</td>\n    </tr>\n    <tr>\n      <th>4</th>\n      <td>54644</td>\n      <td>Corn Mango</td>\n      <td>Sugar-free</td>\n      <td>Cereal bars</td>\n    </tr>\n  </tbody>\n</table>\n</div>"
     },
     "metadata": {},
     "execution_count": 11
    }
   ],
   "source": [
    "# Type of produts of our client and competitors\n",
    "maestro_prod.head()"
   ]
  },
  {
   "cell_type": "code",
   "execution_count": 12,
   "metadata": {},
   "outputs": [
    {
     "output_type": "execute_result",
     "data": {
      "text/plain": [
       "   NUM TDA              NOMBRE DE TDA       CADENA FORMATO  \\\n",
       "0        2  Bloody Sea Green BookShop  proveedor_1    Shop   \n",
       "1        4  Funny Sky Blue GipsyTrade  proveedor_1    Shop   \n",
       "2        5      Rare Green Laundrette  proveedor_1    Shop   \n",
       "3        6        Angry Indigo Center  proveedor_1    Shop   \n",
       "4        7           Tall Violet Deli  proveedor_1    Shop   \n",
       "\n",
       "       MUNICIPIO/CIUDAD   ESTADO DIVISION DEPOSITO / DISTRIBUIDOR  \\\n",
       "0    Bizarre White Shop  Coalmar  SURESTE          Mogulval Corp.   \n",
       "1    Bizarre White Shop  Coalmar  SURESTE          Mogulval Corp.   \n",
       "2  Rare Orange Applepie  Coalmar  SURESTE        Eioval Aerospace   \n",
       "3  Rare Orange Applepie  Coalmar  SURESTE        Eioval Aerospace   \n",
       "4  Rare Orange Applepie  Coalmar  SURESTE        Eioval Aerospace   \n",
       "\n",
       "       ESTRUCTURA GRADO  \n",
       "0  DISTRIBUIDORES    VI  \n",
       "1  DISTRIBUIDORES    VI  \n",
       "2         FORANEO    VI  \n",
       "3         FORANEO    VI  \n",
       "4         FORANEO    VI  "
      ],
      "text/html": "<div>\n<style scoped>\n    .dataframe tbody tr th:only-of-type {\n        vertical-align: middle;\n    }\n\n    .dataframe tbody tr th {\n        vertical-align: top;\n    }\n\n    .dataframe thead th {\n        text-align: right;\n    }\n</style>\n<table border=\"1\" class=\"dataframe\">\n  <thead>\n    <tr style=\"text-align: right;\">\n      <th></th>\n      <th>NUM TDA</th>\n      <th>NOMBRE DE TDA</th>\n      <th>CADENA</th>\n      <th>FORMATO</th>\n      <th>MUNICIPIO/CIUDAD</th>\n      <th>ESTADO</th>\n      <th>DIVISION</th>\n      <th>DEPOSITO / DISTRIBUIDOR</th>\n      <th>ESTRUCTURA</th>\n      <th>GRADO</th>\n    </tr>\n  </thead>\n  <tbody>\n    <tr>\n      <th>0</th>\n      <td>2</td>\n      <td>Bloody Sea Green BookShop</td>\n      <td>proveedor_1</td>\n      <td>Shop</td>\n      <td>Bizarre White Shop</td>\n      <td>Coalmar</td>\n      <td>SURESTE</td>\n      <td>Mogulval Corp.</td>\n      <td>DISTRIBUIDORES</td>\n      <td>VI</td>\n    </tr>\n    <tr>\n      <th>1</th>\n      <td>4</td>\n      <td>Funny Sky Blue GipsyTrade</td>\n      <td>proveedor_1</td>\n      <td>Shop</td>\n      <td>Bizarre White Shop</td>\n      <td>Coalmar</td>\n      <td>SURESTE</td>\n      <td>Mogulval Corp.</td>\n      <td>DISTRIBUIDORES</td>\n      <td>VI</td>\n    </tr>\n    <tr>\n      <th>2</th>\n      <td>5</td>\n      <td>Rare Green Laundrette</td>\n      <td>proveedor_1</td>\n      <td>Shop</td>\n      <td>Rare Orange Applepie</td>\n      <td>Coalmar</td>\n      <td>SURESTE</td>\n      <td>Eioval Aerospace</td>\n      <td>FORANEO</td>\n      <td>VI</td>\n    </tr>\n    <tr>\n      <th>3</th>\n      <td>6</td>\n      <td>Angry Indigo Center</td>\n      <td>proveedor_1</td>\n      <td>Shop</td>\n      <td>Rare Orange Applepie</td>\n      <td>Coalmar</td>\n      <td>SURESTE</td>\n      <td>Eioval Aerospace</td>\n      <td>FORANEO</td>\n      <td>VI</td>\n    </tr>\n    <tr>\n      <th>4</th>\n      <td>7</td>\n      <td>Tall Violet Deli</td>\n      <td>proveedor_1</td>\n      <td>Shop</td>\n      <td>Rare Orange Applepie</td>\n      <td>Coalmar</td>\n      <td>SURESTE</td>\n      <td>Eioval Aerospace</td>\n      <td>FORANEO</td>\n      <td>VI</td>\n    </tr>\n  </tbody>\n</table>\n</div>"
     },
     "metadata": {},
     "execution_count": 12
    }
   ],
   "source": [
    "# Shops and refer suppliers which sell their products\n",
    "maestro_client.head()"
   ]
  },
  {
   "cell_type": "code",
   "execution_count": 13,
   "metadata": {},
   "outputs": [
    {
     "output_type": "execute_result",
     "data": {
      "text/plain": [
       "array(['proveedor_1', 'proveedor_2'], dtype=object)"
      ]
     },
     "metadata": {},
     "execution_count": 13
    }
   ],
   "source": [
    "# Here we confirm we have only 2 different suppliers\n",
    "maestro_client.CADENA.unique()"
   ]
  },
  {
   "cell_type": "code",
   "execution_count": 14,
   "metadata": {},
   "outputs": [
    {
     "output_type": "execute_result",
     "data": {
      "text/plain": [
       "             Sku        Date  Store_Id  Pieces  Price  Margin\n",
       "22       4220015  02/01/2015      1150     5.0  12.59    9.36\n",
       "23       4220015  02/01/2015      1160     5.0  12.59    9.36\n",
       "24       4220015  02/01/2015      1161     0.0  12.59    9.36\n",
       "32       4220015  02/01/2015      1497     5.0  12.72    9.49\n",
       "74       4220015  02/01/2015      3765     5.0  12.59    9.36\n",
       "...          ...         ...       ...     ...    ...     ...\n",
       "4188052  4829827  17/05/2017      2093     0.0  20.51   14.62\n",
       "4188207  4829827  19/05/2017      3776     0.0  20.51   14.62\n",
       "4188281  4829827  20/05/2017      3834     0.0  20.51   14.62\n",
       "4188404  4829827  23/05/2017      3857     0.0  20.51   14.62\n",
       "4188601  4829827  29/05/2017      1124     0.0  20.51   14.62\n",
       "\n",
       "[70882 rows x 6 columns]"
      ],
      "text/html": "<div>\n<style scoped>\n    .dataframe tbody tr th:only-of-type {\n        vertical-align: middle;\n    }\n\n    .dataframe tbody tr th {\n        vertical-align: top;\n    }\n\n    .dataframe thead th {\n        text-align: right;\n    }\n</style>\n<table border=\"1\" class=\"dataframe\">\n  <thead>\n    <tr style=\"text-align: right;\">\n      <th></th>\n      <th>Sku</th>\n      <th>Date</th>\n      <th>Store_Id</th>\n      <th>Pieces</th>\n      <th>Price</th>\n      <th>Margin</th>\n    </tr>\n  </thead>\n  <tbody>\n    <tr>\n      <th>22</th>\n      <td>4220015</td>\n      <td>02/01/2015</td>\n      <td>1150</td>\n      <td>5.0</td>\n      <td>12.59</td>\n      <td>9.36</td>\n    </tr>\n    <tr>\n      <th>23</th>\n      <td>4220015</td>\n      <td>02/01/2015</td>\n      <td>1160</td>\n      <td>5.0</td>\n      <td>12.59</td>\n      <td>9.36</td>\n    </tr>\n    <tr>\n      <th>24</th>\n      <td>4220015</td>\n      <td>02/01/2015</td>\n      <td>1161</td>\n      <td>0.0</td>\n      <td>12.59</td>\n      <td>9.36</td>\n    </tr>\n    <tr>\n      <th>32</th>\n      <td>4220015</td>\n      <td>02/01/2015</td>\n      <td>1497</td>\n      <td>5.0</td>\n      <td>12.72</td>\n      <td>9.49</td>\n    </tr>\n    <tr>\n      <th>74</th>\n      <td>4220015</td>\n      <td>02/01/2015</td>\n      <td>3765</td>\n      <td>5.0</td>\n      <td>12.59</td>\n      <td>9.36</td>\n    </tr>\n    <tr>\n      <th>...</th>\n      <td>...</td>\n      <td>...</td>\n      <td>...</td>\n      <td>...</td>\n      <td>...</td>\n      <td>...</td>\n    </tr>\n    <tr>\n      <th>4188052</th>\n      <td>4829827</td>\n      <td>17/05/2017</td>\n      <td>2093</td>\n      <td>0.0</td>\n      <td>20.51</td>\n      <td>14.62</td>\n    </tr>\n    <tr>\n      <th>4188207</th>\n      <td>4829827</td>\n      <td>19/05/2017</td>\n      <td>3776</td>\n      <td>0.0</td>\n      <td>20.51</td>\n      <td>14.62</td>\n    </tr>\n    <tr>\n      <th>4188281</th>\n      <td>4829827</td>\n      <td>20/05/2017</td>\n      <td>3834</td>\n      <td>0.0</td>\n      <td>20.51</td>\n      <td>14.62</td>\n    </tr>\n    <tr>\n      <th>4188404</th>\n      <td>4829827</td>\n      <td>23/05/2017</td>\n      <td>3857</td>\n      <td>0.0</td>\n      <td>20.51</td>\n      <td>14.62</td>\n    </tr>\n    <tr>\n      <th>4188601</th>\n      <td>4829827</td>\n      <td>29/05/2017</td>\n      <td>1124</td>\n      <td>0.0</td>\n      <td>20.51</td>\n      <td>14.62</td>\n    </tr>\n  </tbody>\n</table>\n<p>70882 rows × 6 columns</p>\n</div>"
     },
     "metadata": {},
     "execution_count": 14
    }
   ],
   "source": [
    "# Here we saw that the column Margin doen't vary depending on the column pieces.\n",
    "sellin[(sellin[\"Pieces\"] == 0) | (sellin[\"Pieces\"] == 5)]"
   ]
  },
  {
   "source": [
    "Questions about:\n",
    "- Which supliers sells more?\n",
    "- Which product is the most sell? Which product minus?\n",
    "- How is the benefit of our client in average?\n",
    "- Which period is the most sell it?\n"
   ],
   "cell_type": "markdown",
   "metadata": {}
  },
  {
   "source": [
    "## Bucamos Null y duplicados\n",
    "### Checking for NaN and duplicates"
   ],
   "cell_type": "markdown",
   "metadata": {}
  },
  {
   "cell_type": "code",
   "execution_count": 15,
   "metadata": {},
   "outputs": [
    {
     "output_type": "stream",
     "name": "stdout",
     "text": [
      "sellin duplicates ----> True\n",
      "sellin null ----> False\n",
      "-------------------------- \n",
      "\n",
      "sellout_prov1 duplicates ----> False\n",
      "sellout_prov1 null ----> False\n",
      "-------------------------- \n",
      "\n",
      "sellout_prov2 duplicates ----> True\n",
      "sellout_prov2 null ----> False\n",
      "-------------------------- \n",
      "\n",
      "maestro_prod duplicates ----> False\n",
      "maestro_prod null ----> False\n",
      "-------------------------- \n",
      "\n",
      "maestro_client duplicates ----> False\n",
      "maestro_client null ----> False\n",
      "-------------------------- \n",
      "\n"
     ]
    }
   ],
   "source": [
    "# Here I imported a function from src.utils.mining_data_tb to check if there is any duplicate or nan by each DataFrame\n",
    "check_dupli_nan(\"sellin\", sellin)\n",
    "check_dupli_nan(\"sellout_prov1\", sellout_prov1)\n",
    "check_dupli_nan(\"sellout_prov2\", sellout_prov2)\n",
    "check_dupli_nan(\"maestro_prod\", maestro_prod)\n",
    "check_dupli_nan(\"maestro_client\", maestro_client)"
   ]
  },
  {
   "cell_type": "code",
   "execution_count": 16,
   "metadata": {},
   "outputs": [
    {
     "output_type": "stream",
     "name": "stdout",
     "text": [
      "sellin duplicates ----> False\n",
      "sellin null ----> False\n",
      "-------------------------- \n",
      "\n",
      "sellout_prov2 duplicates ----> False\n",
      "sellout_prov2 null ----> False\n",
      "-------------------------- \n",
      "\n"
     ]
    }
   ],
   "source": [
    "# Here I droped the duplicates and I did again the checkup\n",
    "sellin = sellin.drop_duplicates()\n",
    "check_dupli_nan(\"sellin\", sellin)\n",
    "\n",
    "sellout_prov2 = sellout_prov2.drop_duplicates()\n",
    "check_dupli_nan(\"sellout_prov2\", sellout_prov2)"
   ]
  },
  {
   "source": [
    "## Sellin csv"
   ],
   "cell_type": "markdown",
   "metadata": {}
  },
  {
   "cell_type": "code",
   "execution_count": 17,
   "metadata": {},
   "outputs": [
    {
     "output_type": "execute_result",
     "data": {
      "text/plain": [
       "       Sku        Date  Store_Id  Pieces  Price  Margin\n",
       "0  4220015  02/01/2015       100    20.0  13.01    9.78\n",
       "1  4220015  02/01/2015       116    20.0  13.01    9.78\n",
       "2  4220015  02/01/2015       141    80.0  13.01    9.78\n",
       "3  4220015  02/01/2015       146    10.0  13.01    9.78\n",
       "4  4220015  02/01/2015       151    20.0  13.09    9.87"
      ],
      "text/html": "<div>\n<style scoped>\n    .dataframe tbody tr th:only-of-type {\n        vertical-align: middle;\n    }\n\n    .dataframe tbody tr th {\n        vertical-align: top;\n    }\n\n    .dataframe thead th {\n        text-align: right;\n    }\n</style>\n<table border=\"1\" class=\"dataframe\">\n  <thead>\n    <tr style=\"text-align: right;\">\n      <th></th>\n      <th>Sku</th>\n      <th>Date</th>\n      <th>Store_Id</th>\n      <th>Pieces</th>\n      <th>Price</th>\n      <th>Margin</th>\n    </tr>\n  </thead>\n  <tbody>\n    <tr>\n      <th>0</th>\n      <td>4220015</td>\n      <td>02/01/2015</td>\n      <td>100</td>\n      <td>20.0</td>\n      <td>13.01</td>\n      <td>9.78</td>\n    </tr>\n    <tr>\n      <th>1</th>\n      <td>4220015</td>\n      <td>02/01/2015</td>\n      <td>116</td>\n      <td>20.0</td>\n      <td>13.01</td>\n      <td>9.78</td>\n    </tr>\n    <tr>\n      <th>2</th>\n      <td>4220015</td>\n      <td>02/01/2015</td>\n      <td>141</td>\n      <td>80.0</td>\n      <td>13.01</td>\n      <td>9.78</td>\n    </tr>\n    <tr>\n      <th>3</th>\n      <td>4220015</td>\n      <td>02/01/2015</td>\n      <td>146</td>\n      <td>10.0</td>\n      <td>13.01</td>\n      <td>9.78</td>\n    </tr>\n    <tr>\n      <th>4</th>\n      <td>4220015</td>\n      <td>02/01/2015</td>\n      <td>151</td>\n      <td>20.0</td>\n      <td>13.09</td>\n      <td>9.87</td>\n    </tr>\n  </tbody>\n</table>\n</div>"
     },
     "metadata": {},
     "execution_count": 17
    }
   ],
   "source": [
    "# Remembering how the dataframe is\n",
    "sellin.head()"
   ]
  },
  {
   "cell_type": "code",
   "execution_count": 18,
   "metadata": {},
   "outputs": [
    {
     "output_type": "stream",
     "name": "stdout",
     "text": [
      "<class 'pandas.core.frame.DataFrame'>\nInt64Index: 4188765 entries, 0 to 4188782\nData columns (total 6 columns):\n #   Column    Dtype  \n---  ------    -----  \n 0   Sku       int64  \n 1   Date      object \n 2   Store_Id  int64  \n 3   Pieces    float64\n 4   Price     float64\n 5   Margin    float64\ndtypes: float64(3), int64(2), object(1)\nmemory usage: 223.7+ MB\n"
     ]
    }
   ],
   "source": [
    "# Checking what type of format are the columns\n",
    "sellin.info()"
   ]
  },
  {
   "cell_type": "code",
   "execution_count": 19,
   "metadata": {},
   "outputs": [],
   "source": [
    "# Imported the function from src.utils.mining_data_tb to change the date from object to datetime format\n",
    "changing_dates(df=sellin, name_column=\"Date\")"
   ]
  },
  {
   "cell_type": "code",
   "execution_count": 20,
   "metadata": {},
   "outputs": [
    {
     "output_type": "stream",
     "name": "stdout",
     "text": [
      "<class 'pandas.core.frame.DataFrame'>\nInt64Index: 4188765 entries, 0 to 4188782\nData columns (total 6 columns):\n #   Column    Dtype         \n---  ------    -----         \n 0   Sku       int64         \n 1   Date      datetime64[ns]\n 2   Store_Id  int64         \n 3   Pieces    float64       \n 4   Price     float64       \n 5   Margin    float64       \ndtypes: datetime64[ns](1), float64(3), int64(2)\nmemory usage: 223.7 MB\n"
     ]
    }
   ],
   "source": [
    "# Checking the change of the Dtype of Date column was done well\n",
    "sellin.info()"
   ]
  },
  {
   "cell_type": "code",
   "execution_count": 21,
   "metadata": {},
   "outputs": [
    {
     "output_type": "execute_result",
     "data": {
      "text/plain": [
       "             Sku       Date  Store_Id  Pieces  Price  Margin\n",
       "1239443  4361050 2015-01-04        18   15.12  12.99   10.67\n",
       "3228928  4769520 2015-01-04      3372    4.80  35.54   27.38\n",
       "3228927  4769520 2015-01-04      3344    7.20  35.54   27.38\n",
       "3228926  4769520 2015-01-04      3323    7.20  35.54   27.38\n",
       "3228925  4769520 2015-01-04      3318    4.80  35.54   27.38\n",
       "...          ...        ...       ...     ...    ...     ...\n",
       "774678   4250046 2017-12-05      1086   12.00  15.17   10.66\n",
       "774679   4250046 2017-12-05      1108  108.00  15.17   10.66\n",
       "774680   4250046 2017-12-05      1110   48.00  15.17   10.66\n",
       "774682   4250046 2017-12-05      1150   12.00  15.17   10.66\n",
       "2103459  4523924 2017-12-05      1119    4.80  43.41   29.84\n",
       "\n",
       "[4188765 rows x 6 columns]"
      ],
      "text/html": "<div>\n<style scoped>\n    .dataframe tbody tr th:only-of-type {\n        vertical-align: middle;\n    }\n\n    .dataframe tbody tr th {\n        vertical-align: top;\n    }\n\n    .dataframe thead th {\n        text-align: right;\n    }\n</style>\n<table border=\"1\" class=\"dataframe\">\n  <thead>\n    <tr style=\"text-align: right;\">\n      <th></th>\n      <th>Sku</th>\n      <th>Date</th>\n      <th>Store_Id</th>\n      <th>Pieces</th>\n      <th>Price</th>\n      <th>Margin</th>\n    </tr>\n  </thead>\n  <tbody>\n    <tr>\n      <th>1239443</th>\n      <td>4361050</td>\n      <td>2015-01-04</td>\n      <td>18</td>\n      <td>15.12</td>\n      <td>12.99</td>\n      <td>10.67</td>\n    </tr>\n    <tr>\n      <th>3228928</th>\n      <td>4769520</td>\n      <td>2015-01-04</td>\n      <td>3372</td>\n      <td>4.80</td>\n      <td>35.54</td>\n      <td>27.38</td>\n    </tr>\n    <tr>\n      <th>3228927</th>\n      <td>4769520</td>\n      <td>2015-01-04</td>\n      <td>3344</td>\n      <td>7.20</td>\n      <td>35.54</td>\n      <td>27.38</td>\n    </tr>\n    <tr>\n      <th>3228926</th>\n      <td>4769520</td>\n      <td>2015-01-04</td>\n      <td>3323</td>\n      <td>7.20</td>\n      <td>35.54</td>\n      <td>27.38</td>\n    </tr>\n    <tr>\n      <th>3228925</th>\n      <td>4769520</td>\n      <td>2015-01-04</td>\n      <td>3318</td>\n      <td>4.80</td>\n      <td>35.54</td>\n      <td>27.38</td>\n    </tr>\n    <tr>\n      <th>...</th>\n      <td>...</td>\n      <td>...</td>\n      <td>...</td>\n      <td>...</td>\n      <td>...</td>\n      <td>...</td>\n    </tr>\n    <tr>\n      <th>774678</th>\n      <td>4250046</td>\n      <td>2017-12-05</td>\n      <td>1086</td>\n      <td>12.00</td>\n      <td>15.17</td>\n      <td>10.66</td>\n    </tr>\n    <tr>\n      <th>774679</th>\n      <td>4250046</td>\n      <td>2017-12-05</td>\n      <td>1108</td>\n      <td>108.00</td>\n      <td>15.17</td>\n      <td>10.66</td>\n    </tr>\n    <tr>\n      <th>774680</th>\n      <td>4250046</td>\n      <td>2017-12-05</td>\n      <td>1110</td>\n      <td>48.00</td>\n      <td>15.17</td>\n      <td>10.66</td>\n    </tr>\n    <tr>\n      <th>774682</th>\n      <td>4250046</td>\n      <td>2017-12-05</td>\n      <td>1150</td>\n      <td>12.00</td>\n      <td>15.17</td>\n      <td>10.66</td>\n    </tr>\n    <tr>\n      <th>2103459</th>\n      <td>4523924</td>\n      <td>2017-12-05</td>\n      <td>1119</td>\n      <td>4.80</td>\n      <td>43.41</td>\n      <td>29.84</td>\n    </tr>\n  </tbody>\n</table>\n<p>4188765 rows × 6 columns</p>\n</div>"
     },
     "metadata": {},
     "execution_count": 21
    }
   ],
   "source": [
    "# A fundamental part is select the product from X Date to Y Date, so it's important to sort the DataFrame by Date\n",
    "    # Here we can see that have been sold products from 2015 to 2017\n",
    "sellin.sort_values(\"Date\")"
   ]
  },
  {
   "source": [
    "## Sellout_prov1"
   ],
   "cell_type": "markdown",
   "metadata": {}
  },
  {
   "cell_type": "code",
   "execution_count": 22,
   "metadata": {},
   "outputs": [
    {
     "output_type": "execute_result",
     "data": {
      "text/plain": [
       "       Sku                         Date  Store_Id  Units  Price\n",
       "0  4220015  2017-01-01 SO Diaria Piezas        18    6.0   15.6\n",
       "1  4220015  2017-01-01 SO Diaria Piezas        24    0.0    0.0\n",
       "2  4220015  2017-01-01 SO Diaria Piezas        39    0.0    0.0\n",
       "3  4220015  2017-01-01 SO Diaria Piezas        44    0.0    0.0\n",
       "4  4220015  2017-01-01 SO Diaria Piezas        46    0.0    0.0"
      ],
      "text/html": "<div>\n<style scoped>\n    .dataframe tbody tr th:only-of-type {\n        vertical-align: middle;\n    }\n\n    .dataframe tbody tr th {\n        vertical-align: top;\n    }\n\n    .dataframe thead th {\n        text-align: right;\n    }\n</style>\n<table border=\"1\" class=\"dataframe\">\n  <thead>\n    <tr style=\"text-align: right;\">\n      <th></th>\n      <th>Sku</th>\n      <th>Date</th>\n      <th>Store_Id</th>\n      <th>Units</th>\n      <th>Price</th>\n    </tr>\n  </thead>\n  <tbody>\n    <tr>\n      <th>0</th>\n      <td>4220015</td>\n      <td>2017-01-01 SO Diaria Piezas</td>\n      <td>18</td>\n      <td>6.0</td>\n      <td>15.6</td>\n    </tr>\n    <tr>\n      <th>1</th>\n      <td>4220015</td>\n      <td>2017-01-01 SO Diaria Piezas</td>\n      <td>24</td>\n      <td>0.0</td>\n      <td>0.0</td>\n    </tr>\n    <tr>\n      <th>2</th>\n      <td>4220015</td>\n      <td>2017-01-01 SO Diaria Piezas</td>\n      <td>39</td>\n      <td>0.0</td>\n      <td>0.0</td>\n    </tr>\n    <tr>\n      <th>3</th>\n      <td>4220015</td>\n      <td>2017-01-01 SO Diaria Piezas</td>\n      <td>44</td>\n      <td>0.0</td>\n      <td>0.0</td>\n    </tr>\n    <tr>\n      <th>4</th>\n      <td>4220015</td>\n      <td>2017-01-01 SO Diaria Piezas</td>\n      <td>46</td>\n      <td>0.0</td>\n      <td>0.0</td>\n    </tr>\n  </tbody>\n</table>\n</div>"
     },
     "metadata": {},
     "execution_count": 22
    }
   ],
   "source": [
    "# Remembering how the dataframe is\n",
    "sellout_prov1.head()"
   ]
  },
  {
   "cell_type": "code",
   "execution_count": 23,
   "metadata": {},
   "outputs": [
    {
     "output_type": "execute_result",
     "data": {
      "text/plain": [
       "array(['2017-01-01 SO Diaria Piezas', '2017-01-02 SO Diaria Piezas',\n",
       "       '2017-01-03 SO Diaria Piezas', '2017-01-04 SO Diaria Piezas',\n",
       "       '2017-01-05 SO Diaria Piezas', '2017-01-06 SO Diaria Piezas',\n",
       "       '2017-01-07 SO Diaria Piezas', '2017-01-08 SO Diaria Piezas',\n",
       "       '2017-01-09 SO Diaria Piezas', '2017-01-10 SO Diaria Piezas',\n",
       "       '2017-01-11 SO Diaria Piezas', '2017-01-12 SO Diaria Piezas',\n",
       "       '2017-01-13 SO Diaria Piezas', '2017-01-14 SO Diaria Piezas',\n",
       "       '2017-01-15 SO Diaria Piezas', '2017-01-16 SO Diaria Piezas',\n",
       "       '2017-01-17 SO Diaria Piezas', '2017-01-18 SO Diaria Piezas',\n",
       "       '2017-01-19 SO Diaria Piezas', '2017-01-20 SO Diaria Piezas',\n",
       "       '2017-01-21 SO Diaria Piezas', '2017-01-22 SO Diaria Piezas',\n",
       "       '2017-01-23 SO Diaria Piezas', '2017-01-24 SO Diaria Piezas',\n",
       "       '2017-01-25 SO Diaria Piezas', '2017-01-26 SO Diaria Piezas',\n",
       "       '2017-01-27 SO Diaria Piezas', '2017-01-28 SO Diaria Piezas',\n",
       "       '2017-01-29 SO Diaria Piezas', '2017-01-30 SO Diaria Piezas',\n",
       "       '2017-01-31 SO Diaria Piezas', '2017-02-01 SO Diaria Piezas',\n",
       "       '2017-02-02 SO Diaria Piezas', '2017-02-03 SO Diaria Piezas',\n",
       "       '2017-02-04 SO Diaria Piezas', '2017-02-05 SO Diaria Piezas',\n",
       "       '2017-02-06 SO Diaria Piezas', '2017-02-07 SO Diaria Piezas',\n",
       "       '2017-02-08 SO Diaria Piezas', '2017-02-09 SO Diaria Piezas',\n",
       "       '2017-02-10 SO Diaria Piezas', '2017-02-11 SO Diaria Piezas',\n",
       "       '2017-02-12 SO Diaria Piezas', '2017-02-13 SO Diaria Piezas',\n",
       "       '2017-02-14 SO Diaria Piezas', '2017-02-15 SO Diaria Piezas',\n",
       "       '2017-02-16 SO Diaria Piezas', '2017-02-17 SO Diaria Piezas',\n",
       "       '2017-02-18 SO Diaria Piezas', '2017-02-19 SO Diaria Piezas',\n",
       "       '2017-02-20 SO Diaria Piezas', '2017-02-21 SO Diaria Piezas',\n",
       "       '2017-02-22 SO Diaria Piezas', '2017-02-23 SO Diaria Piezas',\n",
       "       '2017-02-24 SO Diaria Piezas', '2017-02-25 SO Diaria Piezas',\n",
       "       '2017-02-26 SO Diaria Piezas', '2017-02-27 SO Diaria Piezas',\n",
       "       '2017-02-28 SO Diaria Piezas', '2017-03-01 SO Diaria Piezas',\n",
       "       '2017-03-02 SO Diaria Piezas', '2017-03-03 SO Diaria Piezas',\n",
       "       '2017-03-04 SO Diaria Piezas', '2017-03-05 SO Diaria Piezas',\n",
       "       '2017-03-06 SO Diaria Piezas', '2017-03-07 SO Diaria Piezas',\n",
       "       '2017-03-08 SO Diaria Piezas', '2017-03-09 SO Diaria Piezas',\n",
       "       '2017-03-10 SO Diaria Piezas', '2017-03-11 SO Diaria Piezas',\n",
       "       '2017-03-12 SO Diaria Piezas', '2017-03-13 SO Diaria Piezas',\n",
       "       '2017-03-14 SO Diaria Piezas', '2017-03-15 SO Diaria Piezas',\n",
       "       '2017-03-16 SO Diaria Piezas', '2017-03-17 SO Diaria Piezas',\n",
       "       '2017-03-18 SO Diaria Piezas', '2017-03-19 SO Diaria Piezas',\n",
       "       '2017-03-20 SO Diaria Piezas', '2017-03-21 SO Diaria Piezas',\n",
       "       '2017-03-22 SO Diaria Piezas', '2017-03-23 SO Diaria Piezas',\n",
       "       '2017-03-24 SO Diaria Piezas', '2017-03-25 SO Diaria Piezas',\n",
       "       '2017-03-26 SO Diaria Piezas', '2017-03-27 SO Diaria Piezas',\n",
       "       '2017-03-28 SO Diaria Piezas', '2017-03-29 SO Diaria Piezas',\n",
       "       '2017-03-30 SO Diaria Piezas', '2017-03-31 SO Diaria Piezas',\n",
       "       '2017-04-01 SO Diaria Piezas', '2017-04-02 SO Diaria Piezas',\n",
       "       '2017-04-03 SO Diaria Piezas', '2017-04-04 SO Diaria Piezas',\n",
       "       '2017-04-05 SO Diaria Piezas', '2017-04-06 SO Diaria Piezas',\n",
       "       '2017-04-07 SO Diaria Piezas', '2017-04-08 SO Diaria Piezas',\n",
       "       '2017-04-09 SO Diaria Piezas', '2017-04-10 SO Diaria Piezas',\n",
       "       '2017-04-11 SO Diaria Piezas', '2017-04-12 SO Diaria Piezas',\n",
       "       '2017-04-13 SO Diaria Piezas', '2017-04-14 SO Diaria Piezas',\n",
       "       '2017-04-15 SO Diaria Piezas', '2017-04-16 SO Diaria Piezas',\n",
       "       '2017-04-17 SO Diaria Piezas', '2017-04-18 SO Diaria Piezas',\n",
       "       '2017-04-19 SO Diaria Piezas', '2017-04-20 SO Diaria Piezas',\n",
       "       '2017-04-21 SO Diaria Piezas', '2017-04-22 SO Diaria Piezas',\n",
       "       '2017-04-23 SO Diaria Piezas', '2017-04-24 SO Diaria Piezas',\n",
       "       '2017-04-25 SO Diaria Piezas', '2017-04-26 SO Diaria Piezas',\n",
       "       '2017-04-27 SO Diaria Piezas', '2017-04-28 SO Diaria Piezas',\n",
       "       '2017-04-29 SO Diaria Piezas', '2017-04-30 SO Diaria Piezas',\n",
       "       '2017-05-01 SO Diaria Piezas', '2017-05-02 SO Diaria Piezas',\n",
       "       '2017-05-03 SO Diaria Piezas', '2017-05-04 SO Diaria Piezas',\n",
       "       '2017-05-05 SO Diaria Piezas', '2017-05-06 SO Diaria Piezas',\n",
       "       '2017-05-07 SO Diaria Piezas', '2017-05-08 SO Diaria Piezas',\n",
       "       '2017-05-09 SO Diaria Piezas', '2017-05-10 SO Diaria Piezas',\n",
       "       '2017-05-11 SO Diaria Piezas', '2017-05-12 SO Diaria Piezas',\n",
       "       '2017-05-13 SO Diaria Piezas', '2017-05-14 SO Diaria Piezas',\n",
       "       '2017-05-15 SO Diaria Piezas', '2017-05-16 SO Diaria Piezas',\n",
       "       '2017-05-17 SO Diaria Piezas', '2017-05-18 SO Diaria Piezas',\n",
       "       '2017-05-19 SO Diaria Piezas', '2017-05-20 SO Diaria Piezas',\n",
       "       '2017-05-21 SO Diaria Piezas', '2017-05-22 SO Diaria Piezas',\n",
       "       '2017-05-23 SO Diaria Piezas', '2017-05-24 SO Diaria Piezas',\n",
       "       '2017-05-25 SO Diaria Piezas', '2017-05-26 SO Diaria Piezas',\n",
       "       '2017-05-27 SO Diaria Piezas', '2017-05-28 SO Diaria Piezas',\n",
       "       '2017-05-29 SO Diaria Piezas', '2017-05-30 SO Diaria Piezas',\n",
       "       '2017-05-31 SO Diaria Piezas', '2017-06-01 SO Diaria Piezas',\n",
       "       '2017-06-02 SO Diaria Piezas', '2017-06-03 SO Diaria Piezas',\n",
       "       '2017-06-04 SO Diaria Piezas'], dtype=object)"
      ]
     },
     "metadata": {},
     "execution_count": 23
    }
   ],
   "source": [
    "# Checking if SO Diaria Piezas is in all the cells of Date column\n",
    "sellout_prov1.Date.unique()"
   ]
  },
  {
   "cell_type": "code",
   "execution_count": 24,
   "metadata": {},
   "outputs": [],
   "source": [
    "# Imported a function from src.utils.mining_data_tb to split the column and delete SO Diaria Pieza\n",
    "split_column(df=sellout_prov1, column=\"Date\", separation_object=\" \", times=1)"
   ]
  },
  {
   "cell_type": "code",
   "execution_count": 25,
   "metadata": {},
   "outputs": [
    {
     "output_type": "execute_result",
     "data": {
      "text/plain": [
       "array(['2017-01-01', '2017-01-02', '2017-01-03', '2017-01-04',\n",
       "       '2017-01-05', '2017-01-06', '2017-01-07', '2017-01-08',\n",
       "       '2017-01-09', '2017-01-10', '2017-01-11', '2017-01-12',\n",
       "       '2017-01-13', '2017-01-14', '2017-01-15', '2017-01-16',\n",
       "       '2017-01-17', '2017-01-18', '2017-01-19', '2017-01-20',\n",
       "       '2017-01-21', '2017-01-22', '2017-01-23', '2017-01-24',\n",
       "       '2017-01-25', '2017-01-26', '2017-01-27', '2017-01-28',\n",
       "       '2017-01-29', '2017-01-30', '2017-01-31', '2017-02-01',\n",
       "       '2017-02-02', '2017-02-03', '2017-02-04', '2017-02-05',\n",
       "       '2017-02-06', '2017-02-07', '2017-02-08', '2017-02-09',\n",
       "       '2017-02-10', '2017-02-11', '2017-02-12', '2017-02-13',\n",
       "       '2017-02-14', '2017-02-15', '2017-02-16', '2017-02-17',\n",
       "       '2017-02-18', '2017-02-19', '2017-02-20', '2017-02-21',\n",
       "       '2017-02-22', '2017-02-23', '2017-02-24', '2017-02-25',\n",
       "       '2017-02-26', '2017-02-27', '2017-02-28', '2017-03-01',\n",
       "       '2017-03-02', '2017-03-03', '2017-03-04', '2017-03-05',\n",
       "       '2017-03-06', '2017-03-07', '2017-03-08', '2017-03-09',\n",
       "       '2017-03-10', '2017-03-11', '2017-03-12', '2017-03-13',\n",
       "       '2017-03-14', '2017-03-15', '2017-03-16', '2017-03-17',\n",
       "       '2017-03-18', '2017-03-19', '2017-03-20', '2017-03-21',\n",
       "       '2017-03-22', '2017-03-23', '2017-03-24', '2017-03-25',\n",
       "       '2017-03-26', '2017-03-27', '2017-03-28', '2017-03-29',\n",
       "       '2017-03-30', '2017-03-31', '2017-04-01', '2017-04-02',\n",
       "       '2017-04-03', '2017-04-04', '2017-04-05', '2017-04-06',\n",
       "       '2017-04-07', '2017-04-08', '2017-04-09', '2017-04-10',\n",
       "       '2017-04-11', '2017-04-12', '2017-04-13', '2017-04-14',\n",
       "       '2017-04-15', '2017-04-16', '2017-04-17', '2017-04-18',\n",
       "       '2017-04-19', '2017-04-20', '2017-04-21', '2017-04-22',\n",
       "       '2017-04-23', '2017-04-24', '2017-04-25', '2017-04-26',\n",
       "       '2017-04-27', '2017-04-28', '2017-04-29', '2017-04-30',\n",
       "       '2017-05-01', '2017-05-02', '2017-05-03', '2017-05-04',\n",
       "       '2017-05-05', '2017-05-06', '2017-05-07', '2017-05-08',\n",
       "       '2017-05-09', '2017-05-10', '2017-05-11', '2017-05-12',\n",
       "       '2017-05-13', '2017-05-14', '2017-05-15', '2017-05-16',\n",
       "       '2017-05-17', '2017-05-18', '2017-05-19', '2017-05-20',\n",
       "       '2017-05-21', '2017-05-22', '2017-05-23', '2017-05-24',\n",
       "       '2017-05-25', '2017-05-26', '2017-05-27', '2017-05-28',\n",
       "       '2017-05-29', '2017-05-30', '2017-05-31', '2017-06-01',\n",
       "       '2017-06-02', '2017-06-03', '2017-06-04'], dtype=object)"
      ]
     },
     "metadata": {},
     "execution_count": 25
    }
   ],
   "source": [
    "# Checking if the split was done well\n",
    "sellout_prov1.Date.unique()"
   ]
  },
  {
   "cell_type": "code",
   "execution_count": 26,
   "metadata": {},
   "outputs": [
    {
     "output_type": "stream",
     "name": "stdout",
     "text": [
      "<class 'pandas.core.frame.DataFrame'>\nRangeIndex: 1206365 entries, 0 to 1206364\nData columns (total 5 columns):\n #   Column    Non-Null Count    Dtype         \n---  ------    --------------    -----         \n 0   Sku       1206365 non-null  int64         \n 1   Date      1206365 non-null  datetime64[ns]\n 2   Store_Id  1206365 non-null  int64         \n 3   Units     1206365 non-null  float64       \n 4   Price     1206365 non-null  float64       \ndtypes: datetime64[ns](1), float64(2), int64(2)\nmemory usage: 46.0 MB\n"
     ]
    }
   ],
   "source": [
    "# Imported the function from src.utils.mining_data_tb to change the date from object to datetime format\n",
    "changing_dates(df=sellout_prov1, name_column=\"Date\")\n",
    "\n",
    "# Checking the change of the Dtype of Date column was done well\n",
    "sellout_prov1.info()"
   ]
  },
  {
   "cell_type": "code",
   "execution_count": 27,
   "metadata": {},
   "outputs": [
    {
     "output_type": "execute_result",
     "data": {
      "text/plain": [
       "             Sku       Date  Store_Id  Units      Price\n",
       "0        4220015 2017-01-01        18   6.00  15.600000\n",
       "293184   4422187 2017-01-01       102   0.50  22.000000\n",
       "293185   4422187 2017-01-01       105   1.00  22.000000\n",
       "293186   4422187 2017-01-01       106   1.50  22.000000\n",
       "293187   4422187 2017-01-01       107   0.00   0.000000\n",
       "...          ...        ...       ...    ...        ...\n",
       "485316   4533931 2017-06-04       112   1.35  56.666667\n",
       "485315   4533931 2017-06-04       111   4.50  56.666667\n",
       "485314   4533931 2017-06-04       110   0.00   0.000000\n",
       "485324   4533931 2017-06-04       121   6.30  56.666667\n",
       "1206364  4829827 2017-06-04       709   0.00   0.000000\n",
       "\n",
       "[1206365 rows x 5 columns]"
      ],
      "text/html": "<div>\n<style scoped>\n    .dataframe tbody tr th:only-of-type {\n        vertical-align: middle;\n    }\n\n    .dataframe tbody tr th {\n        vertical-align: top;\n    }\n\n    .dataframe thead th {\n        text-align: right;\n    }\n</style>\n<table border=\"1\" class=\"dataframe\">\n  <thead>\n    <tr style=\"text-align: right;\">\n      <th></th>\n      <th>Sku</th>\n      <th>Date</th>\n      <th>Store_Id</th>\n      <th>Units</th>\n      <th>Price</th>\n    </tr>\n  </thead>\n  <tbody>\n    <tr>\n      <th>0</th>\n      <td>4220015</td>\n      <td>2017-01-01</td>\n      <td>18</td>\n      <td>6.00</td>\n      <td>15.600000</td>\n    </tr>\n    <tr>\n      <th>293184</th>\n      <td>4422187</td>\n      <td>2017-01-01</td>\n      <td>102</td>\n      <td>0.50</td>\n      <td>22.000000</td>\n    </tr>\n    <tr>\n      <th>293185</th>\n      <td>4422187</td>\n      <td>2017-01-01</td>\n      <td>105</td>\n      <td>1.00</td>\n      <td>22.000000</td>\n    </tr>\n    <tr>\n      <th>293186</th>\n      <td>4422187</td>\n      <td>2017-01-01</td>\n      <td>106</td>\n      <td>1.50</td>\n      <td>22.000000</td>\n    </tr>\n    <tr>\n      <th>293187</th>\n      <td>4422187</td>\n      <td>2017-01-01</td>\n      <td>107</td>\n      <td>0.00</td>\n      <td>0.000000</td>\n    </tr>\n    <tr>\n      <th>...</th>\n      <td>...</td>\n      <td>...</td>\n      <td>...</td>\n      <td>...</td>\n      <td>...</td>\n    </tr>\n    <tr>\n      <th>485316</th>\n      <td>4533931</td>\n      <td>2017-06-04</td>\n      <td>112</td>\n      <td>1.35</td>\n      <td>56.666667</td>\n    </tr>\n    <tr>\n      <th>485315</th>\n      <td>4533931</td>\n      <td>2017-06-04</td>\n      <td>111</td>\n      <td>4.50</td>\n      <td>56.666667</td>\n    </tr>\n    <tr>\n      <th>485314</th>\n      <td>4533931</td>\n      <td>2017-06-04</td>\n      <td>110</td>\n      <td>0.00</td>\n      <td>0.000000</td>\n    </tr>\n    <tr>\n      <th>485324</th>\n      <td>4533931</td>\n      <td>2017-06-04</td>\n      <td>121</td>\n      <td>6.30</td>\n      <td>56.666667</td>\n    </tr>\n    <tr>\n      <th>1206364</th>\n      <td>4829827</td>\n      <td>2017-06-04</td>\n      <td>709</td>\n      <td>0.00</td>\n      <td>0.000000</td>\n    </tr>\n  </tbody>\n</table>\n<p>1206365 rows × 5 columns</p>\n</div>"
     },
     "metadata": {},
     "execution_count": 27
    }
   ],
   "source": [
    "# A fundamental part is select the product from X Date to Y Date, so it's important to sort the DataFrame by Date\n",
    "    # Here we can see that have been sold product only in 2017\n",
    "sellout_prov1.sort_values(\"Date\")"
   ]
  },
  {
   "source": [
    "## Sellout_prov2"
   ],
   "cell_type": "markdown",
   "metadata": {}
  },
  {
   "source": [
    "# Remembering how the dataframe is\n",
    "sellout_prov2.head()"
   ],
   "cell_type": "code",
   "metadata": {},
   "execution_count": 28,
   "outputs": [
    {
     "output_type": "execute_result",
     "data": {
      "text/plain": [
       "       Sku        Date  Store_Id  Pieces   Price\n",
       "0  4240039  2016/01/01      1000    23.0  $16.00\n",
       "1  4240039  2016/01/01      1001   116.0  $16.00\n",
       "2  4240039  2016/01/01      1002   146.0  $16.00\n",
       "3  4240039  2016/01/01      1003    17.0  $16.80\n",
       "4  4240039  2016/01/01      1004     5.0  $16.70"
      ],
      "text/html": "<div>\n<style scoped>\n    .dataframe tbody tr th:only-of-type {\n        vertical-align: middle;\n    }\n\n    .dataframe tbody tr th {\n        vertical-align: top;\n    }\n\n    .dataframe thead th {\n        text-align: right;\n    }\n</style>\n<table border=\"1\" class=\"dataframe\">\n  <thead>\n    <tr style=\"text-align: right;\">\n      <th></th>\n      <th>Sku</th>\n      <th>Date</th>\n      <th>Store_Id</th>\n      <th>Pieces</th>\n      <th>Price</th>\n    </tr>\n  </thead>\n  <tbody>\n    <tr>\n      <th>0</th>\n      <td>4240039</td>\n      <td>2016/01/01</td>\n      <td>1000</td>\n      <td>23.0</td>\n      <td>$16.00</td>\n    </tr>\n    <tr>\n      <th>1</th>\n      <td>4240039</td>\n      <td>2016/01/01</td>\n      <td>1001</td>\n      <td>116.0</td>\n      <td>$16.00</td>\n    </tr>\n    <tr>\n      <th>2</th>\n      <td>4240039</td>\n      <td>2016/01/01</td>\n      <td>1002</td>\n      <td>146.0</td>\n      <td>$16.00</td>\n    </tr>\n    <tr>\n      <th>3</th>\n      <td>4240039</td>\n      <td>2016/01/01</td>\n      <td>1003</td>\n      <td>17.0</td>\n      <td>$16.80</td>\n    </tr>\n    <tr>\n      <th>4</th>\n      <td>4240039</td>\n      <td>2016/01/01</td>\n      <td>1004</td>\n      <td>5.0</td>\n      <td>$16.70</td>\n    </tr>\n  </tbody>\n</table>\n</div>"
     },
     "metadata": {},
     "execution_count": 28
    }
   ]
  },
  {
   "cell_type": "code",
   "execution_count": 29,
   "metadata": {},
   "outputs": [
    {
     "output_type": "stream",
     "name": "stdout",
     "text": [
      "<class 'pandas.core.frame.DataFrame'>\nInt64Index: 4862026 entries, 0 to 4862028\nData columns (total 5 columns):\n #   Column    Dtype         \n---  ------    -----         \n 0   Sku       int64         \n 1   Date      datetime64[ns]\n 2   Store_Id  int64         \n 3   Pieces    float64       \n 4   Price     object        \ndtypes: datetime64[ns](1), float64(1), int64(2), object(1)\nmemory usage: 222.6+ MB\n"
     ]
    }
   ],
   "source": [
    "# Imported the function from src.utils.mining_data_tb to change the date from object to datetime format\n",
    "changing_dates(df=sellout_prov2, name_column=\"Date\")\n",
    "\n",
    "# Checking if the format is the correct one\n",
    "sellout_prov2.info()"
   ]
  },
  {
   "cell_type": "code",
   "execution_count": 30,
   "metadata": {},
   "outputs": [],
   "source": [
    "# The Price column has elements that make it difficult to analyze, so I remove those elements and pass it to float format.  \n",
    "sellout_prov2['Price'] = sellout_prov2['Price'].str.replace('$', '').astype(float)"
   ]
  },
  {
   "cell_type": "code",
   "execution_count": 31,
   "metadata": {},
   "outputs": [
    {
     "output_type": "stream",
     "name": "stdout",
     "text": [
      "<class 'pandas.core.frame.DataFrame'>\nInt64Index: 4862026 entries, 0 to 4862028\nData columns (total 5 columns):\n #   Column    Dtype         \n---  ------    -----         \n 0   Sku       int64         \n 1   Date      datetime64[ns]\n 2   Store_Id  int64         \n 3   Pieces    float64       \n 4   Price     float64       \ndtypes: datetime64[ns](1), float64(2), int64(2)\nmemory usage: 222.6 MB\n"
     ]
    }
   ],
   "source": [
    "# Checking the change was done well\n",
    "sellout_prov2.info()"
   ]
  },
  {
   "cell_type": "code",
   "execution_count": 32,
   "metadata": {},
   "outputs": [],
   "source": [
    "# Changing the name of the column Pieces to Units as the dataframe of the other supplier\n",
    "sellout_prov2 = sellout_prov2.rename(columns={'Pieces': 'Units'})"
   ]
  },
  {
   "cell_type": "code",
   "execution_count": 33,
   "metadata": {},
   "outputs": [
    {
     "output_type": "execute_result",
     "data": {
      "text/plain": [
       "             Sku       Date  Store_Id  Units  Price\n",
       "0        4240039 2016-01-01      1000  23.00   16.0\n",
       "4013864  4625287 2016-01-01      3399  33.25    7.5\n",
       "4013865  4625287 2016-01-01      3400   2.50    7.5\n",
       "4013866  4625287 2016-01-01      3401   3.00    7.5\n",
       "4013867  4625287 2016-01-01      3402   1.00    7.5\n",
       "...          ...        ...       ...    ...    ...\n",
       "4063782  4625287 2016-12-30      3765   4.50    9.8\n",
       "4063781  4625287 2016-12-30      3764   0.25    9.8\n",
       "4063780  4625287 2016-12-30      3763   0.25    9.8\n",
       "4063788  4625287 2016-12-30      3772  12.00    9.8\n",
       "3307007  4543948 2016-12-30      5825  10.80   40.0\n",
       "\n",
       "[4862026 rows x 5 columns]"
      ],
      "text/html": "<div>\n<style scoped>\n    .dataframe tbody tr th:only-of-type {\n        vertical-align: middle;\n    }\n\n    .dataframe tbody tr th {\n        vertical-align: top;\n    }\n\n    .dataframe thead th {\n        text-align: right;\n    }\n</style>\n<table border=\"1\" class=\"dataframe\">\n  <thead>\n    <tr style=\"text-align: right;\">\n      <th></th>\n      <th>Sku</th>\n      <th>Date</th>\n      <th>Store_Id</th>\n      <th>Units</th>\n      <th>Price</th>\n    </tr>\n  </thead>\n  <tbody>\n    <tr>\n      <th>0</th>\n      <td>4240039</td>\n      <td>2016-01-01</td>\n      <td>1000</td>\n      <td>23.00</td>\n      <td>16.0</td>\n    </tr>\n    <tr>\n      <th>4013864</th>\n      <td>4625287</td>\n      <td>2016-01-01</td>\n      <td>3399</td>\n      <td>33.25</td>\n      <td>7.5</td>\n    </tr>\n    <tr>\n      <th>4013865</th>\n      <td>4625287</td>\n      <td>2016-01-01</td>\n      <td>3400</td>\n      <td>2.50</td>\n      <td>7.5</td>\n    </tr>\n    <tr>\n      <th>4013866</th>\n      <td>4625287</td>\n      <td>2016-01-01</td>\n      <td>3401</td>\n      <td>3.00</td>\n      <td>7.5</td>\n    </tr>\n    <tr>\n      <th>4013867</th>\n      <td>4625287</td>\n      <td>2016-01-01</td>\n      <td>3402</td>\n      <td>1.00</td>\n      <td>7.5</td>\n    </tr>\n    <tr>\n      <th>...</th>\n      <td>...</td>\n      <td>...</td>\n      <td>...</td>\n      <td>...</td>\n      <td>...</td>\n    </tr>\n    <tr>\n      <th>4063782</th>\n      <td>4625287</td>\n      <td>2016-12-30</td>\n      <td>3765</td>\n      <td>4.50</td>\n      <td>9.8</td>\n    </tr>\n    <tr>\n      <th>4063781</th>\n      <td>4625287</td>\n      <td>2016-12-30</td>\n      <td>3764</td>\n      <td>0.25</td>\n      <td>9.8</td>\n    </tr>\n    <tr>\n      <th>4063780</th>\n      <td>4625287</td>\n      <td>2016-12-30</td>\n      <td>3763</td>\n      <td>0.25</td>\n      <td>9.8</td>\n    </tr>\n    <tr>\n      <th>4063788</th>\n      <td>4625287</td>\n      <td>2016-12-30</td>\n      <td>3772</td>\n      <td>12.00</td>\n      <td>9.8</td>\n    </tr>\n    <tr>\n      <th>3307007</th>\n      <td>4543948</td>\n      <td>2016-12-30</td>\n      <td>5825</td>\n      <td>10.80</td>\n      <td>40.0</td>\n    </tr>\n  </tbody>\n</table>\n<p>4862026 rows × 5 columns</p>\n</div>"
     },
     "metadata": {},
     "execution_count": 33
    }
   ],
   "source": [
    "# A fundamental part is select the product from X Date to Y Date, so it's important to sort the DataFrame by Date\n",
    "    # Here we can see that have been sold product only in 2016\n",
    "sellout_prov2.sort_values(\"Date\")"
   ]
  },
  {
   "source": [
    "## Maestro_prod"
   ],
   "cell_type": "markdown",
   "metadata": {}
  },
  {
   "cell_type": "code",
   "execution_count": 34,
   "metadata": {},
   "outputs": [
    {
     "output_type": "execute_result",
     "data": {
      "text/plain": [
       "     Sku      Sku_Description   Sku_Category Sku_Subcategory\n",
       "0  11058       Frosted Mango      Sugar-free     Cereal bars\n",
       "1  29207  Nut Cheerios Mango   Super-flavour      Cereal box\n",
       "2  38379    MultiGrain Mango      Sugar-free     Cereal bars\n",
       "3  42671        Crunch Mango      Sugar-free     Cereal bars\n",
       "4  54644          Corn Mango      Sugar-free     Cereal bars"
      ],
      "text/html": "<div>\n<style scoped>\n    .dataframe tbody tr th:only-of-type {\n        vertical-align: middle;\n    }\n\n    .dataframe tbody tr th {\n        vertical-align: top;\n    }\n\n    .dataframe thead th {\n        text-align: right;\n    }\n</style>\n<table border=\"1\" class=\"dataframe\">\n  <thead>\n    <tr style=\"text-align: right;\">\n      <th></th>\n      <th>Sku</th>\n      <th>Sku_Description</th>\n      <th>Sku_Category</th>\n      <th>Sku_Subcategory</th>\n    </tr>\n  </thead>\n  <tbody>\n    <tr>\n      <th>0</th>\n      <td>11058</td>\n      <td>Frosted Mango</td>\n      <td>Sugar-free</td>\n      <td>Cereal bars</td>\n    </tr>\n    <tr>\n      <th>1</th>\n      <td>29207</td>\n      <td>Nut Cheerios Mango</td>\n      <td>Super-flavour</td>\n      <td>Cereal box</td>\n    </tr>\n    <tr>\n      <th>2</th>\n      <td>38379</td>\n      <td>MultiGrain Mango</td>\n      <td>Sugar-free</td>\n      <td>Cereal bars</td>\n    </tr>\n    <tr>\n      <th>3</th>\n      <td>42671</td>\n      <td>Crunch Mango</td>\n      <td>Sugar-free</td>\n      <td>Cereal bars</td>\n    </tr>\n    <tr>\n      <th>4</th>\n      <td>54644</td>\n      <td>Corn Mango</td>\n      <td>Sugar-free</td>\n      <td>Cereal bars</td>\n    </tr>\n  </tbody>\n</table>\n</div>"
     },
     "metadata": {},
     "execution_count": 34
    }
   ],
   "source": [
    "# Remembering how the dataframe is\n",
    "maestro_prod.head()"
   ]
  },
  {
   "cell_type": "code",
   "execution_count": 35,
   "metadata": {},
   "outputs": [
    {
     "output_type": "stream",
     "name": "stdout",
     "text": [
      "<class 'pandas.core.frame.DataFrame'>\nRangeIndex: 1242 entries, 0 to 1241\nData columns (total 4 columns):\n #   Column           Non-Null Count  Dtype \n---  ------           --------------  ----- \n 0   Sku              1242 non-null   int64 \n 1   Sku_Description  1242 non-null   object\n 2   Sku_Category     1242 non-null   object\n 3   Sku_Subcategory  1242 non-null   object\ndtypes: int64(1), object(3)\nmemory usage: 38.9+ KB\n"
     ]
    }
   ],
   "source": [
    "# Checking if all the formats are correct\n",
    "maestro_prod.info()"
   ]
  },
  {
   "source": [
    "## Maestro_client"
   ],
   "cell_type": "markdown",
   "metadata": {}
  },
  {
   "cell_type": "code",
   "execution_count": 36,
   "metadata": {},
   "outputs": [
    {
     "output_type": "execute_result",
     "data": {
      "text/plain": [
       "   NUM TDA              NOMBRE DE TDA       CADENA FORMATO  \\\n",
       "0        2  Bloody Sea Green BookShop  proveedor_1    Shop   \n",
       "1        4  Funny Sky Blue GipsyTrade  proveedor_1    Shop   \n",
       "2        5      Rare Green Laundrette  proveedor_1    Shop   \n",
       "3        6        Angry Indigo Center  proveedor_1    Shop   \n",
       "4        7           Tall Violet Deli  proveedor_1    Shop   \n",
       "\n",
       "       MUNICIPIO/CIUDAD   ESTADO DIVISION DEPOSITO / DISTRIBUIDOR  \\\n",
       "0    Bizarre White Shop  Coalmar  SURESTE          Mogulval Corp.   \n",
       "1    Bizarre White Shop  Coalmar  SURESTE          Mogulval Corp.   \n",
       "2  Rare Orange Applepie  Coalmar  SURESTE        Eioval Aerospace   \n",
       "3  Rare Orange Applepie  Coalmar  SURESTE        Eioval Aerospace   \n",
       "4  Rare Orange Applepie  Coalmar  SURESTE        Eioval Aerospace   \n",
       "\n",
       "       ESTRUCTURA GRADO  \n",
       "0  DISTRIBUIDORES    VI  \n",
       "1  DISTRIBUIDORES    VI  \n",
       "2         FORANEO    VI  \n",
       "3         FORANEO    VI  \n",
       "4         FORANEO    VI  "
      ],
      "text/html": "<div>\n<style scoped>\n    .dataframe tbody tr th:only-of-type {\n        vertical-align: middle;\n    }\n\n    .dataframe tbody tr th {\n        vertical-align: top;\n    }\n\n    .dataframe thead th {\n        text-align: right;\n    }\n</style>\n<table border=\"1\" class=\"dataframe\">\n  <thead>\n    <tr style=\"text-align: right;\">\n      <th></th>\n      <th>NUM TDA</th>\n      <th>NOMBRE DE TDA</th>\n      <th>CADENA</th>\n      <th>FORMATO</th>\n      <th>MUNICIPIO/CIUDAD</th>\n      <th>ESTADO</th>\n      <th>DIVISION</th>\n      <th>DEPOSITO / DISTRIBUIDOR</th>\n      <th>ESTRUCTURA</th>\n      <th>GRADO</th>\n    </tr>\n  </thead>\n  <tbody>\n    <tr>\n      <th>0</th>\n      <td>2</td>\n      <td>Bloody Sea Green BookShop</td>\n      <td>proveedor_1</td>\n      <td>Shop</td>\n      <td>Bizarre White Shop</td>\n      <td>Coalmar</td>\n      <td>SURESTE</td>\n      <td>Mogulval Corp.</td>\n      <td>DISTRIBUIDORES</td>\n      <td>VI</td>\n    </tr>\n    <tr>\n      <th>1</th>\n      <td>4</td>\n      <td>Funny Sky Blue GipsyTrade</td>\n      <td>proveedor_1</td>\n      <td>Shop</td>\n      <td>Bizarre White Shop</td>\n      <td>Coalmar</td>\n      <td>SURESTE</td>\n      <td>Mogulval Corp.</td>\n      <td>DISTRIBUIDORES</td>\n      <td>VI</td>\n    </tr>\n    <tr>\n      <th>2</th>\n      <td>5</td>\n      <td>Rare Green Laundrette</td>\n      <td>proveedor_1</td>\n      <td>Shop</td>\n      <td>Rare Orange Applepie</td>\n      <td>Coalmar</td>\n      <td>SURESTE</td>\n      <td>Eioval Aerospace</td>\n      <td>FORANEO</td>\n      <td>VI</td>\n    </tr>\n    <tr>\n      <th>3</th>\n      <td>6</td>\n      <td>Angry Indigo Center</td>\n      <td>proveedor_1</td>\n      <td>Shop</td>\n      <td>Rare Orange Applepie</td>\n      <td>Coalmar</td>\n      <td>SURESTE</td>\n      <td>Eioval Aerospace</td>\n      <td>FORANEO</td>\n      <td>VI</td>\n    </tr>\n    <tr>\n      <th>4</th>\n      <td>7</td>\n      <td>Tall Violet Deli</td>\n      <td>proveedor_1</td>\n      <td>Shop</td>\n      <td>Rare Orange Applepie</td>\n      <td>Coalmar</td>\n      <td>SURESTE</td>\n      <td>Eioval Aerospace</td>\n      <td>FORANEO</td>\n      <td>VI</td>\n    </tr>\n  </tbody>\n</table>\n</div>"
     },
     "metadata": {},
     "execution_count": 36
    }
   ],
   "source": [
    "# Remembering how the dataframe is\n",
    "maestro_client.head()"
   ]
  },
  {
   "cell_type": "code",
   "execution_count": 37,
   "metadata": {},
   "outputs": [
    {
     "output_type": "stream",
     "name": "stdout",
     "text": [
      "<class 'pandas.core.frame.DataFrame'>\nRangeIndex: 2452 entries, 0 to 2451\nData columns (total 10 columns):\n #   Column                   Non-Null Count  Dtype \n---  ------                   --------------  ----- \n 0   NUM TDA                  2452 non-null   int64 \n 1   NOMBRE DE TDA            2452 non-null   object\n 2   CADENA                   2452 non-null   object\n 3   FORMATO                  2452 non-null   object\n 4   MUNICIPIO/CIUDAD         2452 non-null   object\n 5   ESTADO                   2452 non-null   object\n 6   DIVISION                 2452 non-null   object\n 7   DEPOSITO / DISTRIBUIDOR  2452 non-null   object\n 8   ESTRUCTURA               2452 non-null   object\n 9   GRADO                    2452 non-null   object\ndtypes: int64(1), object(9)\nmemory usage: 191.7+ KB\n"
     ]
    }
   ],
   "source": [
    "# Checking if all the formats are correct\n",
    "maestro_client.info()"
   ]
  },
  {
   "cell_type": "code",
   "execution_count": 38,
   "metadata": {},
   "outputs": [],
   "source": [
    "# Changing the name of the columns to same language as the others DataFrames and same view, I mean change from uppercase to lowercase\n",
    "maestro_client = maestro_client.rename(columns={'NUM TDA': 'Store_Id', 'NOMBRE DE TDA': 'Store_Name', 'CADENA': 'Supplier', 'FORMATO': 'Format', 'MUNICIPIO/CIUDAD': 'Town_or_City', 'ESTADO': 'State', 'DIVISION': 'Division', 'DEPOSITO / DISTRIBUIDOR': 'Distributor', 'ESTRUCTURA': 'Structure', 'GRADO': 'Grade'})"
   ]
  },
  {
   "source": [
    "## Merge DataFrames Sellout"
   ],
   "cell_type": "markdown",
   "metadata": {}
  },
  {
   "source": [
    "Now, I am going to merge sellout dataframes (of both suppliers) with maestro_prod (description of the product) and maestro_client (description of the store) "
   ],
   "cell_type": "markdown",
   "metadata": {}
  },
  {
   "cell_type": "code",
   "execution_count": 39,
   "metadata": {},
   "outputs": [],
   "source": [
    "# First divide maestro_client in 2 dataframes: Supplier 1 and Supplier 2\n",
    "maestro_client_prov1 = maestro_client.loc[maestro_client[\"Supplier\"] == \"proveedor_1\"]\n",
    "maestro_client_prov2 = maestro_client.loc[maestro_client[\"Supplier\"] == \"proveedor_2\"]"
   ]
  },
  {
   "cell_type": "code",
   "execution_count": 40,
   "metadata": {},
   "outputs": [],
   "source": [
    "# Merging sellout of first supplier with the store's description dataframe (maestro_client_prov1)\n",
    "df_merge1 = sellout_prov1.merge(maestro_client_prov1)"
   ]
  },
  {
   "cell_type": "code",
   "execution_count": 41,
   "metadata": {},
   "outputs": [],
   "source": [
    "# Merging sellout of second supplier with the store's description dataframe (maestro_client_prov2)\n",
    "df_merge2 = sellout_prov2.merge(maestro_client_prov2)"
   ]
  },
  {
   "source": [
    "Comparing the difference of rows to see if it is matched every item in the merge of both suppliers"
   ],
   "cell_type": "markdown",
   "metadata": {}
  },
  {
   "cell_type": "code",
   "execution_count": 42,
   "metadata": {},
   "outputs": [
    {
     "output_type": "execute_result",
     "data": {
      "text/plain": [
       "28985"
      ]
     },
     "metadata": {},
     "execution_count": 42
    }
   ],
   "source": [
    "## First supplier\n",
    "# The result is a large number of no matches (products of sellout dataframe that doesn't match with any store)\n",
    "sellout_prov1.shape[0] - df_merge1.shape[0]"
   ]
  },
  {
   "cell_type": "code",
   "execution_count": 43,
   "metadata": {},
   "outputs": [
    {
     "output_type": "execute_result",
     "data": {
      "text/plain": [
       "-323"
      ]
     },
     "metadata": {},
     "execution_count": 43
    }
   ],
   "source": [
    "## Second supplier\n",
    "# Here we can see that we have some shops that didn't buy anything\n",
    "sellout_prov2.shape[0] - df_merge2.shape[0]"
   ]
  },
  {
   "source": [
    "Taking this into account, I compare if all the store_Id which have in products chart is in the list of stores chart."
   ],
   "cell_type": "markdown",
   "metadata": {}
  },
  {
   "cell_type": "code",
   "execution_count": 44,
   "metadata": {},
   "outputs": [],
   "source": [
    "# Passing the array of store_id to list\n",
    "lista_prov1 = list(sellout_prov1.Store_Id.unique())\n",
    "lista_prov2 = list(sellout_prov2.Store_Id.unique())\n",
    "\n",
    "lista_maestro_prov1 = list(maestro_client_prov1.Store_Id.unique())\n",
    "lista_maestro_prov2 = list(maestro_client_prov2.Store_Id.unique())"
   ]
  },
  {
   "cell_type": "code",
   "execution_count": 45,
   "metadata": {},
   "outputs": [
    {
     "output_type": "stream",
     "name": "stdout",
     "text": [
      "174\n712\n681\n78\n94\n301\n675\n676\n709\n711\n"
     ]
    }
   ],
   "source": [
    "# Here I compare if the store id of products chart is in stores chart\n",
    "    # The result is 10 stores that we don't know their name and other information\n",
    "for x in lista_prov1:\n",
    "    if x in lista_maestro_prov1:\n",
    "        continue\n",
    "    else:\n",
    "        print(x)"
   ]
  },
  {
   "cell_type": "code",
   "execution_count": 46,
   "metadata": {},
   "outputs": [],
   "source": [
    "# Again with second supplier \n",
    "    # Everything is ok\n",
    "for x in lista_prov2:\n",
    "    if x in lista_maestro_prov2:\n",
    "        continue\n",
    "    else:\n",
    "        print(x)"
   ]
  },
  {
   "source": [
    "So we have two options:\n",
    "    <br />1. Talk with the client and tell the problem to know which stores are these.\n",
    "    <br />2. Continue ignoring these stores.\n",
    "\n",
    "In this case, second option is the choice because I can't talk to the client."
   ],
   "cell_type": "markdown",
   "metadata": {}
  },
  {
   "source": [
    "After this, I checked if in store's chart there are any Id duplicated."
   ],
   "cell_type": "markdown",
   "metadata": {}
  },
  {
   "cell_type": "code",
   "execution_count": 47,
   "metadata": {},
   "outputs": [
    {
     "output_type": "execute_result",
     "data": {
      "text/plain": [
       "     Store_Id             Store_Name     Supplier Format     Town_or_City  \\\n",
       "235       143  Empty Turquoise Baker  proveedor_1   Shop  Clean Aqua Soil   \n",
       "\n",
       "        State   Division                    Distributor Structure Grade  \n",
       "235  Nabargus  OCCIDENTE  Colorvit Ifonforge Industries   FORANEO   III  "
      ],
      "text/html": "<div>\n<style scoped>\n    .dataframe tbody tr th:only-of-type {\n        vertical-align: middle;\n    }\n\n    .dataframe tbody tr th {\n        vertical-align: top;\n    }\n\n    .dataframe thead th {\n        text-align: right;\n    }\n</style>\n<table border=\"1\" class=\"dataframe\">\n  <thead>\n    <tr style=\"text-align: right;\">\n      <th></th>\n      <th>Store_Id</th>\n      <th>Store_Name</th>\n      <th>Supplier</th>\n      <th>Format</th>\n      <th>Town_or_City</th>\n      <th>State</th>\n      <th>Division</th>\n      <th>Distributor</th>\n      <th>Structure</th>\n      <th>Grade</th>\n    </tr>\n  </thead>\n  <tbody>\n    <tr>\n      <th>235</th>\n      <td>143</td>\n      <td>Empty Turquoise Baker</td>\n      <td>proveedor_1</td>\n      <td>Shop</td>\n      <td>Clean Aqua Soil</td>\n      <td>Nabargus</td>\n      <td>OCCIDENTE</td>\n      <td>Colorvit Ifonforge Industries</td>\n      <td>FORANEO</td>\n      <td>III</td>\n    </tr>\n  </tbody>\n</table>\n</div>"
     },
     "metadata": {},
     "execution_count": 47
    }
   ],
   "source": [
    "# In the case of the first supplier we have an Id duplicated\n",
    "maestro_client_prov1[maestro_client_prov1.duplicated(\"Store_Id\")]"
   ]
  },
  {
   "cell_type": "code",
   "execution_count": 48,
   "metadata": {},
   "outputs": [
    {
     "output_type": "execute_result",
     "data": {
      "text/plain": [
       "     Store_Id             Store_Name     Supplier Format     Town_or_City  \\\n",
       "115       143  Empty Turquoise Baker  proveedor_1   Shop  Clean Aqua Soil   \n",
       "235       143  Empty Turquoise Baker  proveedor_1   Shop  Clean Aqua Soil   \n",
       "\n",
       "        State   Division                    Distributor       Structure Grade  \n",
       "115   Egusgul   NOROESTE          Gornvalval Industrail  DISTRIBUIDORES    IV  \n",
       "235  Nabargus  OCCIDENTE  Colorvit Ifonforge Industries         FORANEO   III  "
      ],
      "text/html": "<div>\n<style scoped>\n    .dataframe tbody tr th:only-of-type {\n        vertical-align: middle;\n    }\n\n    .dataframe tbody tr th {\n        vertical-align: top;\n    }\n\n    .dataframe thead th {\n        text-align: right;\n    }\n</style>\n<table border=\"1\" class=\"dataframe\">\n  <thead>\n    <tr style=\"text-align: right;\">\n      <th></th>\n      <th>Store_Id</th>\n      <th>Store_Name</th>\n      <th>Supplier</th>\n      <th>Format</th>\n      <th>Town_or_City</th>\n      <th>State</th>\n      <th>Division</th>\n      <th>Distributor</th>\n      <th>Structure</th>\n      <th>Grade</th>\n    </tr>\n  </thead>\n  <tbody>\n    <tr>\n      <th>115</th>\n      <td>143</td>\n      <td>Empty Turquoise Baker</td>\n      <td>proveedor_1</td>\n      <td>Shop</td>\n      <td>Clean Aqua Soil</td>\n      <td>Egusgul</td>\n      <td>NOROESTE</td>\n      <td>Gornvalval Industrail</td>\n      <td>DISTRIBUIDORES</td>\n      <td>IV</td>\n    </tr>\n    <tr>\n      <th>235</th>\n      <td>143</td>\n      <td>Empty Turquoise Baker</td>\n      <td>proveedor_1</td>\n      <td>Shop</td>\n      <td>Clean Aqua Soil</td>\n      <td>Nabargus</td>\n      <td>OCCIDENTE</td>\n      <td>Colorvit Ifonforge Industries</td>\n      <td>FORANEO</td>\n      <td>III</td>\n    </tr>\n  </tbody>\n</table>\n</div>"
     },
     "metadata": {},
     "execution_count": 48
    }
   ],
   "source": [
    "# Filtering for the Id duplicated to see how many stores have the same Id\n",
    "maestro_client_prov1.loc[(maestro_client_prov1[\"Store_Id\"] == 143),:]"
   ]
  },
  {
   "cell_type": "code",
   "execution_count": 49,
   "metadata": {},
   "outputs": [
    {
     "output_type": "execute_result",
     "data": {
      "text/plain": [
       "      Store_Id               Store_Name     Supplier   Format  \\\n",
       "2422      2568  Impressive Coral BigCom  proveedor_2  Grocery   \n",
       "\n",
       "              Town_or_City     State   Division         Distributor Structure  \\\n",
       "2422  Legendary Azure Tree  Mobartho  PENÍNSULA  Valarar Toughworks   FORANEO   \n",
       "\n",
       "     Grade  \n",
       "2422    VI  "
      ],
      "text/html": "<div>\n<style scoped>\n    .dataframe tbody tr th:only-of-type {\n        vertical-align: middle;\n    }\n\n    .dataframe tbody tr th {\n        vertical-align: top;\n    }\n\n    .dataframe thead th {\n        text-align: right;\n    }\n</style>\n<table border=\"1\" class=\"dataframe\">\n  <thead>\n    <tr style=\"text-align: right;\">\n      <th></th>\n      <th>Store_Id</th>\n      <th>Store_Name</th>\n      <th>Supplier</th>\n      <th>Format</th>\n      <th>Town_or_City</th>\n      <th>State</th>\n      <th>Division</th>\n      <th>Distributor</th>\n      <th>Structure</th>\n      <th>Grade</th>\n    </tr>\n  </thead>\n  <tbody>\n    <tr>\n      <th>2422</th>\n      <td>2568</td>\n      <td>Impressive Coral BigCom</td>\n      <td>proveedor_2</td>\n      <td>Grocery</td>\n      <td>Legendary Azure Tree</td>\n      <td>Mobartho</td>\n      <td>PENÍNSULA</td>\n      <td>Valarar Toughworks</td>\n      <td>FORANEO</td>\n      <td>VI</td>\n    </tr>\n  </tbody>\n</table>\n</div>"
     },
     "metadata": {},
     "execution_count": 49
    }
   ],
   "source": [
    "# Again for the second supplier\n",
    "maestro_client_prov2[maestro_client_prov2.duplicated(\"Store_Id\")]"
   ]
  },
  {
   "cell_type": "code",
   "execution_count": 50,
   "metadata": {},
   "outputs": [
    {
     "output_type": "execute_result",
     "data": {
      "text/plain": [
       "      Store_Id               Store_Name     Supplier   Format  \\\n",
       "2409      2568  Impressive Coral BigCom  proveedor_2  Grocery   \n",
       "2422      2568  Impressive Coral BigCom  proveedor_2  Grocery   \n",
       "\n",
       "              Town_or_City     State   Division         Distributor Structure  \\\n",
       "2409    First Yellow Tower  Mobartho  PENÍNSULA  Valarar Toughworks   FORANEO   \n",
       "2422  Legendary Azure Tree  Mobartho  PENÍNSULA  Valarar Toughworks   FORANEO   \n",
       "\n",
       "     Grade  \n",
       "2409    VI  \n",
       "2422    VI  "
      ],
      "text/html": "<div>\n<style scoped>\n    .dataframe tbody tr th:only-of-type {\n        vertical-align: middle;\n    }\n\n    .dataframe tbody tr th {\n        vertical-align: top;\n    }\n\n    .dataframe thead th {\n        text-align: right;\n    }\n</style>\n<table border=\"1\" class=\"dataframe\">\n  <thead>\n    <tr style=\"text-align: right;\">\n      <th></th>\n      <th>Store_Id</th>\n      <th>Store_Name</th>\n      <th>Supplier</th>\n      <th>Format</th>\n      <th>Town_or_City</th>\n      <th>State</th>\n      <th>Division</th>\n      <th>Distributor</th>\n      <th>Structure</th>\n      <th>Grade</th>\n    </tr>\n  </thead>\n  <tbody>\n    <tr>\n      <th>2409</th>\n      <td>2568</td>\n      <td>Impressive Coral BigCom</td>\n      <td>proveedor_2</td>\n      <td>Grocery</td>\n      <td>First Yellow Tower</td>\n      <td>Mobartho</td>\n      <td>PENÍNSULA</td>\n      <td>Valarar Toughworks</td>\n      <td>FORANEO</td>\n      <td>VI</td>\n    </tr>\n    <tr>\n      <th>2422</th>\n      <td>2568</td>\n      <td>Impressive Coral BigCom</td>\n      <td>proveedor_2</td>\n      <td>Grocery</td>\n      <td>Legendary Azure Tree</td>\n      <td>Mobartho</td>\n      <td>PENÍNSULA</td>\n      <td>Valarar Toughworks</td>\n      <td>FORANEO</td>\n      <td>VI</td>\n    </tr>\n  </tbody>\n</table>\n</div>"
     },
     "metadata": {},
     "execution_count": 50
    }
   ],
   "source": [
    "# Filtering for the Id duplicated to see how many stores have the same Id\n",
    "maestro_client_prov2.loc[(maestro_client_prov2[\"Store_Id\"] == 2568),:]"
   ]
  },
  {
   "source": [
    "Same Id different shops, we have three options:\n",
    "<br />1. Change the Store_Id for the correct Id, asking the client.\n",
    "<br />2. Change the Store_Id for other new Id.\n",
    "<br />3. Continue deleting the second one (235 in the index first supplier) (2422 in the index second supplier)\n",
    "\n",
    "In this case, I choose deleting the second one because I can't talk to the client and If I put another Id this will continue generating an error because any product will not match with that Store_Id."
   ],
   "cell_type": "markdown",
   "metadata": {}
  },
  {
   "source": [
    "# Deleting the second store with same Id\n",
    "maestro_client_prov1.drop([235], axis=0, inplace = True)\n",
    "maestro_client_prov2.drop([2422], axis=0, inplace = True)"
   ],
   "cell_type": "code",
   "metadata": {},
   "execution_count": 51,
   "outputs": []
  },
  {
   "cell_type": "code",
   "execution_count": 52,
   "metadata": {},
   "outputs": [
    {
     "output_type": "execute_result",
     "data": {
      "text/plain": [
       "     Store_Id           Store_Name     Supplier Format      Town_or_City  \\\n",
       "146       235  Empty White Florist  proveedor_1   Shop  Funny Lemon Star   \n",
       "\n",
       "         State   Division                   Distributor Structure Grade  \n",
       "146  Magornmar  METRO-SUR  Ioalfio Ifonforge Industries     METRO     V  "
      ],
      "text/html": "<div>\n<style scoped>\n    .dataframe tbody tr th:only-of-type {\n        vertical-align: middle;\n    }\n\n    .dataframe tbody tr th {\n        vertical-align: top;\n    }\n\n    .dataframe thead th {\n        text-align: right;\n    }\n</style>\n<table border=\"1\" class=\"dataframe\">\n  <thead>\n    <tr style=\"text-align: right;\">\n      <th></th>\n      <th>Store_Id</th>\n      <th>Store_Name</th>\n      <th>Supplier</th>\n      <th>Format</th>\n      <th>Town_or_City</th>\n      <th>State</th>\n      <th>Division</th>\n      <th>Distributor</th>\n      <th>Structure</th>\n      <th>Grade</th>\n    </tr>\n  </thead>\n  <tbody>\n    <tr>\n      <th>146</th>\n      <td>235</td>\n      <td>Empty White Florist</td>\n      <td>proveedor_1</td>\n      <td>Shop</td>\n      <td>Funny Lemon Star</td>\n      <td>Magornmar</td>\n      <td>METRO-SUR</td>\n      <td>Ioalfio Ifonforge Industries</td>\n      <td>METRO</td>\n      <td>V</td>\n    </tr>\n  </tbody>\n</table>\n</div>"
     },
     "metadata": {},
     "execution_count": 52
    }
   ],
   "source": [
    "# Checking the deleting was done well for first supplier\n",
    "maestro_client_prov1.loc[(maestro_client_prov1[\"Store_Id\"] == 235),:]"
   ]
  },
  {
   "cell_type": "code",
   "execution_count": 53,
   "metadata": {},
   "outputs": [
    {
     "output_type": "execute_result",
     "data": {
      "text/plain": [
       "      Store_Id               Store_Name     Supplier   Format  \\\n",
       "2409      2568  Impressive Coral BigCom  proveedor_2  Grocery   \n",
       "\n",
       "            Town_or_City     State   Division         Distributor Structure  \\\n",
       "2409  First Yellow Tower  Mobartho  PENÍNSULA  Valarar Toughworks   FORANEO   \n",
       "\n",
       "     Grade  \n",
       "2409    VI  "
      ],
      "text/html": "<div>\n<style scoped>\n    .dataframe tbody tr th:only-of-type {\n        vertical-align: middle;\n    }\n\n    .dataframe tbody tr th {\n        vertical-align: top;\n    }\n\n    .dataframe thead th {\n        text-align: right;\n    }\n</style>\n<table border=\"1\" class=\"dataframe\">\n  <thead>\n    <tr style=\"text-align: right;\">\n      <th></th>\n      <th>Store_Id</th>\n      <th>Store_Name</th>\n      <th>Supplier</th>\n      <th>Format</th>\n      <th>Town_or_City</th>\n      <th>State</th>\n      <th>Division</th>\n      <th>Distributor</th>\n      <th>Structure</th>\n      <th>Grade</th>\n    </tr>\n  </thead>\n  <tbody>\n    <tr>\n      <th>2409</th>\n      <td>2568</td>\n      <td>Impressive Coral BigCom</td>\n      <td>proveedor_2</td>\n      <td>Grocery</td>\n      <td>First Yellow Tower</td>\n      <td>Mobartho</td>\n      <td>PENÍNSULA</td>\n      <td>Valarar Toughworks</td>\n      <td>FORANEO</td>\n      <td>VI</td>\n    </tr>\n  </tbody>\n</table>\n</div>"
     },
     "metadata": {},
     "execution_count": 53
    }
   ],
   "source": [
    "# Checking the deleting was done well for second supplier\n",
    "maestro_client_prov2.loc[(maestro_client_prov2[\"Store_Id\"] == 2568),:]"
   ]
  },
  {
   "source": [
    "So now I concatenated the dataframes ignoring the problems."
   ],
   "cell_type": "markdown",
   "metadata": {}
  },
  {
   "cell_type": "code",
   "execution_count": 54,
   "metadata": {},
   "outputs": [
    {
     "output_type": "execute_result",
     "data": {
      "text/plain": [
       "             Sku       Date  Store_Id  Units  Price              Store_Name  \\\n",
       "0        4220015 2017-01-01        18   6.00   15.6    Singing Black Center   \n",
       "1        4220015 2017-01-02        18  15.00   15.6    Singing Black Center   \n",
       "2        4220015 2017-01-03        18  10.00   15.6    Singing Black Center   \n",
       "3        4220015 2017-01-04        18   8.00   15.6    Singing Black Center   \n",
       "4        4220015 2017-01-05        18  12.00   15.6    Singing Black Center   \n",
       "...          ...        ...       ...    ...    ...                     ...   \n",
       "4862021  4625287 2016-08-20      3537   0.50    5.9  Singing Golden Florist   \n",
       "4862022  4625287 2016-08-21      3537   1.50    5.9  Singing Golden Florist   \n",
       "4862023  4625287 2016-08-22      3537   0.50    5.9  Singing Golden Florist   \n",
       "4862024  4625287 2016-08-26      3537   0.50    8.9  Singing Golden Florist   \n",
       "4862025  4625287 2016-08-28      3537   0.25    8.9  Singing Golden Florist   \n",
       "\n",
       "            Supplier    Format               Town_or_City      State  \\\n",
       "0        proveedor_1      Shop           Evil White Baton   Alloralf   \n",
       "1        proveedor_1      Shop           Evil White Baton   Alloralf   \n",
       "2        proveedor_1      Shop           Evil White Baton   Alloralf   \n",
       "3        proveedor_1      Shop           Evil White Baton   Alloralf   \n",
       "4        proveedor_1      Shop           Evil White Baton   Alloralf   \n",
       "...              ...       ...                        ...        ...   \n",
       "4862021  proveedor_2  AllInOne  Enlightened Fuchsia Comet  Barthovit   \n",
       "4862022  proveedor_2  AllInOne  Enlightened Fuchsia Comet  Barthovit   \n",
       "4862023  proveedor_2  AllInOne  Enlightened Fuchsia Comet  Barthovit   \n",
       "4862024  proveedor_2  AllInOne  Enlightened Fuchsia Comet  Barthovit   \n",
       "4862025  proveedor_2  AllInOne  Enlightened Fuchsia Comet  Barthovit   \n",
       "\n",
       "            Division        Distributor Structure Grade  \n",
       "0        METRO-NORTE      Emolor Vocals     METRO    IV  \n",
       "1        METRO-NORTE      Emolor Vocals     METRO    IV  \n",
       "2        METRO-NORTE      Emolor Vocals     METRO    IV  \n",
       "3        METRO-NORTE      Emolor Vocals     METRO    IV  \n",
       "4        METRO-NORTE      Emolor Vocals     METRO    IV  \n",
       "...              ...                ...       ...   ...  \n",
       "4862021      NORESTE  Thrilmamad Vocals   FORANEO    II  \n",
       "4862022      NORESTE  Thrilmamad Vocals   FORANEO    II  \n",
       "4862023      NORESTE  Thrilmamad Vocals   FORANEO    II  \n",
       "4862024      NORESTE  Thrilmamad Vocals   FORANEO    II  \n",
       "4862025      NORESTE  Thrilmamad Vocals   FORANEO    II  \n",
       "\n",
       "[6034291 rows x 14 columns]"
      ],
      "text/html": "<div>\n<style scoped>\n    .dataframe tbody tr th:only-of-type {\n        vertical-align: middle;\n    }\n\n    .dataframe tbody tr th {\n        vertical-align: top;\n    }\n\n    .dataframe thead th {\n        text-align: right;\n    }\n</style>\n<table border=\"1\" class=\"dataframe\">\n  <thead>\n    <tr style=\"text-align: right;\">\n      <th></th>\n      <th>Sku</th>\n      <th>Date</th>\n      <th>Store_Id</th>\n      <th>Units</th>\n      <th>Price</th>\n      <th>Store_Name</th>\n      <th>Supplier</th>\n      <th>Format</th>\n      <th>Town_or_City</th>\n      <th>State</th>\n      <th>Division</th>\n      <th>Distributor</th>\n      <th>Structure</th>\n      <th>Grade</th>\n    </tr>\n  </thead>\n  <tbody>\n    <tr>\n      <th>0</th>\n      <td>4220015</td>\n      <td>2017-01-01</td>\n      <td>18</td>\n      <td>6.00</td>\n      <td>15.6</td>\n      <td>Singing Black Center</td>\n      <td>proveedor_1</td>\n      <td>Shop</td>\n      <td>Evil White Baton</td>\n      <td>Alloralf</td>\n      <td>METRO-NORTE</td>\n      <td>Emolor Vocals</td>\n      <td>METRO</td>\n      <td>IV</td>\n    </tr>\n    <tr>\n      <th>1</th>\n      <td>4220015</td>\n      <td>2017-01-02</td>\n      <td>18</td>\n      <td>15.00</td>\n      <td>15.6</td>\n      <td>Singing Black Center</td>\n      <td>proveedor_1</td>\n      <td>Shop</td>\n      <td>Evil White Baton</td>\n      <td>Alloralf</td>\n      <td>METRO-NORTE</td>\n      <td>Emolor Vocals</td>\n      <td>METRO</td>\n      <td>IV</td>\n    </tr>\n    <tr>\n      <th>2</th>\n      <td>4220015</td>\n      <td>2017-01-03</td>\n      <td>18</td>\n      <td>10.00</td>\n      <td>15.6</td>\n      <td>Singing Black Center</td>\n      <td>proveedor_1</td>\n      <td>Shop</td>\n      <td>Evil White Baton</td>\n      <td>Alloralf</td>\n      <td>METRO-NORTE</td>\n      <td>Emolor Vocals</td>\n      <td>METRO</td>\n      <td>IV</td>\n    </tr>\n    <tr>\n      <th>3</th>\n      <td>4220015</td>\n      <td>2017-01-04</td>\n      <td>18</td>\n      <td>8.00</td>\n      <td>15.6</td>\n      <td>Singing Black Center</td>\n      <td>proveedor_1</td>\n      <td>Shop</td>\n      <td>Evil White Baton</td>\n      <td>Alloralf</td>\n      <td>METRO-NORTE</td>\n      <td>Emolor Vocals</td>\n      <td>METRO</td>\n      <td>IV</td>\n    </tr>\n    <tr>\n      <th>4</th>\n      <td>4220015</td>\n      <td>2017-01-05</td>\n      <td>18</td>\n      <td>12.00</td>\n      <td>15.6</td>\n      <td>Singing Black Center</td>\n      <td>proveedor_1</td>\n      <td>Shop</td>\n      <td>Evil White Baton</td>\n      <td>Alloralf</td>\n      <td>METRO-NORTE</td>\n      <td>Emolor Vocals</td>\n      <td>METRO</td>\n      <td>IV</td>\n    </tr>\n    <tr>\n      <th>...</th>\n      <td>...</td>\n      <td>...</td>\n      <td>...</td>\n      <td>...</td>\n      <td>...</td>\n      <td>...</td>\n      <td>...</td>\n      <td>...</td>\n      <td>...</td>\n      <td>...</td>\n      <td>...</td>\n      <td>...</td>\n      <td>...</td>\n      <td>...</td>\n    </tr>\n    <tr>\n      <th>4862021</th>\n      <td>4625287</td>\n      <td>2016-08-20</td>\n      <td>3537</td>\n      <td>0.50</td>\n      <td>5.9</td>\n      <td>Singing Golden Florist</td>\n      <td>proveedor_2</td>\n      <td>AllInOne</td>\n      <td>Enlightened Fuchsia Comet</td>\n      <td>Barthovit</td>\n      <td>NORESTE</td>\n      <td>Thrilmamad Vocals</td>\n      <td>FORANEO</td>\n      <td>II</td>\n    </tr>\n    <tr>\n      <th>4862022</th>\n      <td>4625287</td>\n      <td>2016-08-21</td>\n      <td>3537</td>\n      <td>1.50</td>\n      <td>5.9</td>\n      <td>Singing Golden Florist</td>\n      <td>proveedor_2</td>\n      <td>AllInOne</td>\n      <td>Enlightened Fuchsia Comet</td>\n      <td>Barthovit</td>\n      <td>NORESTE</td>\n      <td>Thrilmamad Vocals</td>\n      <td>FORANEO</td>\n      <td>II</td>\n    </tr>\n    <tr>\n      <th>4862023</th>\n      <td>4625287</td>\n      <td>2016-08-22</td>\n      <td>3537</td>\n      <td>0.50</td>\n      <td>5.9</td>\n      <td>Singing Golden Florist</td>\n      <td>proveedor_2</td>\n      <td>AllInOne</td>\n      <td>Enlightened Fuchsia Comet</td>\n      <td>Barthovit</td>\n      <td>NORESTE</td>\n      <td>Thrilmamad Vocals</td>\n      <td>FORANEO</td>\n      <td>II</td>\n    </tr>\n    <tr>\n      <th>4862024</th>\n      <td>4625287</td>\n      <td>2016-08-26</td>\n      <td>3537</td>\n      <td>0.50</td>\n      <td>8.9</td>\n      <td>Singing Golden Florist</td>\n      <td>proveedor_2</td>\n      <td>AllInOne</td>\n      <td>Enlightened Fuchsia Comet</td>\n      <td>Barthovit</td>\n      <td>NORESTE</td>\n      <td>Thrilmamad Vocals</td>\n      <td>FORANEO</td>\n      <td>II</td>\n    </tr>\n    <tr>\n      <th>4862025</th>\n      <td>4625287</td>\n      <td>2016-08-28</td>\n      <td>3537</td>\n      <td>0.25</td>\n      <td>8.9</td>\n      <td>Singing Golden Florist</td>\n      <td>proveedor_2</td>\n      <td>AllInOne</td>\n      <td>Enlightened Fuchsia Comet</td>\n      <td>Barthovit</td>\n      <td>NORESTE</td>\n      <td>Thrilmamad Vocals</td>\n      <td>FORANEO</td>\n      <td>II</td>\n    </tr>\n  </tbody>\n</table>\n<p>6034291 rows × 14 columns</p>\n</div>"
     },
     "metadata": {},
     "execution_count": 54
    }
   ],
   "source": [
    "df_merge_prov1 = sellout_prov1.merge(maestro_client_prov1)\n",
    "df_merge_prov2 = sellout_prov2.merge(maestro_client_prov2)\n",
    "\n",
    "df_finalmerge_prov = pd.concat([df_merge_prov1, df_merge_prov2])\n",
    "df_finalmerge_prov"
   ]
  },
  {
   "cell_type": "code",
   "execution_count": 55,
   "metadata": {},
   "outputs": [
    {
     "output_type": "execute_result",
     "data": {
      "text/plain": [
       "6034291"
      ]
     },
     "metadata": {},
     "execution_count": 55
    }
   ],
   "source": [
    "# Checking the concat was done correctly - same number of rows\n",
    "df_merge_prov1.shape[0] + df_merge_prov2.shape[0]"
   ]
  },
  {
   "source": [
    "Now, I did a checkup to know if all the sku that I have in store's description dataframe are in the description product dataframe."
   ],
   "cell_type": "markdown",
   "metadata": {}
  },
  {
   "cell_type": "code",
   "execution_count": 56,
   "metadata": {},
   "outputs": [],
   "source": [
    "# Here I did the list of sku of both dataframe\n",
    "lista_finalmerge_sku_prov = list(df_finalmerge_prov.Sku.unique())\n",
    "lista_maestro_prod = list(maestro_prod.Sku.unique())"
   ]
  },
  {
   "cell_type": "code",
   "execution_count": 57,
   "metadata": {},
   "outputs": [
    {
     "output_type": "stream",
     "name": "stdout",
     "text": [
      "5027\n"
     ]
    }
   ],
   "source": [
    "# Here I compare both list, result: 1 product didn't identificate\n",
    "for x in lista_finalmerge_sku_prov:\n",
    "    if x in lista_maestro_prod:\n",
    "        continue\n",
    "    else:\n",
    "        print(x)"
   ]
  },
  {
   "source": [
    "Again we need to know this product, invent it or ignore it.\n",
    "<br />In this case, I'm going to ignore it because I can't know it asking the client and if I invent it this will return a non-real result."
   ],
   "cell_type": "markdown",
   "metadata": {}
  },
  {
   "cell_type": "code",
   "execution_count": 58,
   "metadata": {},
   "outputs": [
    {
     "output_type": "execute_result",
     "data": {
      "text/plain": [
       "             Sku       Date  Store_Id  Units  Price  \\\n",
       "0        4220015 2017-01-01        18    6.0   15.6   \n",
       "1        4220015 2017-01-02        18   15.0   15.6   \n",
       "2        4220015 2017-01-03        18   10.0   15.6   \n",
       "3        4220015 2017-01-04        18    8.0   15.6   \n",
       "4        4220015 2017-01-05        18   12.0   15.6   \n",
       "...          ...        ...       ...    ...    ...   \n",
       "6033821  4371364 2016-04-26      3858   12.0  185.0   \n",
       "6033822  4371364 2016-04-27      3858   20.0  185.0   \n",
       "6033823  4371364 2016-04-28      3858    8.0  185.0   \n",
       "6033824  4371364 2016-04-29      3858   24.0  185.0   \n",
       "6033825  4371364 2016-08-28      3858    4.0  185.0   \n",
       "\n",
       "                          Store_Name     Supplier     Format  \\\n",
       "0               Singing Black Center  proveedor_1       Shop   \n",
       "1               Singing Black Center  proveedor_1       Shop   \n",
       "2               Singing Black Center  proveedor_1       Shop   \n",
       "3               Singing Black Center  proveedor_1       Shop   \n",
       "4               Singing Black Center  proveedor_1       Shop   \n",
       "...                              ...          ...        ...   \n",
       "6033821  Empty Sea Green Convenience  proveedor_2  Leftorium   \n",
       "6033822  Empty Sea Green Convenience  proveedor_2  Leftorium   \n",
       "6033823  Empty Sea Green Convenience  proveedor_2  Leftorium   \n",
       "6033824  Empty Sea Green Convenience  proveedor_2  Leftorium   \n",
       "6033825  Empty Sea Green Convenience  proveedor_2  Leftorium   \n",
       "\n",
       "                    Town_or_City      State     Division    Distributor  \\\n",
       "0               Evil White Baton   Alloralf  METRO-NORTE  Emolor Vocals   \n",
       "1               Evil White Baton   Alloralf  METRO-NORTE  Emolor Vocals   \n",
       "2               Evil White Baton   Alloralf  METRO-NORTE  Emolor Vocals   \n",
       "3               Evil White Baton   Alloralf  METRO-NORTE  Emolor Vocals   \n",
       "4               Evil White Baton   Alloralf  METRO-NORTE  Emolor Vocals   \n",
       "...                          ...        ...          ...            ...   \n",
       "6033821  Enlightened Dark Empire  Magornmar  METRO-NORTE  Emolor Vocals   \n",
       "6033822  Enlightened Dark Empire  Magornmar  METRO-NORTE  Emolor Vocals   \n",
       "6033823  Enlightened Dark Empire  Magornmar  METRO-NORTE  Emolor Vocals   \n",
       "6033824  Enlightened Dark Empire  Magornmar  METRO-NORTE  Emolor Vocals   \n",
       "6033825  Enlightened Dark Empire  Magornmar  METRO-NORTE  Emolor Vocals   \n",
       "\n",
       "        Structure Grade            Sku_Description   Sku_Category  \\\n",
       "0           METRO    IV            Stars Chocolate     Sugar-free   \n",
       "1           METRO    IV            Stars Chocolate     Sugar-free   \n",
       "2           METRO    IV            Stars Chocolate     Sugar-free   \n",
       "3           METRO    IV            Stars Chocolate     Sugar-free   \n",
       "4           METRO    IV            Stars Chocolate     Sugar-free   \n",
       "...           ...   ...                        ...            ...   \n",
       "6033821     METRO     V  Peanut Butter Mango Peach  Super-flavour   \n",
       "6033822     METRO     V  Peanut Butter Mango Peach  Super-flavour   \n",
       "6033823     METRO     V  Peanut Butter Mango Peach  Super-flavour   \n",
       "6033824     METRO     V  Peanut Butter Mango Peach  Super-flavour   \n",
       "6033825     METRO     V  Peanut Butter Mango Peach  Super-flavour   \n",
       "\n",
       "        Sku_Subcategory  \n",
       "0           Cereal bars  \n",
       "1           Cereal bars  \n",
       "2           Cereal bars  \n",
       "3           Cereal bars  \n",
       "4           Cereal bars  \n",
       "...                 ...  \n",
       "6033821      Cereal box  \n",
       "6033822      Cereal box  \n",
       "6033823      Cereal box  \n",
       "6033824      Cereal box  \n",
       "6033825      Cereal box  \n",
       "\n",
       "[6033826 rows x 17 columns]"
      ],
      "text/html": "<div>\n<style scoped>\n    .dataframe tbody tr th:only-of-type {\n        vertical-align: middle;\n    }\n\n    .dataframe tbody tr th {\n        vertical-align: top;\n    }\n\n    .dataframe thead th {\n        text-align: right;\n    }\n</style>\n<table border=\"1\" class=\"dataframe\">\n  <thead>\n    <tr style=\"text-align: right;\">\n      <th></th>\n      <th>Sku</th>\n      <th>Date</th>\n      <th>Store_Id</th>\n      <th>Units</th>\n      <th>Price</th>\n      <th>Store_Name</th>\n      <th>Supplier</th>\n      <th>Format</th>\n      <th>Town_or_City</th>\n      <th>State</th>\n      <th>Division</th>\n      <th>Distributor</th>\n      <th>Structure</th>\n      <th>Grade</th>\n      <th>Sku_Description</th>\n      <th>Sku_Category</th>\n      <th>Sku_Subcategory</th>\n    </tr>\n  </thead>\n  <tbody>\n    <tr>\n      <th>0</th>\n      <td>4220015</td>\n      <td>2017-01-01</td>\n      <td>18</td>\n      <td>6.0</td>\n      <td>15.6</td>\n      <td>Singing Black Center</td>\n      <td>proveedor_1</td>\n      <td>Shop</td>\n      <td>Evil White Baton</td>\n      <td>Alloralf</td>\n      <td>METRO-NORTE</td>\n      <td>Emolor Vocals</td>\n      <td>METRO</td>\n      <td>IV</td>\n      <td>Stars Chocolate</td>\n      <td>Sugar-free</td>\n      <td>Cereal bars</td>\n    </tr>\n    <tr>\n      <th>1</th>\n      <td>4220015</td>\n      <td>2017-01-02</td>\n      <td>18</td>\n      <td>15.0</td>\n      <td>15.6</td>\n      <td>Singing Black Center</td>\n      <td>proveedor_1</td>\n      <td>Shop</td>\n      <td>Evil White Baton</td>\n      <td>Alloralf</td>\n      <td>METRO-NORTE</td>\n      <td>Emolor Vocals</td>\n      <td>METRO</td>\n      <td>IV</td>\n      <td>Stars Chocolate</td>\n      <td>Sugar-free</td>\n      <td>Cereal bars</td>\n    </tr>\n    <tr>\n      <th>2</th>\n      <td>4220015</td>\n      <td>2017-01-03</td>\n      <td>18</td>\n      <td>10.0</td>\n      <td>15.6</td>\n      <td>Singing Black Center</td>\n      <td>proveedor_1</td>\n      <td>Shop</td>\n      <td>Evil White Baton</td>\n      <td>Alloralf</td>\n      <td>METRO-NORTE</td>\n      <td>Emolor Vocals</td>\n      <td>METRO</td>\n      <td>IV</td>\n      <td>Stars Chocolate</td>\n      <td>Sugar-free</td>\n      <td>Cereal bars</td>\n    </tr>\n    <tr>\n      <th>3</th>\n      <td>4220015</td>\n      <td>2017-01-04</td>\n      <td>18</td>\n      <td>8.0</td>\n      <td>15.6</td>\n      <td>Singing Black Center</td>\n      <td>proveedor_1</td>\n      <td>Shop</td>\n      <td>Evil White Baton</td>\n      <td>Alloralf</td>\n      <td>METRO-NORTE</td>\n      <td>Emolor Vocals</td>\n      <td>METRO</td>\n      <td>IV</td>\n      <td>Stars Chocolate</td>\n      <td>Sugar-free</td>\n      <td>Cereal bars</td>\n    </tr>\n    <tr>\n      <th>4</th>\n      <td>4220015</td>\n      <td>2017-01-05</td>\n      <td>18</td>\n      <td>12.0</td>\n      <td>15.6</td>\n      <td>Singing Black Center</td>\n      <td>proveedor_1</td>\n      <td>Shop</td>\n      <td>Evil White Baton</td>\n      <td>Alloralf</td>\n      <td>METRO-NORTE</td>\n      <td>Emolor Vocals</td>\n      <td>METRO</td>\n      <td>IV</td>\n      <td>Stars Chocolate</td>\n      <td>Sugar-free</td>\n      <td>Cereal bars</td>\n    </tr>\n    <tr>\n      <th>...</th>\n      <td>...</td>\n      <td>...</td>\n      <td>...</td>\n      <td>...</td>\n      <td>...</td>\n      <td>...</td>\n      <td>...</td>\n      <td>...</td>\n      <td>...</td>\n      <td>...</td>\n      <td>...</td>\n      <td>...</td>\n      <td>...</td>\n      <td>...</td>\n      <td>...</td>\n      <td>...</td>\n      <td>...</td>\n    </tr>\n    <tr>\n      <th>6033821</th>\n      <td>4371364</td>\n      <td>2016-04-26</td>\n      <td>3858</td>\n      <td>12.0</td>\n      <td>185.0</td>\n      <td>Empty Sea Green Convenience</td>\n      <td>proveedor_2</td>\n      <td>Leftorium</td>\n      <td>Enlightened Dark Empire</td>\n      <td>Magornmar</td>\n      <td>METRO-NORTE</td>\n      <td>Emolor Vocals</td>\n      <td>METRO</td>\n      <td>V</td>\n      <td>Peanut Butter Mango Peach</td>\n      <td>Super-flavour</td>\n      <td>Cereal box</td>\n    </tr>\n    <tr>\n      <th>6033822</th>\n      <td>4371364</td>\n      <td>2016-04-27</td>\n      <td>3858</td>\n      <td>20.0</td>\n      <td>185.0</td>\n      <td>Empty Sea Green Convenience</td>\n      <td>proveedor_2</td>\n      <td>Leftorium</td>\n      <td>Enlightened Dark Empire</td>\n      <td>Magornmar</td>\n      <td>METRO-NORTE</td>\n      <td>Emolor Vocals</td>\n      <td>METRO</td>\n      <td>V</td>\n      <td>Peanut Butter Mango Peach</td>\n      <td>Super-flavour</td>\n      <td>Cereal box</td>\n    </tr>\n    <tr>\n      <th>6033823</th>\n      <td>4371364</td>\n      <td>2016-04-28</td>\n      <td>3858</td>\n      <td>8.0</td>\n      <td>185.0</td>\n      <td>Empty Sea Green Convenience</td>\n      <td>proveedor_2</td>\n      <td>Leftorium</td>\n      <td>Enlightened Dark Empire</td>\n      <td>Magornmar</td>\n      <td>METRO-NORTE</td>\n      <td>Emolor Vocals</td>\n      <td>METRO</td>\n      <td>V</td>\n      <td>Peanut Butter Mango Peach</td>\n      <td>Super-flavour</td>\n      <td>Cereal box</td>\n    </tr>\n    <tr>\n      <th>6033824</th>\n      <td>4371364</td>\n      <td>2016-04-29</td>\n      <td>3858</td>\n      <td>24.0</td>\n      <td>185.0</td>\n      <td>Empty Sea Green Convenience</td>\n      <td>proveedor_2</td>\n      <td>Leftorium</td>\n      <td>Enlightened Dark Empire</td>\n      <td>Magornmar</td>\n      <td>METRO-NORTE</td>\n      <td>Emolor Vocals</td>\n      <td>METRO</td>\n      <td>V</td>\n      <td>Peanut Butter Mango Peach</td>\n      <td>Super-flavour</td>\n      <td>Cereal box</td>\n    </tr>\n    <tr>\n      <th>6033825</th>\n      <td>4371364</td>\n      <td>2016-08-28</td>\n      <td>3858</td>\n      <td>4.0</td>\n      <td>185.0</td>\n      <td>Empty Sea Green Convenience</td>\n      <td>proveedor_2</td>\n      <td>Leftorium</td>\n      <td>Enlightened Dark Empire</td>\n      <td>Magornmar</td>\n      <td>METRO-NORTE</td>\n      <td>Emolor Vocals</td>\n      <td>METRO</td>\n      <td>V</td>\n      <td>Peanut Butter Mango Peach</td>\n      <td>Super-flavour</td>\n      <td>Cereal box</td>\n    </tr>\n  </tbody>\n</table>\n<p>6033826 rows × 17 columns</p>\n</div>"
     },
     "metadata": {},
     "execution_count": 58
    }
   ],
   "source": [
    "# So now, I'm going to merge with maesto_prod (description products dataframe) to have the final sellout dataframe\n",
    "df_sellout_final = df_finalmerge_prov.merge(maestro_prod)\n",
    "df_sellout_final"
   ]
  },
  {
   "source": [
    "Now, I compared if the merge was done well. "
   ],
   "cell_type": "markdown",
   "metadata": {}
  },
  {
   "cell_type": "code",
   "execution_count": 59,
   "metadata": {},
   "outputs": [
    {
     "output_type": "execute_result",
     "data": {
      "text/plain": [
       "465"
      ]
     },
     "metadata": {},
     "execution_count": 59
    }
   ],
   "source": [
    "# For this, I check how many rows we have with the Sku that we dont know (5027) and then I compared the rows of both dataframes to check if it is the same number.\n",
    "df_finalmerge_prov.loc[(df_finalmerge_prov[\"Sku\"] == 5027), :].shape[0]"
   ]
  },
  {
   "cell_type": "code",
   "execution_count": 60,
   "metadata": {},
   "outputs": [
    {
     "output_type": "execute_result",
     "data": {
      "text/plain": [
       "465"
      ]
     },
     "metadata": {},
     "execution_count": 60
    }
   ],
   "source": [
    "# Yes, the difference is the same number so the merge was done well\n",
    "df_finalmerge_prov.shape[0] - df_sellout_final.shape[0]"
   ]
  },
  {
   "source": [
    "Now, I am going to change the order of the columns so the dataframe makes more sense."
   ],
   "cell_type": "markdown",
   "metadata": {}
  },
  {
   "cell_type": "code",
   "execution_count": 61,
   "metadata": {},
   "outputs": [
    {
     "output_type": "execute_result",
     "data": {
      "text/plain": [
       "['Sku',\n",
       " 'Date',\n",
       " 'Store_Id',\n",
       " 'Units',\n",
       " 'Price',\n",
       " 'Store_Name',\n",
       " 'Supplier',\n",
       " 'Format',\n",
       " 'Town_or_City',\n",
       " 'State',\n",
       " 'Division',\n",
       " 'Distributor',\n",
       " 'Structure',\n",
       " 'Grade',\n",
       " 'Sku_Description',\n",
       " 'Sku_Category',\n",
       " 'Sku_Subcategory']"
      ]
     },
     "metadata": {},
     "execution_count": 61
    }
   ],
   "source": [
    "# First, passing the columns to list of columns\n",
    "cols_sellout = df_sellout_final.columns.tolist()\n",
    "cols_sellout"
   ]
  },
  {
   "cell_type": "code",
   "execution_count": 62,
   "metadata": {},
   "outputs": [
    {
     "output_type": "stream",
     "name": "stdout",
     "text": [
      "['Date', 'Sku', 'Sku_Description', 'Sku_Category', 'Units', 'Price', 'Store_Id', 'Store_Name', 'Supplier', 'Format', 'Town_or_City', 'State', 'Division', 'Distributor', 'Structure', 'Grade']\n"
     ]
    }
   ],
   "source": [
    "# Second, sorting the columns with a new order\n",
    "cols_sellout = cols_sellout[1:2] + cols_sellout[0:1] + cols_sellout[14:-1] + cols_sellout[3:5] + cols_sellout[2:3] + cols_sellout[5:14]\n",
    "print(cols_sellout)"
   ]
  },
  {
   "cell_type": "code",
   "execution_count": 63,
   "metadata": {},
   "outputs": [
    {
     "output_type": "execute_result",
     "data": {
      "text/plain": [
       "              Date      Sku            Sku_Description   Sku_Category  Units  \\\n",
       "0       2017-01-01  4220015            Stars Chocolate     Sugar-free    6.0   \n",
       "1       2017-01-02  4220015            Stars Chocolate     Sugar-free   15.0   \n",
       "2       2017-01-03  4220015            Stars Chocolate     Sugar-free   10.0   \n",
       "3       2017-01-04  4220015            Stars Chocolate     Sugar-free    8.0   \n",
       "4       2017-01-05  4220015            Stars Chocolate     Sugar-free   12.0   \n",
       "...            ...      ...                        ...            ...    ...   \n",
       "6033821 2016-04-26  4371364  Peanut Butter Mango Peach  Super-flavour   12.0   \n",
       "6033822 2016-04-27  4371364  Peanut Butter Mango Peach  Super-flavour   20.0   \n",
       "6033823 2016-04-28  4371364  Peanut Butter Mango Peach  Super-flavour    8.0   \n",
       "6033824 2016-04-29  4371364  Peanut Butter Mango Peach  Super-flavour   24.0   \n",
       "6033825 2016-08-28  4371364  Peanut Butter Mango Peach  Super-flavour    4.0   \n",
       "\n",
       "         Price  Store_Id                   Store_Name     Supplier     Format  \\\n",
       "0         15.6        18         Singing Black Center  proveedor_1       Shop   \n",
       "1         15.6        18         Singing Black Center  proveedor_1       Shop   \n",
       "2         15.6        18         Singing Black Center  proveedor_1       Shop   \n",
       "3         15.6        18         Singing Black Center  proveedor_1       Shop   \n",
       "4         15.6        18         Singing Black Center  proveedor_1       Shop   \n",
       "...        ...       ...                          ...          ...        ...   \n",
       "6033821  185.0      3858  Empty Sea Green Convenience  proveedor_2  Leftorium   \n",
       "6033822  185.0      3858  Empty Sea Green Convenience  proveedor_2  Leftorium   \n",
       "6033823  185.0      3858  Empty Sea Green Convenience  proveedor_2  Leftorium   \n",
       "6033824  185.0      3858  Empty Sea Green Convenience  proveedor_2  Leftorium   \n",
       "6033825  185.0      3858  Empty Sea Green Convenience  proveedor_2  Leftorium   \n",
       "\n",
       "                    Town_or_City      State     Division    Distributor  \\\n",
       "0               Evil White Baton   Alloralf  METRO-NORTE  Emolor Vocals   \n",
       "1               Evil White Baton   Alloralf  METRO-NORTE  Emolor Vocals   \n",
       "2               Evil White Baton   Alloralf  METRO-NORTE  Emolor Vocals   \n",
       "3               Evil White Baton   Alloralf  METRO-NORTE  Emolor Vocals   \n",
       "4               Evil White Baton   Alloralf  METRO-NORTE  Emolor Vocals   \n",
       "...                          ...        ...          ...            ...   \n",
       "6033821  Enlightened Dark Empire  Magornmar  METRO-NORTE  Emolor Vocals   \n",
       "6033822  Enlightened Dark Empire  Magornmar  METRO-NORTE  Emolor Vocals   \n",
       "6033823  Enlightened Dark Empire  Magornmar  METRO-NORTE  Emolor Vocals   \n",
       "6033824  Enlightened Dark Empire  Magornmar  METRO-NORTE  Emolor Vocals   \n",
       "6033825  Enlightened Dark Empire  Magornmar  METRO-NORTE  Emolor Vocals   \n",
       "\n",
       "        Structure Grade  \n",
       "0           METRO    IV  \n",
       "1           METRO    IV  \n",
       "2           METRO    IV  \n",
       "3           METRO    IV  \n",
       "4           METRO    IV  \n",
       "...           ...   ...  \n",
       "6033821     METRO     V  \n",
       "6033822     METRO     V  \n",
       "6033823     METRO     V  \n",
       "6033824     METRO     V  \n",
       "6033825     METRO     V  \n",
       "\n",
       "[6033826 rows x 16 columns]"
      ],
      "text/html": "<div>\n<style scoped>\n    .dataframe tbody tr th:only-of-type {\n        vertical-align: middle;\n    }\n\n    .dataframe tbody tr th {\n        vertical-align: top;\n    }\n\n    .dataframe thead th {\n        text-align: right;\n    }\n</style>\n<table border=\"1\" class=\"dataframe\">\n  <thead>\n    <tr style=\"text-align: right;\">\n      <th></th>\n      <th>Date</th>\n      <th>Sku</th>\n      <th>Sku_Description</th>\n      <th>Sku_Category</th>\n      <th>Units</th>\n      <th>Price</th>\n      <th>Store_Id</th>\n      <th>Store_Name</th>\n      <th>Supplier</th>\n      <th>Format</th>\n      <th>Town_or_City</th>\n      <th>State</th>\n      <th>Division</th>\n      <th>Distributor</th>\n      <th>Structure</th>\n      <th>Grade</th>\n    </tr>\n  </thead>\n  <tbody>\n    <tr>\n      <th>0</th>\n      <td>2017-01-01</td>\n      <td>4220015</td>\n      <td>Stars Chocolate</td>\n      <td>Sugar-free</td>\n      <td>6.0</td>\n      <td>15.6</td>\n      <td>18</td>\n      <td>Singing Black Center</td>\n      <td>proveedor_1</td>\n      <td>Shop</td>\n      <td>Evil White Baton</td>\n      <td>Alloralf</td>\n      <td>METRO-NORTE</td>\n      <td>Emolor Vocals</td>\n      <td>METRO</td>\n      <td>IV</td>\n    </tr>\n    <tr>\n      <th>1</th>\n      <td>2017-01-02</td>\n      <td>4220015</td>\n      <td>Stars Chocolate</td>\n      <td>Sugar-free</td>\n      <td>15.0</td>\n      <td>15.6</td>\n      <td>18</td>\n      <td>Singing Black Center</td>\n      <td>proveedor_1</td>\n      <td>Shop</td>\n      <td>Evil White Baton</td>\n      <td>Alloralf</td>\n      <td>METRO-NORTE</td>\n      <td>Emolor Vocals</td>\n      <td>METRO</td>\n      <td>IV</td>\n    </tr>\n    <tr>\n      <th>2</th>\n      <td>2017-01-03</td>\n      <td>4220015</td>\n      <td>Stars Chocolate</td>\n      <td>Sugar-free</td>\n      <td>10.0</td>\n      <td>15.6</td>\n      <td>18</td>\n      <td>Singing Black Center</td>\n      <td>proveedor_1</td>\n      <td>Shop</td>\n      <td>Evil White Baton</td>\n      <td>Alloralf</td>\n      <td>METRO-NORTE</td>\n      <td>Emolor Vocals</td>\n      <td>METRO</td>\n      <td>IV</td>\n    </tr>\n    <tr>\n      <th>3</th>\n      <td>2017-01-04</td>\n      <td>4220015</td>\n      <td>Stars Chocolate</td>\n      <td>Sugar-free</td>\n      <td>8.0</td>\n      <td>15.6</td>\n      <td>18</td>\n      <td>Singing Black Center</td>\n      <td>proveedor_1</td>\n      <td>Shop</td>\n      <td>Evil White Baton</td>\n      <td>Alloralf</td>\n      <td>METRO-NORTE</td>\n      <td>Emolor Vocals</td>\n      <td>METRO</td>\n      <td>IV</td>\n    </tr>\n    <tr>\n      <th>4</th>\n      <td>2017-01-05</td>\n      <td>4220015</td>\n      <td>Stars Chocolate</td>\n      <td>Sugar-free</td>\n      <td>12.0</td>\n      <td>15.6</td>\n      <td>18</td>\n      <td>Singing Black Center</td>\n      <td>proveedor_1</td>\n      <td>Shop</td>\n      <td>Evil White Baton</td>\n      <td>Alloralf</td>\n      <td>METRO-NORTE</td>\n      <td>Emolor Vocals</td>\n      <td>METRO</td>\n      <td>IV</td>\n    </tr>\n    <tr>\n      <th>...</th>\n      <td>...</td>\n      <td>...</td>\n      <td>...</td>\n      <td>...</td>\n      <td>...</td>\n      <td>...</td>\n      <td>...</td>\n      <td>...</td>\n      <td>...</td>\n      <td>...</td>\n      <td>...</td>\n      <td>...</td>\n      <td>...</td>\n      <td>...</td>\n      <td>...</td>\n      <td>...</td>\n    </tr>\n    <tr>\n      <th>6033821</th>\n      <td>2016-04-26</td>\n      <td>4371364</td>\n      <td>Peanut Butter Mango Peach</td>\n      <td>Super-flavour</td>\n      <td>12.0</td>\n      <td>185.0</td>\n      <td>3858</td>\n      <td>Empty Sea Green Convenience</td>\n      <td>proveedor_2</td>\n      <td>Leftorium</td>\n      <td>Enlightened Dark Empire</td>\n      <td>Magornmar</td>\n      <td>METRO-NORTE</td>\n      <td>Emolor Vocals</td>\n      <td>METRO</td>\n      <td>V</td>\n    </tr>\n    <tr>\n      <th>6033822</th>\n      <td>2016-04-27</td>\n      <td>4371364</td>\n      <td>Peanut Butter Mango Peach</td>\n      <td>Super-flavour</td>\n      <td>20.0</td>\n      <td>185.0</td>\n      <td>3858</td>\n      <td>Empty Sea Green Convenience</td>\n      <td>proveedor_2</td>\n      <td>Leftorium</td>\n      <td>Enlightened Dark Empire</td>\n      <td>Magornmar</td>\n      <td>METRO-NORTE</td>\n      <td>Emolor Vocals</td>\n      <td>METRO</td>\n      <td>V</td>\n    </tr>\n    <tr>\n      <th>6033823</th>\n      <td>2016-04-28</td>\n      <td>4371364</td>\n      <td>Peanut Butter Mango Peach</td>\n      <td>Super-flavour</td>\n      <td>8.0</td>\n      <td>185.0</td>\n      <td>3858</td>\n      <td>Empty Sea Green Convenience</td>\n      <td>proveedor_2</td>\n      <td>Leftorium</td>\n      <td>Enlightened Dark Empire</td>\n      <td>Magornmar</td>\n      <td>METRO-NORTE</td>\n      <td>Emolor Vocals</td>\n      <td>METRO</td>\n      <td>V</td>\n    </tr>\n    <tr>\n      <th>6033824</th>\n      <td>2016-04-29</td>\n      <td>4371364</td>\n      <td>Peanut Butter Mango Peach</td>\n      <td>Super-flavour</td>\n      <td>24.0</td>\n      <td>185.0</td>\n      <td>3858</td>\n      <td>Empty Sea Green Convenience</td>\n      <td>proveedor_2</td>\n      <td>Leftorium</td>\n      <td>Enlightened Dark Empire</td>\n      <td>Magornmar</td>\n      <td>METRO-NORTE</td>\n      <td>Emolor Vocals</td>\n      <td>METRO</td>\n      <td>V</td>\n    </tr>\n    <tr>\n      <th>6033825</th>\n      <td>2016-08-28</td>\n      <td>4371364</td>\n      <td>Peanut Butter Mango Peach</td>\n      <td>Super-flavour</td>\n      <td>4.0</td>\n      <td>185.0</td>\n      <td>3858</td>\n      <td>Empty Sea Green Convenience</td>\n      <td>proveedor_2</td>\n      <td>Leftorium</td>\n      <td>Enlightened Dark Empire</td>\n      <td>Magornmar</td>\n      <td>METRO-NORTE</td>\n      <td>Emolor Vocals</td>\n      <td>METRO</td>\n      <td>V</td>\n    </tr>\n  </tbody>\n</table>\n<p>6033826 rows × 16 columns</p>\n</div>"
     },
     "metadata": {},
     "execution_count": 63
    }
   ],
   "source": [
    "# Finally, setting the dataframe with the new order\n",
    "df_sellout_final = df_sellout_final[cols_sellout]\n",
    "df_sellout_final"
   ]
  },
  {
   "source": [
    "## Merge DataFrames Sellin"
   ],
   "cell_type": "markdown",
   "metadata": {}
  },
  {
   "source": [
    "First, I'm going to compare if all the sku of sellin dataframe are in maestro_prod (description product dataframe)"
   ],
   "cell_type": "markdown",
   "metadata": {}
  },
  {
   "cell_type": "code",
   "execution_count": 64,
   "metadata": {},
   "outputs": [],
   "source": [
    "# Passing the array of store_id to list\n",
    "lista_sellin_sku = list(sellin.Sku.unique())\n",
    "lista_maestroprod_sku = list(maestro_prod.Sku.unique())"
   ]
  },
  {
   "cell_type": "code",
   "execution_count": 65,
   "metadata": {},
   "outputs": [],
   "source": [
    "# Here I compare if the Sku of sellin dataframe is in maestro_prod (description product dataframe)\n",
    "    # The result: all the sku of sellin are in maestro_prod dataframe\n",
    "for x in lista_sellin_sku:\n",
    "    if x in lista_maestroprod_sku:\n",
    "        continue\n",
    "    else:\n",
    "        print(x)"
   ]
  },
  {
   "source": [
    "# Everything is correct so it's time to merge sellin with maestro_prod\n",
    "df_sellin = sellin.merge(maestro_prod)\n",
    "df_sellin"
   ],
   "cell_type": "code",
   "metadata": {},
   "execution_count": 66,
   "outputs": [
    {
     "output_type": "execute_result",
     "data": {
      "text/plain": [
       "             Sku       Date  Store_Id  Pieces  Price  Margin  \\\n",
       "0        4220015 2015-02-01       100   20.00  13.01    9.78   \n",
       "1        4220015 2015-02-01       116   20.00  13.01    9.78   \n",
       "2        4220015 2015-02-01       141   80.00  13.01    9.78   \n",
       "3        4220015 2015-02-01       146   10.00  13.01    9.78   \n",
       "4        4220015 2015-02-01       151   20.00  13.09    9.87   \n",
       "...          ...        ...       ...     ...    ...     ...   \n",
       "4188760  4829827 2017-05-31      3900   33.75  20.51   14.62   \n",
       "4188761  4829827 2017-05-31      4090   20.25  20.51   14.62   \n",
       "4188762  4829827 2017-05-31      4544    6.75  20.51   14.62   \n",
       "4188763  4829827 2017-05-31      5702   33.75  20.51   14.62   \n",
       "4188764  4829827 2017-05-31      5773    6.75  20.51   14.62   \n",
       "\n",
       "                          Sku_Description Sku_Category Sku_Subcategory  \n",
       "0                         Stars Chocolate   Sugar-free     Cereal bars  \n",
       "1                         Stars Chocolate   Sugar-free     Cereal bars  \n",
       "2                         Stars Chocolate   Sugar-free     Cereal bars  \n",
       "3                         Stars Chocolate   Sugar-free     Cereal bars  \n",
       "4                         Stars Chocolate   Sugar-free     Cereal bars  \n",
       "...                                   ...          ...             ...  \n",
       "4188760  Golden Goals Chocolate Choc Chip   Sugar-free     Cereal bars  \n",
       "4188761  Golden Goals Chocolate Choc Chip   Sugar-free     Cereal bars  \n",
       "4188762  Golden Goals Chocolate Choc Chip   Sugar-free     Cereal bars  \n",
       "4188763  Golden Goals Chocolate Choc Chip   Sugar-free     Cereal bars  \n",
       "4188764  Golden Goals Chocolate Choc Chip   Sugar-free     Cereal bars  \n",
       "\n",
       "[4188765 rows x 9 columns]"
      ],
      "text/html": "<div>\n<style scoped>\n    .dataframe tbody tr th:only-of-type {\n        vertical-align: middle;\n    }\n\n    .dataframe tbody tr th {\n        vertical-align: top;\n    }\n\n    .dataframe thead th {\n        text-align: right;\n    }\n</style>\n<table border=\"1\" class=\"dataframe\">\n  <thead>\n    <tr style=\"text-align: right;\">\n      <th></th>\n      <th>Sku</th>\n      <th>Date</th>\n      <th>Store_Id</th>\n      <th>Pieces</th>\n      <th>Price</th>\n      <th>Margin</th>\n      <th>Sku_Description</th>\n      <th>Sku_Category</th>\n      <th>Sku_Subcategory</th>\n    </tr>\n  </thead>\n  <tbody>\n    <tr>\n      <th>0</th>\n      <td>4220015</td>\n      <td>2015-02-01</td>\n      <td>100</td>\n      <td>20.00</td>\n      <td>13.01</td>\n      <td>9.78</td>\n      <td>Stars Chocolate</td>\n      <td>Sugar-free</td>\n      <td>Cereal bars</td>\n    </tr>\n    <tr>\n      <th>1</th>\n      <td>4220015</td>\n      <td>2015-02-01</td>\n      <td>116</td>\n      <td>20.00</td>\n      <td>13.01</td>\n      <td>9.78</td>\n      <td>Stars Chocolate</td>\n      <td>Sugar-free</td>\n      <td>Cereal bars</td>\n    </tr>\n    <tr>\n      <th>2</th>\n      <td>4220015</td>\n      <td>2015-02-01</td>\n      <td>141</td>\n      <td>80.00</td>\n      <td>13.01</td>\n      <td>9.78</td>\n      <td>Stars Chocolate</td>\n      <td>Sugar-free</td>\n      <td>Cereal bars</td>\n    </tr>\n    <tr>\n      <th>3</th>\n      <td>4220015</td>\n      <td>2015-02-01</td>\n      <td>146</td>\n      <td>10.00</td>\n      <td>13.01</td>\n      <td>9.78</td>\n      <td>Stars Chocolate</td>\n      <td>Sugar-free</td>\n      <td>Cereal bars</td>\n    </tr>\n    <tr>\n      <th>4</th>\n      <td>4220015</td>\n      <td>2015-02-01</td>\n      <td>151</td>\n      <td>20.00</td>\n      <td>13.09</td>\n      <td>9.87</td>\n      <td>Stars Chocolate</td>\n      <td>Sugar-free</td>\n      <td>Cereal bars</td>\n    </tr>\n    <tr>\n      <th>...</th>\n      <td>...</td>\n      <td>...</td>\n      <td>...</td>\n      <td>...</td>\n      <td>...</td>\n      <td>...</td>\n      <td>...</td>\n      <td>...</td>\n      <td>...</td>\n    </tr>\n    <tr>\n      <th>4188760</th>\n      <td>4829827</td>\n      <td>2017-05-31</td>\n      <td>3900</td>\n      <td>33.75</td>\n      <td>20.51</td>\n      <td>14.62</td>\n      <td>Golden Goals Chocolate Choc Chip</td>\n      <td>Sugar-free</td>\n      <td>Cereal bars</td>\n    </tr>\n    <tr>\n      <th>4188761</th>\n      <td>4829827</td>\n      <td>2017-05-31</td>\n      <td>4090</td>\n      <td>20.25</td>\n      <td>20.51</td>\n      <td>14.62</td>\n      <td>Golden Goals Chocolate Choc Chip</td>\n      <td>Sugar-free</td>\n      <td>Cereal bars</td>\n    </tr>\n    <tr>\n      <th>4188762</th>\n      <td>4829827</td>\n      <td>2017-05-31</td>\n      <td>4544</td>\n      <td>6.75</td>\n      <td>20.51</td>\n      <td>14.62</td>\n      <td>Golden Goals Chocolate Choc Chip</td>\n      <td>Sugar-free</td>\n      <td>Cereal bars</td>\n    </tr>\n    <tr>\n      <th>4188763</th>\n      <td>4829827</td>\n      <td>2017-05-31</td>\n      <td>5702</td>\n      <td>33.75</td>\n      <td>20.51</td>\n      <td>14.62</td>\n      <td>Golden Goals Chocolate Choc Chip</td>\n      <td>Sugar-free</td>\n      <td>Cereal bars</td>\n    </tr>\n    <tr>\n      <th>4188764</th>\n      <td>4829827</td>\n      <td>2017-05-31</td>\n      <td>5773</td>\n      <td>6.75</td>\n      <td>20.51</td>\n      <td>14.62</td>\n      <td>Golden Goals Chocolate Choc Chip</td>\n      <td>Sugar-free</td>\n      <td>Cereal bars</td>\n    </tr>\n  </tbody>\n</table>\n<p>4188765 rows × 9 columns</p>\n</div>"
     },
     "metadata": {},
     "execution_count": 66
    }
   ]
  },
  {
   "cell_type": "code",
   "execution_count": 67,
   "metadata": {},
   "outputs": [
    {
     "output_type": "execute_result",
     "data": {
      "text/plain": [
       "0"
      ]
     },
     "metadata": {},
     "execution_count": 67
    }
   ],
   "source": [
    "#Checking the merge was done well\n",
    "df_sellin.shape[0] - sellin.shape[0]"
   ]
  },
  {
   "source": [
    "In sellin dataframe I didn't have the information of supplier but I remembered that:\n",
    "- Sellin dataframes has purchases from 2015 to 2017\n",
    "- Sellout supplier 1 has purchases only from 2017\n",
    "- Sellout suppier 2 has purchases only from 2016\n",
    "\n",
    "So, in this case, I merged by date ignoring the data from 2015 because I assumed that supplier 1 only bought in 2017 and supplier 2 only bought in 2016."
   ],
   "cell_type": "markdown",
   "metadata": {}
  },
  {
   "cell_type": "code",
   "execution_count": 68,
   "metadata": {},
   "outputs": [],
   "source": [
    "# Recovering the two dataframes divided by supplier.\n",
    "\n",
    "maestro_client_prov1 = maestro_client.loc[maestro_client[\"Supplier\"] == \"proveedor_1\"]\n",
    "maestro_client_prov2 = maestro_client.loc[maestro_client[\"Supplier\"] == \"proveedor_2\"]"
   ]
  },
  {
   "cell_type": "code",
   "execution_count": 69,
   "metadata": {},
   "outputs": [
    {
     "output_type": "execute_result",
     "data": {
      "text/plain": [
       "       Sku       Date  Store_Id  Pieces  Price  Margin  Sku_Description  \\\n",
       "0  4220015 2015-02-01       100    20.0  13.01    9.78  Stars Chocolate   \n",
       "1  4220015 2015-02-01       116    20.0  13.01    9.78  Stars Chocolate   \n",
       "2  4220015 2015-02-01       141    80.0  13.01    9.78  Stars Chocolate   \n",
       "3  4220015 2015-02-01       146    10.0  13.01    9.78  Stars Chocolate   \n",
       "4  4220015 2015-02-01       151    20.0  13.09    9.87  Stars Chocolate   \n",
       "\n",
       "  Sku_Category Sku_Subcategory  Year  \n",
       "0   Sugar-free     Cereal bars  2015  \n",
       "1   Sugar-free     Cereal bars  2015  \n",
       "2   Sugar-free     Cereal bars  2015  \n",
       "3   Sugar-free     Cereal bars  2015  \n",
       "4   Sugar-free     Cereal bars  2015  "
      ],
      "text/html": "<div>\n<style scoped>\n    .dataframe tbody tr th:only-of-type {\n        vertical-align: middle;\n    }\n\n    .dataframe tbody tr th {\n        vertical-align: top;\n    }\n\n    .dataframe thead th {\n        text-align: right;\n    }\n</style>\n<table border=\"1\" class=\"dataframe\">\n  <thead>\n    <tr style=\"text-align: right;\">\n      <th></th>\n      <th>Sku</th>\n      <th>Date</th>\n      <th>Store_Id</th>\n      <th>Pieces</th>\n      <th>Price</th>\n      <th>Margin</th>\n      <th>Sku_Description</th>\n      <th>Sku_Category</th>\n      <th>Sku_Subcategory</th>\n      <th>Year</th>\n    </tr>\n  </thead>\n  <tbody>\n    <tr>\n      <th>0</th>\n      <td>4220015</td>\n      <td>2015-02-01</td>\n      <td>100</td>\n      <td>20.0</td>\n      <td>13.01</td>\n      <td>9.78</td>\n      <td>Stars Chocolate</td>\n      <td>Sugar-free</td>\n      <td>Cereal bars</td>\n      <td>2015</td>\n    </tr>\n    <tr>\n      <th>1</th>\n      <td>4220015</td>\n      <td>2015-02-01</td>\n      <td>116</td>\n      <td>20.0</td>\n      <td>13.01</td>\n      <td>9.78</td>\n      <td>Stars Chocolate</td>\n      <td>Sugar-free</td>\n      <td>Cereal bars</td>\n      <td>2015</td>\n    </tr>\n    <tr>\n      <th>2</th>\n      <td>4220015</td>\n      <td>2015-02-01</td>\n      <td>141</td>\n      <td>80.0</td>\n      <td>13.01</td>\n      <td>9.78</td>\n      <td>Stars Chocolate</td>\n      <td>Sugar-free</td>\n      <td>Cereal bars</td>\n      <td>2015</td>\n    </tr>\n    <tr>\n      <th>3</th>\n      <td>4220015</td>\n      <td>2015-02-01</td>\n      <td>146</td>\n      <td>10.0</td>\n      <td>13.01</td>\n      <td>9.78</td>\n      <td>Stars Chocolate</td>\n      <td>Sugar-free</td>\n      <td>Cereal bars</td>\n      <td>2015</td>\n    </tr>\n    <tr>\n      <th>4</th>\n      <td>4220015</td>\n      <td>2015-02-01</td>\n      <td>151</td>\n      <td>20.0</td>\n      <td>13.09</td>\n      <td>9.87</td>\n      <td>Stars Chocolate</td>\n      <td>Sugar-free</td>\n      <td>Cereal bars</td>\n      <td>2015</td>\n    </tr>\n  </tbody>\n</table>\n</div>"
     },
     "metadata": {},
     "execution_count": 69
    }
   ],
   "source": [
    "# Doing a new column with the year\n",
    "df_sellin['Year'] = df_sellin['Date'].dt.year\n",
    "df_sellin.head()"
   ]
  },
  {
   "cell_type": "code",
   "execution_count": 70,
   "metadata": {},
   "outputs": [],
   "source": [
    "# Separating sellin into 2 dataframe by Year\n",
    "sellin_2017 = df_sellin.loc[(df_sellin[\"Year\"] == 2017), :]\n",
    "sellin_2016 = df_sellin.loc[(df_sellin[\"Year\"] == 2016), :]"
   ]
  },
  {
   "cell_type": "code",
   "execution_count": 71,
   "metadata": {},
   "outputs": [],
   "source": [
    "# Merging by year-supplier\n",
    "df_merge_sellprov1 = sellin_2017.merge(maestro_client_prov1, on=\"Store_Id\") # First supplier - Year 2017\n",
    "df_merge_sellprov2 = sellin_2016.merge(maestro_client_prov2, on=\"Store_Id\") # Second supplier - Year 2016"
   ]
  },
  {
   "cell_type": "code",
   "execution_count": 72,
   "metadata": {},
   "outputs": [],
   "source": [
    "# Concatenating both suppliers\n",
    "df_sellin_final = pd.concat([df_merge_sellprov1, df_merge_sellprov2])\n",
    "\n",
    "# Sorting the dataframe by Date\n",
    "df_sellin_final = df_sellin_final.sort_values(\"Date\").reset_index(drop=True)\n",
    "\n",
    "# Deleting Year column\n",
    "df_sellin_final = df_sellin_final.drop(['Year'], axis=1)"
   ]
  },
  {
   "source": [
    "Now, I am going to change the order of the columns so the dataframe makes more sense."
   ],
   "cell_type": "markdown",
   "metadata": {}
  },
  {
   "cell_type": "code",
   "execution_count": 73,
   "metadata": {},
   "outputs": [
    {
     "output_type": "execute_result",
     "data": {
      "text/plain": [
       "['Sku',\n",
       " 'Date',\n",
       " 'Store_Id',\n",
       " 'Pieces',\n",
       " 'Price',\n",
       " 'Margin',\n",
       " 'Sku_Description',\n",
       " 'Sku_Category',\n",
       " 'Sku_Subcategory',\n",
       " 'Store_Name',\n",
       " 'Supplier',\n",
       " 'Format',\n",
       " 'Town_or_City',\n",
       " 'State',\n",
       " 'Division',\n",
       " 'Distributor',\n",
       " 'Structure',\n",
       " 'Grade']"
      ]
     },
     "metadata": {},
     "execution_count": 73
    }
   ],
   "source": [
    "# First, passing the columns to list of columns\r\n",
    "cols_sellin = df_sellin_final.columns.tolist()\r\n",
    "cols_sellin"
   ]
  },
  {
   "cell_type": "code",
   "execution_count": 74,
   "metadata": {},
   "outputs": [
    {
     "output_type": "stream",
     "name": "stdout",
     "text": [
      "['Date', 'Sku', 'Sku_Description', 'Sku_Category', 'Sku_Subcategory', 'Pieces', 'Price', 'Margin', 'Store_Id', 'Supplier', 'Format', 'Town_or_City', 'State', 'Division', 'Distributor', 'Structure']\n"
     ]
    }
   ],
   "source": [
    "# Second, sorting the columns with a new order\n",
    "cols_sellin = cols_sellin[1:2] + cols_sellin[0:1] + cols_sellin[6:9] + cols_sellin[3:6] + cols_sellin[2:3] +                                cols_sellin[10:-1]\n",
    "print(cols_sellin)"
   ]
  },
  {
   "cell_type": "code",
   "execution_count": 75,
   "metadata": {},
   "outputs": [
    {
     "output_type": "execute_result",
     "data": {
      "text/plain": [
       "              Date      Sku                 Sku_Description   Sku_Category  \\\n",
       "0       2016-01-02  4523924          Grape-Nuts Mango Peach  Super-flavour   \n",
       "1       2016-01-02  4432194          Cornflakes Mango Peach     Sugar-free   \n",
       "2       2016-01-02  4381425              Chocos Mango Peach     Sugar-free   \n",
       "3       2016-01-02  4543948               Puffs Mango Peach  Super-flavour   \n",
       "4       2016-01-02  4230022           Crunch Life Chocolate     Sugar-free   \n",
       "...            ...      ...                             ...            ...   \n",
       "1656538 2017-12-05  4554143               Stars Mango Peach     Sugar-free   \n",
       "1656539 2017-12-05  4250046                Muesli Chocolate     Sugar-free   \n",
       "1656540 2017-12-05  4769520  Cornflakes Chocolate Choc Chip  Super-flavour   \n",
       "1656541 2017-12-05  4574433        Lucjy Charms Mango Peach     Sugar-free   \n",
       "1656542 2017-12-05  4554143               Stars Mango Peach     Sugar-free   \n",
       "\n",
       "        Sku_Subcategory  Pieces  Price  Margin  Store_Id     Supplier  \\\n",
       "0            Cereal box    4.80  36.23   23.55      3223  proveedor_2   \n",
       "1           Cereal bars    6.75  18.37   12.64      3771  proveedor_2   \n",
       "2           Cereal bars   48.00  13.91    9.57      2188  proveedor_2   \n",
       "3            Cereal box   21.60  35.77   25.18      3852  proveedor_2   \n",
       "4           Cereal bars   60.00  13.39    9.55      3841  proveedor_2   \n",
       "...                 ...     ...    ...     ...       ...          ...   \n",
       "1656538     Cereal bars  120.00  16.23   11.66       621  proveedor_1   \n",
       "1656539     Cereal bars  240.00  15.87   11.37       141  proveedor_1   \n",
       "1656540      Cereal box    9.60  43.37   33.34       100  proveedor_1   \n",
       "1656541     Cereal bars   20.00  14.93   10.51       116  proveedor_1   \n",
       "1656542     Cereal bars  240.00  16.23   11.66       667  proveedor_1   \n",
       "\n",
       "             Format             Town_or_City        State     Division  \\\n",
       "0        GipsyTrade  Enlightened Dark Empire    Magornmar    METRO-SUR   \n",
       "1          AllInOne  Enlightened Dark Empire    Magornmar    METRO-SUR   \n",
       "2           Grocery        Tiny Purple Creek  Thrilvallor       CENTRO   \n",
       "3         Leftorium  Enlightened Dark Empire    Magornmar    METRO-SUR   \n",
       "4        GipsyTrade  Enlightened Dark Empire    Magornmar  METRO-NORTE   \n",
       "...             ...                      ...          ...          ...   \n",
       "1656538   GreatShop     Horrible Purple Tree    Lorgulgus   CENTRO-SUR   \n",
       "1656539        Shop         Funny Lemon Star    Magornmar    METRO-SUR   \n",
       "1656540        Shop         Funny Lemon Star    Magornmar    METRO-SUR   \n",
       "1656541        Shop          Bad Silver Dirt     Alloralf    METRO-SUR   \n",
       "1656542   GreatShop          Last Pink River     Alloralf  METRO-NORTE   \n",
       "\n",
       "                          Distributor Structure  \n",
       "0        Ioalfio Ifonforge Industries     METRO  \n",
       "1                   Thrilthoal Empire     METRO  \n",
       "2                    Rusthomar Empire   FORANEO  \n",
       "3               Thrilvitar Industrail     METRO  \n",
       "4                       Emolor Vocals     METRO  \n",
       "...                               ...       ...  \n",
       "1656538          Gorngusco Toughworks   FORANEO  \n",
       "1656539         Thrilvitar Industrail     METRO  \n",
       "1656540             Thrilthoal Empire     METRO  \n",
       "1656541           Rusrusmo Toughworks     METRO  \n",
       "1656542                 Emolor Vocals     METRO  \n",
       "\n",
       "[1656543 rows x 16 columns]"
      ],
      "text/html": "<div>\n<style scoped>\n    .dataframe tbody tr th:only-of-type {\n        vertical-align: middle;\n    }\n\n    .dataframe tbody tr th {\n        vertical-align: top;\n    }\n\n    .dataframe thead th {\n        text-align: right;\n    }\n</style>\n<table border=\"1\" class=\"dataframe\">\n  <thead>\n    <tr style=\"text-align: right;\">\n      <th></th>\n      <th>Date</th>\n      <th>Sku</th>\n      <th>Sku_Description</th>\n      <th>Sku_Category</th>\n      <th>Sku_Subcategory</th>\n      <th>Pieces</th>\n      <th>Price</th>\n      <th>Margin</th>\n      <th>Store_Id</th>\n      <th>Supplier</th>\n      <th>Format</th>\n      <th>Town_or_City</th>\n      <th>State</th>\n      <th>Division</th>\n      <th>Distributor</th>\n      <th>Structure</th>\n    </tr>\n  </thead>\n  <tbody>\n    <tr>\n      <th>0</th>\n      <td>2016-01-02</td>\n      <td>4523924</td>\n      <td>Grape-Nuts Mango Peach</td>\n      <td>Super-flavour</td>\n      <td>Cereal box</td>\n      <td>4.80</td>\n      <td>36.23</td>\n      <td>23.55</td>\n      <td>3223</td>\n      <td>proveedor_2</td>\n      <td>GipsyTrade</td>\n      <td>Enlightened Dark Empire</td>\n      <td>Magornmar</td>\n      <td>METRO-SUR</td>\n      <td>Ioalfio Ifonforge Industries</td>\n      <td>METRO</td>\n    </tr>\n    <tr>\n      <th>1</th>\n      <td>2016-01-02</td>\n      <td>4432194</td>\n      <td>Cornflakes Mango Peach</td>\n      <td>Sugar-free</td>\n      <td>Cereal bars</td>\n      <td>6.75</td>\n      <td>18.37</td>\n      <td>12.64</td>\n      <td>3771</td>\n      <td>proveedor_2</td>\n      <td>AllInOne</td>\n      <td>Enlightened Dark Empire</td>\n      <td>Magornmar</td>\n      <td>METRO-SUR</td>\n      <td>Thrilthoal Empire</td>\n      <td>METRO</td>\n    </tr>\n    <tr>\n      <th>2</th>\n      <td>2016-01-02</td>\n      <td>4381425</td>\n      <td>Chocos Mango Peach</td>\n      <td>Sugar-free</td>\n      <td>Cereal bars</td>\n      <td>48.00</td>\n      <td>13.91</td>\n      <td>9.57</td>\n      <td>2188</td>\n      <td>proveedor_2</td>\n      <td>Grocery</td>\n      <td>Tiny Purple Creek</td>\n      <td>Thrilvallor</td>\n      <td>CENTRO</td>\n      <td>Rusthomar Empire</td>\n      <td>FORANEO</td>\n    </tr>\n    <tr>\n      <th>3</th>\n      <td>2016-01-02</td>\n      <td>4543948</td>\n      <td>Puffs Mango Peach</td>\n      <td>Super-flavour</td>\n      <td>Cereal box</td>\n      <td>21.60</td>\n      <td>35.77</td>\n      <td>25.18</td>\n      <td>3852</td>\n      <td>proveedor_2</td>\n      <td>Leftorium</td>\n      <td>Enlightened Dark Empire</td>\n      <td>Magornmar</td>\n      <td>METRO-SUR</td>\n      <td>Thrilvitar Industrail</td>\n      <td>METRO</td>\n    </tr>\n    <tr>\n      <th>4</th>\n      <td>2016-01-02</td>\n      <td>4230022</td>\n      <td>Crunch Life Chocolate</td>\n      <td>Sugar-free</td>\n      <td>Cereal bars</td>\n      <td>60.00</td>\n      <td>13.39</td>\n      <td>9.55</td>\n      <td>3841</td>\n      <td>proveedor_2</td>\n      <td>GipsyTrade</td>\n      <td>Enlightened Dark Empire</td>\n      <td>Magornmar</td>\n      <td>METRO-NORTE</td>\n      <td>Emolor Vocals</td>\n      <td>METRO</td>\n    </tr>\n    <tr>\n      <th>...</th>\n      <td>...</td>\n      <td>...</td>\n      <td>...</td>\n      <td>...</td>\n      <td>...</td>\n      <td>...</td>\n      <td>...</td>\n      <td>...</td>\n      <td>...</td>\n      <td>...</td>\n      <td>...</td>\n      <td>...</td>\n      <td>...</td>\n      <td>...</td>\n      <td>...</td>\n      <td>...</td>\n    </tr>\n    <tr>\n      <th>1656538</th>\n      <td>2017-12-05</td>\n      <td>4554143</td>\n      <td>Stars Mango Peach</td>\n      <td>Sugar-free</td>\n      <td>Cereal bars</td>\n      <td>120.00</td>\n      <td>16.23</td>\n      <td>11.66</td>\n      <td>621</td>\n      <td>proveedor_1</td>\n      <td>GreatShop</td>\n      <td>Horrible Purple Tree</td>\n      <td>Lorgulgus</td>\n      <td>CENTRO-SUR</td>\n      <td>Gorngusco Toughworks</td>\n      <td>FORANEO</td>\n    </tr>\n    <tr>\n      <th>1656539</th>\n      <td>2017-12-05</td>\n      <td>4250046</td>\n      <td>Muesli Chocolate</td>\n      <td>Sugar-free</td>\n      <td>Cereal bars</td>\n      <td>240.00</td>\n      <td>15.87</td>\n      <td>11.37</td>\n      <td>141</td>\n      <td>proveedor_1</td>\n      <td>Shop</td>\n      <td>Funny Lemon Star</td>\n      <td>Magornmar</td>\n      <td>METRO-SUR</td>\n      <td>Thrilvitar Industrail</td>\n      <td>METRO</td>\n    </tr>\n    <tr>\n      <th>1656540</th>\n      <td>2017-12-05</td>\n      <td>4769520</td>\n      <td>Cornflakes Chocolate Choc Chip</td>\n      <td>Super-flavour</td>\n      <td>Cereal box</td>\n      <td>9.60</td>\n      <td>43.37</td>\n      <td>33.34</td>\n      <td>100</td>\n      <td>proveedor_1</td>\n      <td>Shop</td>\n      <td>Funny Lemon Star</td>\n      <td>Magornmar</td>\n      <td>METRO-SUR</td>\n      <td>Thrilthoal Empire</td>\n      <td>METRO</td>\n    </tr>\n    <tr>\n      <th>1656541</th>\n      <td>2017-12-05</td>\n      <td>4574433</td>\n      <td>Lucjy Charms Mango Peach</td>\n      <td>Sugar-free</td>\n      <td>Cereal bars</td>\n      <td>20.00</td>\n      <td>14.93</td>\n      <td>10.51</td>\n      <td>116</td>\n      <td>proveedor_1</td>\n      <td>Shop</td>\n      <td>Bad Silver Dirt</td>\n      <td>Alloralf</td>\n      <td>METRO-SUR</td>\n      <td>Rusrusmo Toughworks</td>\n      <td>METRO</td>\n    </tr>\n    <tr>\n      <th>1656542</th>\n      <td>2017-12-05</td>\n      <td>4554143</td>\n      <td>Stars Mango Peach</td>\n      <td>Sugar-free</td>\n      <td>Cereal bars</td>\n      <td>240.00</td>\n      <td>16.23</td>\n      <td>11.66</td>\n      <td>667</td>\n      <td>proveedor_1</td>\n      <td>GreatShop</td>\n      <td>Last Pink River</td>\n      <td>Alloralf</td>\n      <td>METRO-NORTE</td>\n      <td>Emolor Vocals</td>\n      <td>METRO</td>\n    </tr>\n  </tbody>\n</table>\n<p>1656543 rows × 16 columns</p>\n</div>"
     },
     "metadata": {},
     "execution_count": 75
    }
   ],
   "source": [
    "# Finally, setting the dataframe with the new order\n",
    "df_sellin_final = df_sellin_final[cols_sellin]\n",
    "df_sellin_final"
   ]
  },
  {
   "source": [
    "# PRUEBAS"
   ],
   "cell_type": "markdown",
   "metadata": {}
  },
  {
   "cell_type": "code",
   "execution_count": 76,
   "metadata": {},
   "outputs": [
    {
     "output_type": "stream",
     "name": "stdout",
     "text": [
      "1\n",
      "2\n",
      "3\n",
      "4\n",
      "5\n",
      "6\n",
      "7\n",
      "8\n",
      "9\n",
      "10\n",
      "11\n",
      "12\n",
      "13\n",
      "14\n",
      "15\n",
      "16\n",
      "17\n",
      "18\n",
      "19\n",
      "20\n",
      "21\n",
      "22\n",
      "23\n",
      "24\n",
      "25\n",
      "26\n",
      "27\n",
      "28\n",
      "29\n",
      "30\n",
      "31\n",
      "32\n",
      "33\n",
      "34\n",
      "35\n",
      "36\n",
      "37\n",
      "38\n",
      "39\n",
      "40\n",
      "41\n",
      "42\n",
      "43\n",
      "44\n",
      "45\n",
      "46\n",
      "47\n",
      "48\n",
      "49\n",
      "50\n",
      "51\n",
      "52\n",
      "53\n",
      "54\n",
      "55\n",
      "56\n",
      "57\n",
      "58\n",
      "59\n",
      "60\n",
      "61\n",
      "62\n",
      "63\n",
      "64\n",
      "65\n",
      "66\n",
      "67\n",
      "68\n",
      "69\n",
      "70\n",
      "71\n",
      "72\n",
      "73\n",
      "74\n",
      "75\n",
      "76\n",
      "77\n",
      "78\n",
      "79\n",
      "80\n",
      "81\n",
      "82\n",
      "83\n",
      "84\n",
      "85\n",
      "86\n",
      "87\n",
      "88\n",
      "89\n",
      "90\n",
      "91\n",
      "92\n",
      "93\n",
      "94\n",
      "95\n",
      "96\n",
      "97\n",
      "98\n",
      "99\n",
      "100\n",
      "101\n",
      "102\n",
      "103\n",
      "104\n",
      "105\n",
      "106\n",
      "107\n",
      "108\n",
      "109\n",
      "110\n",
      "111\n",
      "112\n",
      "113\n",
      "114\n",
      "115\n",
      "116\n",
      "117\n",
      "118\n",
      "119\n",
      "120\n",
      "121\n",
      "122\n",
      "123\n",
      "124\n",
      "125\n",
      "126\n",
      "127\n",
      "128\n",
      "129\n",
      "130\n",
      "131\n",
      "132\n",
      "133\n",
      "134\n",
      "135\n",
      "136\n",
      "137\n",
      "138\n",
      "139\n",
      "140\n",
      "141\n",
      "142\n",
      "143\n",
      "144\n",
      "145\n",
      "146\n",
      "147\n",
      "148\n",
      "149\n",
      "150\n",
      "151\n",
      "152\n",
      "153\n",
      "154\n",
      "155\n",
      "156\n",
      "157\n",
      "158\n",
      "159\n",
      "160\n",
      "161\n",
      "162\n",
      "163\n",
      "164\n",
      "165\n",
      "166\n",
      "167\n",
      "168\n",
      "169\n",
      "170\n",
      "171\n",
      "172\n",
      "173\n",
      "174\n",
      "175\n",
      "176\n",
      "177\n",
      "178\n",
      "179\n",
      "180\n",
      "181\n",
      "182\n",
      "183\n",
      "184\n",
      "185\n",
      "186\n",
      "187\n",
      "188\n",
      "189\n",
      "190\n",
      "191\n",
      "192\n",
      "193\n",
      "194\n",
      "195\n",
      "196\n",
      "197\n",
      "198\n",
      "199\n",
      "200\n",
      "201\n",
      "202\n",
      "203\n",
      "204\n",
      "205\n",
      "206\n",
      "207\n",
      "208\n",
      "209\n",
      "210\n",
      "211\n",
      "212\n",
      "213\n",
      "214\n",
      "215\n",
      "216\n",
      "217\n",
      "218\n",
      "219\n",
      "220\n",
      "221\n",
      "222\n",
      "223\n",
      "224\n",
      "225\n",
      "226\n",
      "227\n",
      "228\n",
      "229\n",
      "230\n",
      "231\n",
      "232\n",
      "233\n",
      "234\n",
      "235\n",
      "236\n",
      "237\n",
      "238\n",
      "239\n",
      "240\n",
      "241\n",
      "242\n",
      "243\n",
      "244\n",
      "245\n",
      "246\n",
      "247\n",
      "248\n",
      "249\n",
      "250\n",
      "251\n",
      "252\n",
      "253\n",
      "254\n",
      "255\n",
      "256\n",
      "257\n",
      "258\n",
      "259\n",
      "260\n",
      "261\n",
      "262\n",
      "263\n",
      "264\n",
      "265\n",
      "266\n",
      "267\n",
      "268\n",
      "269\n",
      "270\n",
      "271\n",
      "272\n",
      "273\n",
      "274\n",
      "275\n",
      "276\n",
      "277\n",
      "278\n",
      "279\n",
      "280\n",
      "281\n",
      "282\n",
      "283\n",
      "284\n",
      "285\n",
      "286\n",
      "287\n",
      "288\n",
      "289\n",
      "290\n",
      "291\n",
      "292\n",
      "293\n",
      "294\n",
      "295\n",
      "296\n",
      "297\n",
      "298\n",
      "299\n",
      "300\n",
      "301\n",
      "302\n",
      "303\n",
      "304\n",
      "305\n",
      "306\n",
      "307\n",
      "308\n",
      "309\n",
      "310\n",
      "311\n",
      "312\n",
      "313\n",
      "314\n",
      "315\n",
      "316\n",
      "317\n",
      "318\n",
      "319\n",
      "320\n",
      "321\n",
      "322\n",
      "323\n",
      "324\n",
      "325\n",
      "326\n",
      "327\n",
      "328\n",
      "329\n",
      "330\n",
      "331\n",
      "332\n",
      "333\n",
      "334\n",
      "335\n",
      "336\n",
      "337\n",
      "338\n",
      "339\n",
      "340\n",
      "341\n",
      "342\n",
      "343\n",
      "344\n",
      "345\n",
      "346\n",
      "347\n",
      "348\n",
      "349\n",
      "350\n",
      "351\n",
      "352\n",
      "353\n",
      "354\n",
      "355\n",
      "356\n",
      "357\n",
      "358\n",
      "359\n",
      "360\n",
      "361\n",
      "362\n",
      "363\n",
      "364\n",
      "365\n",
      "366\n",
      "367\n",
      "368\n",
      "369\n",
      "370\n",
      "371\n",
      "372\n",
      "373\n",
      "374\n",
      "375\n",
      "376\n",
      "377\n",
      "378\n",
      "379\n",
      "380\n",
      "381\n",
      "382\n",
      "383\n",
      "384\n",
      "385\n",
      "386\n",
      "387\n",
      "388\n",
      "389\n",
      "390\n",
      "391\n",
      "392\n",
      "393\n",
      "394\n",
      "395\n",
      "396\n",
      "397\n",
      "398\n",
      "399\n",
      "400\n",
      "401\n",
      "402\n",
      "403\n",
      "404\n",
      "405\n",
      "406\n",
      "407\n",
      "408\n",
      "409\n",
      "410\n",
      "411\n",
      "412\n",
      "413\n",
      "414\n",
      "415\n",
      "416\n",
      "417\n",
      "418\n",
      "419\n",
      "420\n",
      "421\n",
      "422\n",
      "423\n",
      "424\n",
      "425\n",
      "426\n",
      "427\n",
      "428\n",
      "429\n",
      "430\n",
      "431\n",
      "432\n",
      "433\n",
      "434\n",
      "435\n",
      "436\n",
      "437\n",
      "438\n",
      "439\n",
      "440\n",
      "441\n",
      "442\n",
      "443\n",
      "444\n",
      "445\n",
      "446\n",
      "447\n",
      "448\n",
      "449\n",
      "450\n",
      "451\n",
      "452\n",
      "453\n",
      "454\n",
      "455\n",
      "456\n",
      "457\n",
      "458\n",
      "459\n",
      "460\n",
      "461\n",
      "462\n",
      "463\n",
      "464\n",
      "465\n",
      "466\n",
      "467\n",
      "468\n",
      "469\n",
      "470\n",
      "471\n",
      "472\n",
      "473\n",
      "474\n",
      "475\n",
      "476\n",
      "477\n",
      "478\n",
      "479\n",
      "480\n",
      "481\n",
      "482\n",
      "483\n",
      "484\n",
      "485\n",
      "486\n",
      "487\n",
      "488\n",
      "489\n",
      "490\n",
      "491\n",
      "492\n",
      "493\n",
      "494\n",
      "495\n",
      "496\n",
      "497\n",
      "498\n",
      "499\n",
      "500\n",
      "501\n",
      "502\n",
      "503\n",
      "504\n",
      "505\n",
      "506\n",
      "507\n",
      "508\n",
      "509\n",
      "510\n",
      "511\n",
      "512\n",
      "513\n",
      "514\n",
      "515\n",
      "516\n",
      "517\n",
      "518\n",
      "519\n",
      "520\n",
      "521\n",
      "522\n",
      "523\n",
      "524\n",
      "525\n",
      "526\n",
      "527\n",
      "528\n",
      "529\n",
      "530\n",
      "531\n",
      "532\n",
      "533\n",
      "534\n",
      "535\n",
      "536\n",
      "537\n",
      "538\n",
      "539\n",
      "540\n",
      "541\n",
      "542\n",
      "543\n",
      "544\n",
      "545\n",
      "546\n",
      "547\n",
      "548\n",
      "549\n",
      "550\n",
      "551\n",
      "552\n",
      "553\n",
      "554\n",
      "555\n",
      "556\n",
      "557\n",
      "558\n",
      "559\n",
      "560\n",
      "561\n",
      "562\n",
      "563\n",
      "564\n",
      "565\n",
      "566\n",
      "567\n",
      "568\n",
      "569\n",
      "570\n",
      "571\n",
      "572\n",
      "573\n",
      "574\n",
      "575\n",
      "576\n",
      "577\n",
      "578\n",
      "579\n",
      "580\n",
      "581\n",
      "582\n",
      "583\n",
      "584\n",
      "585\n",
      "586\n",
      "587\n",
      "588\n",
      "589\n",
      "590\n",
      "591\n",
      "592\n",
      "593\n",
      "594\n",
      "595\n",
      "596\n",
      "597\n",
      "598\n",
      "599\n",
      "600\n",
      "601\n",
      "602\n",
      "603\n",
      "604\n",
      "605\n",
      "606\n",
      "607\n",
      "608\n",
      "609\n",
      "610\n",
      "611\n",
      "612\n",
      "613\n",
      "614\n",
      "615\n",
      "616\n",
      "617\n",
      "618\n",
      "619\n",
      "620\n",
      "621\n",
      "622\n",
      "623\n",
      "624\n",
      "625\n",
      "626\n",
      "627\n",
      "628\n",
      "629\n",
      "630\n",
      "631\n",
      "632\n",
      "633\n",
      "634\n",
      "635\n",
      "636\n",
      "637\n",
      "638\n",
      "639\n",
      "640\n",
      "641\n",
      "642\n",
      "643\n",
      "644\n",
      "645\n",
      "646\n",
      "647\n",
      "648\n",
      "649\n",
      "650\n",
      "651\n",
      "652\n",
      "653\n",
      "654\n",
      "655\n",
      "656\n",
      "657\n",
      "658\n",
      "659\n",
      "660\n",
      "661\n",
      "662\n",
      "663\n",
      "664\n",
      "665\n",
      "666\n",
      "667\n",
      "668\n",
      "669\n",
      "670\n",
      "671\n",
      "672\n",
      "673\n",
      "674\n",
      "675\n",
      "676\n",
      "677\n",
      "678\n",
      "679\n",
      "680\n",
      "681\n",
      "682\n",
      "683\n",
      "684\n",
      "685\n",
      "686\n",
      "687\n",
      "688\n",
      "689\n",
      "690\n",
      "691\n",
      "692\n",
      "693\n",
      "694\n",
      "695\n",
      "696\n",
      "697\n",
      "698\n",
      "699\n",
      "700\n",
      "701\n",
      "702\n",
      "703\n",
      "704\n",
      "705\n",
      "706\n",
      "707\n",
      "708\n",
      "709\n",
      "710\n",
      "711\n",
      "712\n",
      "713\n",
      "714\n",
      "715\n",
      "716\n",
      "717\n",
      "718\n",
      "719\n",
      "720\n",
      "721\n",
      "722\n",
      "723\n",
      "724\n",
      "725\n",
      "726\n",
      "727\n",
      "728\n",
      "729\n",
      "730\n",
      "731\n",
      "732\n",
      "733\n",
      "734\n",
      "735\n",
      "736\n",
      "737\n",
      "738\n",
      "739\n",
      "740\n",
      "741\n",
      "742\n",
      "743\n",
      "744\n",
      "745\n",
      "746\n",
      "747\n",
      "748\n",
      "749\n",
      "750\n",
      "751\n",
      "752\n",
      "753\n",
      "754\n",
      "755\n",
      "756\n",
      "757\n",
      "758\n",
      "759\n",
      "760\n",
      "761\n",
      "762\n",
      "763\n",
      "764\n",
      "765\n",
      "766\n",
      "767\n",
      "768\n",
      "769\n",
      "770\n",
      "771\n",
      "772\n",
      "773\n",
      "774\n",
      "775\n",
      "776\n",
      "777\n",
      "778\n",
      "779\n",
      "780\n",
      "781\n",
      "782\n",
      "783\n",
      "784\n",
      "785\n",
      "786\n",
      "787\n",
      "788\n",
      "789\n",
      "790\n",
      "791\n",
      "792\n",
      "793\n",
      "794\n",
      "795\n",
      "796\n",
      "797\n",
      "798\n",
      "799\n",
      "800\n",
      "801\n",
      "802\n",
      "803\n",
      "804\n",
      "805\n",
      "806\n",
      "807\n",
      "808\n",
      "809\n",
      "810\n",
      "811\n",
      "812\n",
      "813\n",
      "814\n",
      "815\n",
      "816\n",
      "817\n",
      "818\n",
      "STOP 819\n"
     ]
    }
   ],
   "source": [
    "x = True\n",
    "acum=0\n",
    "\n",
    "while x == True:\n",
    "    sellin2 = sellin.head(acum+1)\n",
    "    df_merge = sellin2.merge(maestro_client)\n",
    "    if len(df_merge)== len(sellin2):\n",
    "        acum = len(sellin2)\n",
    "        print(acum)\n",
    "    else:\n",
    "        print(\"STOP\", len(sellin2))\n",
    "        x = False"
   ]
  },
  {
   "cell_type": "code",
   "execution_count": 77,
   "metadata": {},
   "outputs": [
    {
     "output_type": "execute_result",
     "data": {
      "text/plain": [
       "        Sku       Date  Store_Id  Pieces  Price  Margin  \\\n",
       "0   4220015 2015-08-01      5817    20.0  12.59    9.36   \n",
       "1   4220015 2015-09-01       100    40.0  13.01    9.78   \n",
       "2   4220015 2015-09-01       121    20.0  13.01    9.78   \n",
       "3   4220015 2015-09-01       129    40.0  13.01    9.78   \n",
       "4   4220015 2015-09-01       231    20.0  13.01    9.78   \n",
       "5   4220015 2015-09-01       233    40.0  13.01    9.78   \n",
       "6   4220015 2015-09-01       238    60.0  13.09    9.87   \n",
       "7   4220015 2015-09-01       239    40.0  13.01    9.78   \n",
       "8   4220015 2015-09-01       240    20.0  13.01    9.78   \n",
       "9   4220015 2015-09-01       240    20.0  13.01    9.78   \n",
       "10  4220015 2015-09-01       260    40.0  13.01    9.78   \n",
       "\n",
       "                  Store_Name     Supplier      Format  \\\n",
       "0   Awesome Yellow Stationer  proveedor_2  GipsyTrade   \n",
       "1        Clean Grey Jeweller  proveedor_1        Shop   \n",
       "2    Massive Purple HighShop  proveedor_1        Shop   \n",
       "3   Dirty Lavender SmallShop  proveedor_1        Shop   \n",
       "4        Awesome Pink BigCom  proveedor_1        Shop   \n",
       "5      Defiant Silver Center  proveedor_1        Shop   \n",
       "6    Bloody Lime Convenience  proveedor_1        Shop   \n",
       "7           Dirty Lemon Shop  proveedor_1        Shop   \n",
       "8         Dull Navy BookShop  proveedor_1        Shop   \n",
       "9         Dull Navy BookShop  proveedor_2    TinyShop   \n",
       "10      Tiny Lemon GreatShop  proveedor_1        Shop   \n",
       "\n",
       "               Town_or_City      State     Division  \\\n",
       "0   Enlightened Dark Empire  Magornmar    METRO-SUR   \n",
       "1          Funny Lemon Star  Magornmar    METRO-SUR   \n",
       "2          Funny Lemon Star  Magornmar    METRO-SUR   \n",
       "3          Funny Lemon Star  Magornmar    METRO-SUR   \n",
       "4    Interesting Green Pine   Alloralf    METRO-SUR   \n",
       "5          Funny Lemon Star  Magornmar    METRO-SUR   \n",
       "6           Clean Aqua Soil    Egusgul   CENTRO-SUR   \n",
       "7      Young Orchid Capital  Magornmar  METRO-NORTE   \n",
       "8            Rare Lemon Key   Alloralf    METRO-SUR   \n",
       "9            Rare Lemon Key   Alloralf  METRO-NORTE   \n",
       "10           Rare Lemon Key   Alloralf  METRO-NORTE   \n",
       "\n",
       "                     Distributor Structure Grade  \n",
       "0          Thrilvitar Industrail     METRO     V  \n",
       "1              Thrilthoal Empire     METRO     V  \n",
       "2              Thrilthoal Empire     METRO     V  \n",
       "3   Ioalfio Ifonforge Industries     METRO     V  \n",
       "4   Ioalfio Ifonforge Industries     METRO    IV  \n",
       "5              Thrilthoal Empire     METRO     V  \n",
       "6             Erodmad Industrail   FORANEO    IV  \n",
       "7                  Emolor Vocals     METRO     V  \n",
       "8              Thrilthoal Empire     METRO    IV  \n",
       "9           Lorthogus Toughworks     METRO    IV  \n",
       "10             Thrilvallor Corp.     METRO    IV  "
      ],
      "text/html": "<div>\n<style scoped>\n    .dataframe tbody tr th:only-of-type {\n        vertical-align: middle;\n    }\n\n    .dataframe tbody tr th {\n        vertical-align: top;\n    }\n\n    .dataframe thead th {\n        text-align: right;\n    }\n</style>\n<table border=\"1\" class=\"dataframe\">\n  <thead>\n    <tr style=\"text-align: right;\">\n      <th></th>\n      <th>Sku</th>\n      <th>Date</th>\n      <th>Store_Id</th>\n      <th>Pieces</th>\n      <th>Price</th>\n      <th>Margin</th>\n      <th>Store_Name</th>\n      <th>Supplier</th>\n      <th>Format</th>\n      <th>Town_or_City</th>\n      <th>State</th>\n      <th>Division</th>\n      <th>Distributor</th>\n      <th>Structure</th>\n      <th>Grade</th>\n    </tr>\n  </thead>\n  <tbody>\n    <tr>\n      <th>0</th>\n      <td>4220015</td>\n      <td>2015-08-01</td>\n      <td>5817</td>\n      <td>20.0</td>\n      <td>12.59</td>\n      <td>9.36</td>\n      <td>Awesome Yellow Stationer</td>\n      <td>proveedor_2</td>\n      <td>GipsyTrade</td>\n      <td>Enlightened Dark Empire</td>\n      <td>Magornmar</td>\n      <td>METRO-SUR</td>\n      <td>Thrilvitar Industrail</td>\n      <td>METRO</td>\n      <td>V</td>\n    </tr>\n    <tr>\n      <th>1</th>\n      <td>4220015</td>\n      <td>2015-09-01</td>\n      <td>100</td>\n      <td>40.0</td>\n      <td>13.01</td>\n      <td>9.78</td>\n      <td>Clean Grey Jeweller</td>\n      <td>proveedor_1</td>\n      <td>Shop</td>\n      <td>Funny Lemon Star</td>\n      <td>Magornmar</td>\n      <td>METRO-SUR</td>\n      <td>Thrilthoal Empire</td>\n      <td>METRO</td>\n      <td>V</td>\n    </tr>\n    <tr>\n      <th>2</th>\n      <td>4220015</td>\n      <td>2015-09-01</td>\n      <td>121</td>\n      <td>20.0</td>\n      <td>13.01</td>\n      <td>9.78</td>\n      <td>Massive Purple HighShop</td>\n      <td>proveedor_1</td>\n      <td>Shop</td>\n      <td>Funny Lemon Star</td>\n      <td>Magornmar</td>\n      <td>METRO-SUR</td>\n      <td>Thrilthoal Empire</td>\n      <td>METRO</td>\n      <td>V</td>\n    </tr>\n    <tr>\n      <th>3</th>\n      <td>4220015</td>\n      <td>2015-09-01</td>\n      <td>129</td>\n      <td>40.0</td>\n      <td>13.01</td>\n      <td>9.78</td>\n      <td>Dirty Lavender SmallShop</td>\n      <td>proveedor_1</td>\n      <td>Shop</td>\n      <td>Funny Lemon Star</td>\n      <td>Magornmar</td>\n      <td>METRO-SUR</td>\n      <td>Ioalfio Ifonforge Industries</td>\n      <td>METRO</td>\n      <td>V</td>\n    </tr>\n    <tr>\n      <th>4</th>\n      <td>4220015</td>\n      <td>2015-09-01</td>\n      <td>231</td>\n      <td>20.0</td>\n      <td>13.01</td>\n      <td>9.78</td>\n      <td>Awesome Pink BigCom</td>\n      <td>proveedor_1</td>\n      <td>Shop</td>\n      <td>Interesting Green Pine</td>\n      <td>Alloralf</td>\n      <td>METRO-SUR</td>\n      <td>Ioalfio Ifonforge Industries</td>\n      <td>METRO</td>\n      <td>IV</td>\n    </tr>\n    <tr>\n      <th>5</th>\n      <td>4220015</td>\n      <td>2015-09-01</td>\n      <td>233</td>\n      <td>40.0</td>\n      <td>13.01</td>\n      <td>9.78</td>\n      <td>Defiant Silver Center</td>\n      <td>proveedor_1</td>\n      <td>Shop</td>\n      <td>Funny Lemon Star</td>\n      <td>Magornmar</td>\n      <td>METRO-SUR</td>\n      <td>Thrilthoal Empire</td>\n      <td>METRO</td>\n      <td>V</td>\n    </tr>\n    <tr>\n      <th>6</th>\n      <td>4220015</td>\n      <td>2015-09-01</td>\n      <td>238</td>\n      <td>60.0</td>\n      <td>13.09</td>\n      <td>9.87</td>\n      <td>Bloody Lime Convenience</td>\n      <td>proveedor_1</td>\n      <td>Shop</td>\n      <td>Clean Aqua Soil</td>\n      <td>Egusgul</td>\n      <td>CENTRO-SUR</td>\n      <td>Erodmad Industrail</td>\n      <td>FORANEO</td>\n      <td>IV</td>\n    </tr>\n    <tr>\n      <th>7</th>\n      <td>4220015</td>\n      <td>2015-09-01</td>\n      <td>239</td>\n      <td>40.0</td>\n      <td>13.01</td>\n      <td>9.78</td>\n      <td>Dirty Lemon Shop</td>\n      <td>proveedor_1</td>\n      <td>Shop</td>\n      <td>Young Orchid Capital</td>\n      <td>Magornmar</td>\n      <td>METRO-NORTE</td>\n      <td>Emolor Vocals</td>\n      <td>METRO</td>\n      <td>V</td>\n    </tr>\n    <tr>\n      <th>8</th>\n      <td>4220015</td>\n      <td>2015-09-01</td>\n      <td>240</td>\n      <td>20.0</td>\n      <td>13.01</td>\n      <td>9.78</td>\n      <td>Dull Navy BookShop</td>\n      <td>proveedor_1</td>\n      <td>Shop</td>\n      <td>Rare Lemon Key</td>\n      <td>Alloralf</td>\n      <td>METRO-SUR</td>\n      <td>Thrilthoal Empire</td>\n      <td>METRO</td>\n      <td>IV</td>\n    </tr>\n    <tr>\n      <th>9</th>\n      <td>4220015</td>\n      <td>2015-09-01</td>\n      <td>240</td>\n      <td>20.0</td>\n      <td>13.01</td>\n      <td>9.78</td>\n      <td>Dull Navy BookShop</td>\n      <td>proveedor_2</td>\n      <td>TinyShop</td>\n      <td>Rare Lemon Key</td>\n      <td>Alloralf</td>\n      <td>METRO-NORTE</td>\n      <td>Lorthogus Toughworks</td>\n      <td>METRO</td>\n      <td>IV</td>\n    </tr>\n    <tr>\n      <th>10</th>\n      <td>4220015</td>\n      <td>2015-09-01</td>\n      <td>260</td>\n      <td>40.0</td>\n      <td>13.01</td>\n      <td>9.78</td>\n      <td>Tiny Lemon GreatShop</td>\n      <td>proveedor_1</td>\n      <td>Shop</td>\n      <td>Rare Lemon Key</td>\n      <td>Alloralf</td>\n      <td>METRO-NORTE</td>\n      <td>Thrilvallor Corp.</td>\n      <td>METRO</td>\n      <td>IV</td>\n    </tr>\n  </tbody>\n</table>\n</div>"
     },
     "metadata": {},
     "execution_count": 77
    }
   ],
   "source": [
    "sellin3 = sellin.iloc[810:820, :]\n",
    "df_merge3 =  sellin3.merge(maestro_client)\n",
    "df_merge3"
   ]
  },
  {
   "cell_type": "code",
   "execution_count": 78,
   "metadata": {},
   "outputs": [
    {
     "output_type": "execute_result",
     "data": {
      "text/plain": [
       "             Sku       Date  Store_Id  Units  Price               Store_Name  \\\n",
       "4754299  4240039 2016-11-07      2568    3.0   16.7  Impressive Coral BigCom   \n",
       "4754300  4240039 2016-11-13      2568    1.0   16.8  Impressive Coral BigCom   \n",
       "4754301  4240039 2016-11-19      2568    3.0   16.8  Impressive Coral BigCom   \n",
       "4754302  4240039 2016-11-20      2568    2.0   16.8  Impressive Coral BigCom   \n",
       "4754303  4240039 2016-11-23      2568    3.0   16.8  Impressive Coral BigCom   \n",
       "...          ...        ...       ...    ...    ...                      ...   \n",
       "4754617  4655669 2016-11-29      2568    0.2   10.5  Impressive Coral BigCom   \n",
       "4754618  4655669 2016-12-12      2568    0.2   10.5  Impressive Coral BigCom   \n",
       "4754619  4655669 2016-12-14      2568    0.2   10.5  Impressive Coral BigCom   \n",
       "4754620  4655669 2016-12-26      2568    0.4   10.5  Impressive Coral BigCom   \n",
       "4754621  4655669 2016-12-30      2568    0.2   11.3  Impressive Coral BigCom   \n",
       "\n",
       "            Supplier   Format        Town_or_City     State   Division  \\\n",
       "4754299  proveedor_2  Grocery  First Yellow Tower  Mobartho  PENÍNSULA   \n",
       "4754300  proveedor_2  Grocery  First Yellow Tower  Mobartho  PENÍNSULA   \n",
       "4754301  proveedor_2  Grocery  First Yellow Tower  Mobartho  PENÍNSULA   \n",
       "4754302  proveedor_2  Grocery  First Yellow Tower  Mobartho  PENÍNSULA   \n",
       "4754303  proveedor_2  Grocery  First Yellow Tower  Mobartho  PENÍNSULA   \n",
       "...              ...      ...                 ...       ...        ...   \n",
       "4754617  proveedor_2  Grocery  First Yellow Tower  Mobartho  PENÍNSULA   \n",
       "4754618  proveedor_2  Grocery  First Yellow Tower  Mobartho  PENÍNSULA   \n",
       "4754619  proveedor_2  Grocery  First Yellow Tower  Mobartho  PENÍNSULA   \n",
       "4754620  proveedor_2  Grocery  First Yellow Tower  Mobartho  PENÍNSULA   \n",
       "4754621  proveedor_2  Grocery  First Yellow Tower  Mobartho  PENÍNSULA   \n",
       "\n",
       "                Distributor Structure Grade  \n",
       "4754299  Valarar Toughworks   FORANEO    VI  \n",
       "4754300  Valarar Toughworks   FORANEO    VI  \n",
       "4754301  Valarar Toughworks   FORANEO    VI  \n",
       "4754302  Valarar Toughworks   FORANEO    VI  \n",
       "4754303  Valarar Toughworks   FORANEO    VI  \n",
       "...                     ...       ...   ...  \n",
       "4754617  Valarar Toughworks   FORANEO    VI  \n",
       "4754618  Valarar Toughworks   FORANEO    VI  \n",
       "4754619  Valarar Toughworks   FORANEO    VI  \n",
       "4754620  Valarar Toughworks   FORANEO    VI  \n",
       "4754621  Valarar Toughworks   FORANEO    VI  \n",
       "\n",
       "[323 rows x 14 columns]"
      ],
      "text/html": "<div>\n<style scoped>\n    .dataframe tbody tr th:only-of-type {\n        vertical-align: middle;\n    }\n\n    .dataframe tbody tr th {\n        vertical-align: top;\n    }\n\n    .dataframe thead th {\n        text-align: right;\n    }\n</style>\n<table border=\"1\" class=\"dataframe\">\n  <thead>\n    <tr style=\"text-align: right;\">\n      <th></th>\n      <th>Sku</th>\n      <th>Date</th>\n      <th>Store_Id</th>\n      <th>Units</th>\n      <th>Price</th>\n      <th>Store_Name</th>\n      <th>Supplier</th>\n      <th>Format</th>\n      <th>Town_or_City</th>\n      <th>State</th>\n      <th>Division</th>\n      <th>Distributor</th>\n      <th>Structure</th>\n      <th>Grade</th>\n    </tr>\n  </thead>\n  <tbody>\n    <tr>\n      <th>4754299</th>\n      <td>4240039</td>\n      <td>2016-11-07</td>\n      <td>2568</td>\n      <td>3.0</td>\n      <td>16.7</td>\n      <td>Impressive Coral BigCom</td>\n      <td>proveedor_2</td>\n      <td>Grocery</td>\n      <td>First Yellow Tower</td>\n      <td>Mobartho</td>\n      <td>PENÍNSULA</td>\n      <td>Valarar Toughworks</td>\n      <td>FORANEO</td>\n      <td>VI</td>\n    </tr>\n    <tr>\n      <th>4754300</th>\n      <td>4240039</td>\n      <td>2016-11-13</td>\n      <td>2568</td>\n      <td>1.0</td>\n      <td>16.8</td>\n      <td>Impressive Coral BigCom</td>\n      <td>proveedor_2</td>\n      <td>Grocery</td>\n      <td>First Yellow Tower</td>\n      <td>Mobartho</td>\n      <td>PENÍNSULA</td>\n      <td>Valarar Toughworks</td>\n      <td>FORANEO</td>\n      <td>VI</td>\n    </tr>\n    <tr>\n      <th>4754301</th>\n      <td>4240039</td>\n      <td>2016-11-19</td>\n      <td>2568</td>\n      <td>3.0</td>\n      <td>16.8</td>\n      <td>Impressive Coral BigCom</td>\n      <td>proveedor_2</td>\n      <td>Grocery</td>\n      <td>First Yellow Tower</td>\n      <td>Mobartho</td>\n      <td>PENÍNSULA</td>\n      <td>Valarar Toughworks</td>\n      <td>FORANEO</td>\n      <td>VI</td>\n    </tr>\n    <tr>\n      <th>4754302</th>\n      <td>4240039</td>\n      <td>2016-11-20</td>\n      <td>2568</td>\n      <td>2.0</td>\n      <td>16.8</td>\n      <td>Impressive Coral BigCom</td>\n      <td>proveedor_2</td>\n      <td>Grocery</td>\n      <td>First Yellow Tower</td>\n      <td>Mobartho</td>\n      <td>PENÍNSULA</td>\n      <td>Valarar Toughworks</td>\n      <td>FORANEO</td>\n      <td>VI</td>\n    </tr>\n    <tr>\n      <th>4754303</th>\n      <td>4240039</td>\n      <td>2016-11-23</td>\n      <td>2568</td>\n      <td>3.0</td>\n      <td>16.8</td>\n      <td>Impressive Coral BigCom</td>\n      <td>proveedor_2</td>\n      <td>Grocery</td>\n      <td>First Yellow Tower</td>\n      <td>Mobartho</td>\n      <td>PENÍNSULA</td>\n      <td>Valarar Toughworks</td>\n      <td>FORANEO</td>\n      <td>VI</td>\n    </tr>\n    <tr>\n      <th>...</th>\n      <td>...</td>\n      <td>...</td>\n      <td>...</td>\n      <td>...</td>\n      <td>...</td>\n      <td>...</td>\n      <td>...</td>\n      <td>...</td>\n      <td>...</td>\n      <td>...</td>\n      <td>...</td>\n      <td>...</td>\n      <td>...</td>\n      <td>...</td>\n    </tr>\n    <tr>\n      <th>4754617</th>\n      <td>4655669</td>\n      <td>2016-11-29</td>\n      <td>2568</td>\n      <td>0.2</td>\n      <td>10.5</td>\n      <td>Impressive Coral BigCom</td>\n      <td>proveedor_2</td>\n      <td>Grocery</td>\n      <td>First Yellow Tower</td>\n      <td>Mobartho</td>\n      <td>PENÍNSULA</td>\n      <td>Valarar Toughworks</td>\n      <td>FORANEO</td>\n      <td>VI</td>\n    </tr>\n    <tr>\n      <th>4754618</th>\n      <td>4655669</td>\n      <td>2016-12-12</td>\n      <td>2568</td>\n      <td>0.2</td>\n      <td>10.5</td>\n      <td>Impressive Coral BigCom</td>\n      <td>proveedor_2</td>\n      <td>Grocery</td>\n      <td>First Yellow Tower</td>\n      <td>Mobartho</td>\n      <td>PENÍNSULA</td>\n      <td>Valarar Toughworks</td>\n      <td>FORANEO</td>\n      <td>VI</td>\n    </tr>\n    <tr>\n      <th>4754619</th>\n      <td>4655669</td>\n      <td>2016-12-14</td>\n      <td>2568</td>\n      <td>0.2</td>\n      <td>10.5</td>\n      <td>Impressive Coral BigCom</td>\n      <td>proveedor_2</td>\n      <td>Grocery</td>\n      <td>First Yellow Tower</td>\n      <td>Mobartho</td>\n      <td>PENÍNSULA</td>\n      <td>Valarar Toughworks</td>\n      <td>FORANEO</td>\n      <td>VI</td>\n    </tr>\n    <tr>\n      <th>4754620</th>\n      <td>4655669</td>\n      <td>2016-12-26</td>\n      <td>2568</td>\n      <td>0.4</td>\n      <td>10.5</td>\n      <td>Impressive Coral BigCom</td>\n      <td>proveedor_2</td>\n      <td>Grocery</td>\n      <td>First Yellow Tower</td>\n      <td>Mobartho</td>\n      <td>PENÍNSULA</td>\n      <td>Valarar Toughworks</td>\n      <td>FORANEO</td>\n      <td>VI</td>\n    </tr>\n    <tr>\n      <th>4754621</th>\n      <td>4655669</td>\n      <td>2016-12-30</td>\n      <td>2568</td>\n      <td>0.2</td>\n      <td>11.3</td>\n      <td>Impressive Coral BigCom</td>\n      <td>proveedor_2</td>\n      <td>Grocery</td>\n      <td>First Yellow Tower</td>\n      <td>Mobartho</td>\n      <td>PENÍNSULA</td>\n      <td>Valarar Toughworks</td>\n      <td>FORANEO</td>\n      <td>VI</td>\n    </tr>\n  </tbody>\n</table>\n<p>323 rows × 14 columns</p>\n</div>"
     },
     "metadata": {},
     "execution_count": 78
    }
   ],
   "source": [
    "store_id = 2568\n",
    "\n",
    "df_finalmerge_prov.loc[(df_finalmerge_prov[\"Store_Id\"] == store_id),:]"
   ]
  }
 ]
}